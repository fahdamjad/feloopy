{
 "cells": [
  {
   "attachments": {},
   "cell_type": "markdown",
   "metadata": {},
   "source": [
    "![dpp](./img/examples.png)"
   ]
  },
  {
   "attachments": {},
   "cell_type": "markdown",
   "metadata": {},
   "source": [
    "\n",
    "# Knapsack Problem"
   ]
  },
  {
   "attachments": {},
   "cell_type": "markdown",
   "metadata": {},
   "source": [
    "--------------------\n",
    "* Developed by _Keivan Tafakkori_\n",
    "* Date: 19-4-2023\n",
    "* Contact: https://www.linkedin.com/in/keivan-tafakkori/\n",
    "* GitHub: https://github.com/ktafakkori\n",
    "--------------------"
   ]
  },
  {
   "attachments": {},
   "cell_type": "markdown",
   "metadata": {},
   "source": [
    "### Exact optimization"
   ]
  },
  {
   "attachments": {},
   "cell_type": "markdown",
   "metadata": {},
   "source": [
    "### Packages"
   ]
  },
  {
   "cell_type": "code",
   "execution_count": 1,
   "metadata": {},
   "outputs": [],
   "source": [
    "from feloopy import *"
   ]
  },
  {
   "attachments": {},
   "cell_type": "markdown",
   "metadata": {},
   "source": [
    "### Setting"
   ]
  },
  {
   "cell_type": "code",
   "execution_count": 2,
   "metadata": {},
   "outputs": [],
   "source": [
    "problem_name = 'kp'\n",
    "solution_method = 'exact'\n",
    "interface = 'gurobi'\n",
    "solver = 'gurobi'\n",
    "key = 0"
   ]
  },
  {
   "attachments": {},
   "cell_type": "markdown",
   "metadata": {},
   "source": [
    "### Model"
   ]
  },
  {
   "cell_type": "code",
   "execution_count": 3,
   "metadata": {},
   "outputs": [
    {
     "name": "stdout",
     "output_type": "stream",
     "text": [
      "Restricted license - for non-production use only - expires 2024-10-28\n"
     ]
    }
   ],
   "source": [
    "#Environment\n",
    "m = target_model(solution_method, problem_name, interface, key=key)\n",
    "\n",
    "#Sets\n",
    "J = range(7)  # Set of the items\n",
    "\n",
    "#Dataset\n",
    "w = [40, 50, 30, 10, 10, 40, 30]  # Weight of the items\n",
    "W = 100  # Capacity of the knapsack\n",
    "p = [40, 60, 10, 10, 3, 20, 60]  # Value of the items\n",
    "\n",
    "#Variables\n",
    "x = m.bvar('x', [J])\n",
    "\n",
    "# Objective\n",
    "m.obj(sum(p[j]*x[j] for j in J))\n",
    "\n",
    "# Constraints\n",
    "m.con(sum(w[j]*x[j] for j in J) <= W)\n",
    "    \n",
    "#Solve\n",
    "m.sol(['max'], solver)"
   ]
  },
  {
   "attachments": {},
   "cell_type": "markdown",
   "metadata": {},
   "source": [
    "### Result"
   ]
  },
  {
   "cell_type": "code",
   "execution_count": 4,
   "metadata": {},
   "outputs": [
    {
     "name": "stdout",
     "output_type": "stream",
     "text": [
      "\n",
      "~~~~~~~~~~~~~~\n",
      "FELOOPY v0.2.4\n",
      "~~~~~~~~~~~~~~\n",
      "\n",
      "~~~~~~~~~~~\n",
      "DATE & TIME\n",
      "~~~~~~~~~~~\n",
      "2023-04-19 01:05:45\n",
      "Wed, Apr 19, 2023\n",
      "\n",
      "~~~~~~~~~~~~\n",
      "PROBLEM INFO\n",
      "~~~~~~~~~~~~\n",
      "| info      | detail   | variable   | count [cat,tot]   | other      | count [cat,tot]    |\n",
      "|-----------|----------|------------|-------------------|------------|--------------------|\n",
      "| model     | kp       | positive   | [0, 0]            | objective  | [1, 1]             |\n",
      "| interface | gurobi   | binary     | [1, 7]            | constraint | [1, 1]             |\n",
      "| solver    | gurobi   | integer    | [0, 0]            |            |                    |\n",
      "| direction | ['max']  | free       | [0, 0]            |            |                    |\n",
      "| method    | exact    | tot        | [1, 7]            |            |                    |\n",
      "~~~~~~~~~~~~\n",
      "\n",
      "~~~~~~~~~~\n",
      "SOLVE INFO\n",
      "~~~~~~~~~~\n",
      "status:  optimal\n",
      "objective:  133.0\n",
      "cpu time [gurobi]:  23293.500000008295 (microseconds) 00:00:00 (h, m, s)\n",
      "~~~~~~~~~~~\n",
      "\n",
      "~~~~~~~~~~\n",
      "MODEL INFO\n",
      "~~~~~~~~~~\n",
      "name: kp\n",
      "objective: max 40.0 x0 + 60.0 x1 + 10.0 x2 + 10.0 x3 + 3.0 x4 + 20.0 x5 + 60.0 x6\n",
      "subject to:\n",
      "constraint 0: <gurobi.TempConstr: 40.0 x0 + 50.0 x1 + 30.0 x2 + 10.0 x3 + 10.0 x4 + 40.0 x5 + 30.0 x6 <= 100>\n",
      "~~~~~~~~~~\n",
      "\n",
      "item 1 is selected.\n",
      "item 3 is selected.\n",
      "item 4 is selected.\n",
      "item 6 is selected.\n"
     ]
    }
   ],
   "source": [
    "#Report\n",
    "m.report()\n",
    "\n",
    "#Display\n",
    "for j in J:\n",
    "    if m.get(x[j])==1:\n",
    "        print(f\"item {j} is selected.\")"
   ]
  },
  {
   "attachments": {},
   "cell_type": "markdown",
   "metadata": {},
   "source": [
    "### Heruistic optimization"
   ]
  },
  {
   "attachments": {},
   "cell_type": "markdown",
   "metadata": {},
   "source": [
    "### Setting"
   ]
  },
  {
   "cell_type": "code",
   "execution_count": 5,
   "metadata": {},
   "outputs": [],
   "source": [
    "problem_name = 'kp'\n",
    "solution_method = 'heuristic'\n",
    "interface = 'feloopy'\n",
    "solver = 'GA'\n",
    "key = 0"
   ]
  },
  {
   "attachments": {},
   "cell_type": "markdown",
   "metadata": {},
   "source": [
    "### Model"
   ]
  },
  {
   "cell_type": "code",
   "execution_count": 6,
   "metadata": {},
   "outputs": [],
   "source": [
    "def instance(X):\n",
    "\n",
    "    # Environment\n",
    "    m = model('heuristic', 'kp', 'feloopy', X)\n",
    "\n",
    "    # Sets\n",
    "    J = range(7)  # Set of the items\n",
    "\n",
    "    # Parameters\n",
    "    w = [40, 50, 30, 10, 10, 40, 30]  # Weight of the items\n",
    "    W = 100  # Capacity of the knapsack\n",
    "    p = [40, 60, 10, 10, 3, 20, 60]  # Value of the items\n",
    "\n",
    "    # Variables\n",
    "    x = m.bvar('x', [J])\n",
    "\n",
    "    # Objective\n",
    "    m.obj(sum(p[j]*x[:,j] for j in J))\n",
    "\n",
    "    # Constraints\n",
    "    m.con(sum(w[j]*x[:,j] for j in J) |l| W)\n",
    "\n",
    "    # Solve\n",
    "    m.sol(['max'], 'GA')\n",
    "\n",
    "    return m[X]\n",
    "\n",
    "m = make_model(instance)\n",
    "\n",
    "m.sol(penalty_coefficient=10)"
   ]
  },
  {
   "attachments": {},
   "cell_type": "markdown",
   "metadata": {},
   "source": [
    "### Result"
   ]
  },
  {
   "cell_type": "code",
   "execution_count": 7,
   "metadata": {},
   "outputs": [
    {
     "name": "stdout",
     "output_type": "stream",
     "text": [
      "\n",
      "~~~~~~~~~~~~~~\n",
      "FELOOPY v0.2.4\n",
      "~~~~~~~~~~~~~~\n",
      "\n",
      "~~~~~~~~~~~\n",
      "DATE & TIME\n",
      "~~~~~~~~~~~\n",
      "2023-04-19 01:05:45\n",
      "Wed, Apr 19, 2023\n",
      "\n",
      "\n",
      "~~~~~~~~~~~~\n",
      "PROBLEM INFO\n",
      "~~~~~~~~~~~~\n",
      "| info      | detail    | variable   | count [cat,tot]   | other      | count [cat,tot]    |\n",
      "|-----------|-----------|------------|-------------------|------------|--------------------|\n",
      "| model     | kp        | positive   | [0, 0]            | objective  | [1, 1]             |\n",
      "| interface | feloopy   | binary     | [1, 7]            | constraint | [1, 1]             |\n",
      "| solver    | GA        | integer    | [0, 0]            |            |                    |\n",
      "| direction | ['max']   | free       | [0, 0]            |            |                    |\n",
      "| method    | heuristic | tot        | [1, 7]            |            |                    |\n",
      "~~~~~~~~~~~~\n",
      "\n",
      "~~~~~~~~~~\n",
      "SOLVE INFO\n",
      "~~~~~~~~~~\n",
      "objective:  133.0\n",
      "cpu time [feloopy]:  144648.69999997632 (microseconds) 00:00:00 (h, m, s)\n",
      "~~~~~~~~~\n",
      "\n",
      "item 1 is selected.\n",
      "item 3 is selected.\n",
      "item 4 is selected.\n",
      "item 6 is selected.\n"
     ]
    }
   ],
   "source": [
    "# Report\n",
    "m.report()\n",
    "\n",
    "# Display\n",
    "for j in J:\n",
    "    if m.get(['x',(j,)])==1:\n",
    "        print(f\"item {j} is selected.\")"
   ]
  }
 ],
 "metadata": {
  "kernelspec": {
   "display_name": "Python 3",
   "language": "python",
   "name": "python3"
  },
  "language_info": {
   "codemirror_mode": {
    "name": "ipython",
    "version": 3
   },
   "file_extension": ".py",
   "mimetype": "text/x-python",
   "name": "python",
   "nbconvert_exporter": "python",
   "pygments_lexer": "ipython3",
   "version": "3.10.0"
  },
  "orig_nbformat": 4
 },
 "nbformat": 4,
 "nbformat_minor": 2
}
