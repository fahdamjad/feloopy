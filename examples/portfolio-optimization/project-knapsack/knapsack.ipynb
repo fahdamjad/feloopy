{
 "cells": [
  {
   "attachments": {},
   "cell_type": "markdown",
   "metadata": {},
   "source": [
    "![dpp](./img/examples.png)"
   ]
  },
  {
   "attachments": {},
   "cell_type": "markdown",
   "metadata": {},
   "source": [
    "\n",
    "# Knapsack Problem"
   ]
  },
  {
   "attachments": {},
   "cell_type": "markdown",
   "metadata": {},
   "source": [
    "--------------------\n",
    "* Developed by _Keivan Tafakkori_\n",
    "* Date: 19-4-2023\n",
    "* Contact: https://www.linkedin.com/in/keivan-tafakkori/\n",
    "* GitHub: https://github.com/ktafakkori\n",
    "--------------------"
   ]
  },
  {
   "attachments": {},
   "cell_type": "markdown",
   "metadata": {},
   "source": [
    "### Exact optimization"
   ]
  },
  {
   "attachments": {},
   "cell_type": "markdown",
   "metadata": {},
   "source": [
    "### Packages"
   ]
  },
  {
   "cell_type": "code",
   "execution_count": 1,
   "metadata": {},
   "outputs": [],
   "source": [
    "from feloopy import *"
   ]
  },
  {
   "attachments": {},
   "cell_type": "markdown",
   "metadata": {},
   "source": [
    "### Setting"
   ]
  },
  {
   "cell_type": "code",
   "execution_count": 2,
   "metadata": {},
   "outputs": [],
   "source": [
    "problem_name = 'kp'\n",
    "solution_method = 'exact'\n",
    "interface = 'gurobi'\n",
    "solver = 'gurobi'\n",
    "key = 0"
   ]
  },
  {
   "attachments": {},
   "cell_type": "markdown",
   "metadata": {},
   "source": [
    "### Model"
   ]
  },
  {
   "cell_type": "code",
   "execution_count": 3,
   "metadata": {},
   "outputs": [
    {
     "name": "stdout",
     "output_type": "stream",
     "text": [
      "Restricted license - for non-production use only - expires 2024-10-28\n"
     ]
    }
   ],
   "source": [
    "#Environment\n",
    "m = target_model(solution_method, problem_name, interface, key=key)\n",
    "\n",
    "#Sets\n",
    "J = range(7)  # Set of the items\n",
    "\n",
    "#Dataset\n",
    "w = [40, 50, 30, 10, 10, 40, 30]  # Weight of the items\n",
    "W = 100  # Capacity of the knapsack\n",
    "p = [40, 60, 10, 10, 3, 20, 60]  # Value of the items\n",
    "\n",
    "#Variables\n",
    "x = m.bvar('x', [J])\n",
    "\n",
    "# Objective\n",
    "m.obj(sum(p[j]*x[j] for j in J))\n",
    "\n",
    "# Constraints\n",
    "m.con(sum(w[j]*x[j] for j in J) <= W)\n",
    "    \n",
    "#Solve\n",
    "m.sol(['max'], solver)"
   ]
  },
  {
   "attachments": {},
   "cell_type": "markdown",
   "metadata": {},
   "source": [
    "### Result"
   ]
  },
  {
   "cell_type": "code",
   "execution_count": 4,
   "metadata": {},
   "outputs": [
    {
     "name": "stdout",
     "output_type": "stream",
     "text": [
      "\n",
      "+--------------------------------------------------------------------------------+\n",
      "|                                 FelooPy v0.2.5                                 |\n",
      "+--------------------------------------------------------------------------------+\n",
      "| Date: 2023-05-27                                                Time: 18:59:27 |\n",
      "| Interface: gurobi                                               Solver: gurobi |\n",
      "+--------------------------------------------------------------------------------+\n",
      "|                               Model Information                                |\n",
      "+--------------------------------------------------------------------------------+\n",
      "|                              The 'kp' model has:                               |\n",
      "|                      7 binary variable(s) in 1 class(es).                      |\n",
      "|                                1 objective(s).                                 |\n",
      "|                        1 constraint(s) in 1 class(es).                         |\n",
      "|                 Total number of variables is 7 in 7 class(es).                 |\n",
      "+--------------------------------------------------------------------------------+\n",
      "|                               Solve Information                                |\n",
      "+--------------------------------------------------------------------------------+\n",
      "| Method: exact                                               Objective Value(s) |\n",
      "| Status:                                                                    max |\n",
      "| optimal                                                                 133.00 |\n",
      "+--------------------------------------------------------------------------------+\n",
      "|                               Metric Information                               |\n",
      "+--------------------------------------------------------------------------------+\n",
      "| CPT   (microseconds):  1445.19                                                 |\n",
      "| CPT   (hour:min:sec):  00:00:00                                                |\n",
      "+--------------------------------------------------------------------------------+\n",
      "|                              Decision Information                              |\n",
      "+--------------------------------------------------------------------------------+\n",
      "| x[1] = 1.0                                                                     |\n",
      "| x[3] = 1.0                                                                     |\n",
      "| x[4] = 1.0                                                                     |\n",
      "| x[6] = 1.0                                                                     |\n",
      "+--------------------------------------------------------------------------------+\n",
      "item 1 is selected.\n",
      "item 3 is selected.\n",
      "item 4 is selected.\n",
      "item 6 is selected.\n"
     ]
    }
   ],
   "source": [
    "#Report\n",
    "m.report()\n",
    "\n",
    "#Display\n",
    "for j in J:\n",
    "    if m.get(x[j])==1:\n",
    "        print(f\"item {j} is selected.\")"
   ]
  },
  {
   "attachments": {},
   "cell_type": "markdown",
   "metadata": {},
   "source": [
    "### Heruistic optimization"
   ]
  },
  {
   "attachments": {},
   "cell_type": "markdown",
   "metadata": {},
   "source": [
    "### Setting"
   ]
  },
  {
   "cell_type": "code",
   "execution_count": 5,
   "metadata": {},
   "outputs": [],
   "source": [
    "problem_name = 'kp'\n",
    "solution_method = 'heuristic'\n",
    "interface = 'mealpy'\n",
    "solver = 'base-ga'\n",
    "key = 0"
   ]
  },
  {
   "attachments": {},
   "cell_type": "markdown",
   "metadata": {},
   "source": [
    "### Model"
   ]
  },
  {
   "cell_type": "code",
   "execution_count": 6,
   "metadata": {},
   "outputs": [],
   "source": [
    "def instance(X):\n",
    "\n",
    "    # Environment\n",
    "    m = model(solution_method, problem_name, interface, X)\n",
    "\n",
    "    # Sets\n",
    "    J = range(7)  # Set of the items\n",
    "\n",
    "    # Parameters\n",
    "    w = [40, 50, 30, 10, 10, 40, 30]  # Weight of the items\n",
    "    W = 100  # Capacity of the knapsack\n",
    "    p = [40, 60, 10, 10, 3, 20, 60]  # Value of the items\n",
    "\n",
    "    # Variables\n",
    "    x = m.bvar('x', [J])\n",
    "\n",
    "    # Objective\n",
    "    m.obj(sum(p[j]*x[j] for j in J))\n",
    "\n",
    "    # Constraints\n",
    "    m.con(sum(w[j]*x[j] for j in J) |l| W)\n",
    "\n",
    "    # Solve\n",
    "    m.sol(['max'], solver, {'epoch':10})\n",
    "\n",
    "    return m[X]\n",
    "\n",
    "m = make_model(instance)\n",
    "\n",
    "m.sol(penalty_coefficient=0.1)"
   ]
  },
  {
   "cell_type": "code",
   "execution_count": 7,
   "metadata": {},
   "outputs": [
    {
     "name": "stdout",
     "output_type": "stream",
     "text": [
      "status: feasible (constrained)\n"
     ]
    }
   ],
   "source": [
    "m.dis_status()"
   ]
  },
  {
   "attachments": {},
   "cell_type": "markdown",
   "metadata": {},
   "source": [
    "### Result"
   ]
  },
  {
   "cell_type": "code",
   "execution_count": 8,
   "metadata": {},
   "outputs": [
    {
     "name": "stdout",
     "output_type": "stream",
     "text": [
      "\n",
      "+--------------------------------------------------------------------------------+\n",
      "|                                 FelooPy v0.2.5                                 |\n",
      "+--------------------------------------------------------------------------------+\n",
      "| Date: 2023-05-27                                                Time: 18:59:28 |\n",
      "| Interface: mealpy                                              Solver: base-ga |\n",
      "+--------------------------------------------------------------------------------+\n",
      "|                               Model Information                                |\n",
      "+--------------------------------------------------------------------------------+\n",
      "|                              The 'kp' model has:                               |\n",
      "|                      7 binary variable(s) in 1 class(es).                      |\n",
      "|                                1 objective(s).                                 |\n",
      "|                        1 constraint(s) in 1 class(es).                         |\n",
      "|                 Total number of variables is 7 in 7 class(es).                 |\n",
      "+--------------------------------------------------------------------------------+\n",
      "|                               Solve Information                                |\n",
      "+--------------------------------------------------------------------------------+\n",
      "| Method: heuristic                                           Objective Value(s) |\n",
      "| Status:                                                                    max |\n",
      "| feasible (constrained)                                                  133.00 |\n",
      "+--------------------------------------------------------------------------------+\n",
      "|                               Metric Information                               |\n",
      "+--------------------------------------------------------------------------------+\n",
      "| CPT   (microseconds):  6.69e+05                                                |\n",
      "| CPT   (hour:min:sec):  00:00:00                                                |\n",
      "+--------------------------------------------------------------------------------+\n",
      "|                              Decision Information                              |\n",
      "+--------------------------------------------------------------------------------+\n",
      "| x[1] = 1.0                                                                     |\n",
      "| x[3] = 1.0                                                                     |\n",
      "| x[4] = 1.0                                                                     |\n",
      "| x[6] = 1.0                                                                     |\n",
      "+--------------------------------------------------------------------------------+\n"
     ]
    }
   ],
   "source": [
    "# Report\n",
    "m.report()"
   ]
  }
 ],
 "metadata": {
  "kernelspec": {
   "display_name": "Python 3",
   "language": "python",
   "name": "python3"
  },
  "language_info": {
   "codemirror_mode": {
    "name": "ipython",
    "version": 3
   },
   "file_extension": ".py",
   "mimetype": "text/x-python",
   "name": "python",
   "nbconvert_exporter": "python",
   "pygments_lexer": "ipython3",
   "version": "3.10.9"
  },
  "orig_nbformat": 4
 },
 "nbformat": 4,
 "nbformat_minor": 2
}
