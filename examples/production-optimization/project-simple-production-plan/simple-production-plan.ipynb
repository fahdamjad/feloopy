{
 "cells": [
  {
   "attachments": {},
   "cell_type": "markdown",
   "metadata": {},
   "source": [
    "# Simple Production Plan Problem"
   ]
  },
  {
   "attachments": {},
   "cell_type": "markdown",
   "metadata": {},
   "source": [
    "--------------------\n",
    "* Developed by _Keivan Tafakkori_\n",
    "* Date: 18-4-2023\n",
    "* Contact: https://www.linkedin.com/in/keivan-tafakkori/\n",
    "* Github: https://github.com/ktafakkori\n",
    "--------------------"
   ]
  },
  {
   "attachments": {},
   "cell_type": "markdown",
   "metadata": {},
   "source": [
    "### Packages"
   ]
  },
  {
   "cell_type": "code",
   "execution_count": 5,
   "metadata": {},
   "outputs": [],
   "source": [
    "from feloopy import *"
   ]
  },
  {
   "attachments": {},
   "cell_type": "markdown",
   "metadata": {},
   "source": [
    "### Setting"
   ]
  },
  {
   "cell_type": "code",
   "execution_count": 6,
   "metadata": {},
   "outputs": [],
   "source": [
    "problem_name = 'spp'\n",
    "solution_method = 'exact'\n",
    "interface = 'ortools'\n",
    "solver = 'cbc'\n",
    "key = 0"
   ]
  },
  {
   "attachments": {},
   "cell_type": "markdown",
   "metadata": {},
   "source": [
    "### Model"
   ]
  },
  {
   "cell_type": "code",
   "execution_count": 7,
   "metadata": {},
   "outputs": [],
   "source": [
    "#Environment\n",
    "m = target_model(solution_method, problem_name, interface, key=key)\n",
    "\n",
    "#Sets\n",
    "I  = m.set(10)\n",
    "R  = m.set(3) \n",
    "\n",
    "#Dataset\n",
    "p = load_from_excel('data.xlsx', [I], [1], ['i'], 'profit') \n",
    "a = load_from_excel('data.xlsx', [I,R], [1,1], ['i','r'], 'usage') \n",
    "b = load_from_excel('data.xlsx', [R], [1], ['r'], 'resource')\n",
    "\n",
    "#Variables\n",
    "x = m.pvar('production', [I])\n",
    "\n",
    "#Objective\n",
    "m.obj(sum(p[i]*x[i] for i in I))\n",
    "\n",
    "#Constraints\n",
    "for r in R:\n",
    "    m.con(sum(a[i,r]*x[i] for i in I) <= b[r])\n",
    "\n",
    "#Solve\n",
    "m.sol(['max'],solver)"
   ]
  },
  {
   "attachments": {},
   "cell_type": "markdown",
   "metadata": {},
   "source": [
    "### Result"
   ]
  },
  {
   "cell_type": "code",
   "execution_count": 8,
   "metadata": {},
   "outputs": [
    {
     "name": "stdout",
     "output_type": "stream",
     "text": [
      "\n",
      "~~~~~~~~~~~~~~\n",
      "FELOOPY v0.2.4\n",
      "~~~~~~~~~~~~~~\n",
      "\n",
      "~~~~~~~~~~~\n",
      "DATE & TIME\n",
      "~~~~~~~~~~~\n",
      "2023-04-18 00:45:39\n",
      "Tue, Apr 18, 2023\n",
      "\n",
      "~~~~~~~~~~~~\n",
      "PROBLEM INFO\n",
      "~~~~~~~~~~~~\n",
      "| info      | detail   | variable   | count [cat,tot]   | other      | count [cat,tot]    |\n",
      "|-----------|----------|------------|-------------------|------------|--------------------|\n",
      "| model     | spp      | positive   | [1, 10]           | objective  | [1, 1]             |\n",
      "| interface | ortools  | binary     | [0, 0]            | constraint | [1, 3]             |\n",
      "| solver    | cbc      | integer    | [0, 0]            |            |                    |\n",
      "| direction | ['max']  | free       | [0, 0]            |            |                    |\n",
      "| method    | exact    | tot        | [1, 10]           |            |                    |\n",
      "~~~~~~~~~~~~\n",
      "\n",
      "~~~~~~~~~~\n",
      "SOLVE INFO\n",
      "~~~~~~~~~~\n",
      "status:  optimal\n",
      "objective:  10331.672864114415\n",
      "cpu time [ortools]:  20040.29999807244 (microseconds) 00:00:00 (h, m, s)\n",
      "~~~~~~~~~~~\n",
      "\n",
      "~~~~~~~~~~\n",
      "MODEL INFO\n",
      "~~~~~~~~~~\n",
      "name: spp\n",
      "objective: max (((((((((((10.866712811054821 * <ortools.linear_solver.linear_solver_natural_api.VariableExpr object at 0x000002066C6840D0>) + 0) + (14.93973351645775 * <ortools.linear_solver.linear_solver_natural_api.VariableExpr object at 0x000002066C7AF160>)) + (14.588697712872388 * <ortools.linear_solver.linear_solver_natural_api.VariableExpr object at 0x000002066C7ADED0>)) + (15.0 * <ortools.linear_solver.linear_solver_natural_api.VariableExpr object at 0x000002066C7AEDD0>)) + (13.42052630133578 * <ortools.linear_solver.linear_solver_natural_api.VariableExpr object at 0x000002066C7AFC70>)) + (19.206164405249297 * <ortools.linear_solver.linear_solver_natural_api.VariableExpr object at 0x000002066C7AD480>)) + (11.229723266054027 * <ortools.linear_solver.linear_solver_natural_api.VariableExpr object at 0x000002066C7AC220>)) + (16.680080316573072 * <ortools.linear_solver.linear_solver_natural_api.VariableExpr object at 0x000002066C7AC3A0>)) + (13.791984717319293 * <ortools.linear_solver.linear_solver_natural_api.VariableExpr object at 0x000002066C7AC4F0>)) + (13.323842133668402 * <ortools.linear_solver.linear_solver_natural_api.VariableExpr object at 0x000002066C7AC550>))\n",
      "subject to:\n",
      "constraint 0: (((((((((((20 * <ortools.linear_solver.linear_solver_natural_api.VariableExpr object at 0x000002066BD2FEB0>) + 0) + (0 * <ortools.linear_solver.linear_solver_natural_api.VariableExpr object at 0x000002066C7AC850>)) + (10 * <ortools.linear_solver.linear_solver_natural_api.VariableExpr object at 0x000002066C7AC940>)) + (10 * <ortools.linear_solver.linear_solver_natural_api.VariableExpr object at 0x000002066C7AC970>)) + (0 * <ortools.linear_solver.linear_solver_natural_api.VariableExpr object at 0x000002066C7ACAF0>)) + (16 * <ortools.linear_solver.linear_solver_natural_api.VariableExpr object at 0x000002066C7ACD60>)) + (10 * <ortools.linear_solver.linear_solver_natural_api.VariableExpr object at 0x000002066C7ACD30>)) + (0 * <ortools.linear_solver.linear_solver_natural_api.VariableExpr object at 0x000002066C7ACE80>)) + (0 * <ortools.linear_solver.linear_solver_natural_api.VariableExpr object at 0x000002066C7AF2B0>)) + (10 * <ortools.linear_solver.linear_solver_natural_api.VariableExpr object at 0x000002066C7AE0B0>)) <= 2000\n",
      "constraint 1: (((((((((((9 * <ortools.linear_solver.linear_solver_natural_api.VariableExpr object at 0x000002066C7AD090>) + 0) + (5 * <ortools.linear_solver.linear_solver_natural_api.VariableExpr object at 0x000002066C7AEB90>)) + (12 * <ortools.linear_solver.linear_solver_natural_api.VariableExpr object at 0x000002066C7AF9A0>)) + (11 * <ortools.linear_solver.linear_solver_natural_api.VariableExpr object at 0x000002066C7AF5B0>)) + (0 * <ortools.linear_solver.linear_solver_natural_api.VariableExpr object at 0x000002066C7AFAC0>)) + (1 * <ortools.linear_solver.linear_solver_natural_api.VariableExpr object at 0x000002066C7AFA30>)) + (7 * <ortools.linear_solver.linear_solver_natural_api.VariableExpr object at 0x000002066C7AE0E0>)) + (11 * <ortools.linear_solver.linear_solver_natural_api.VariableExpr object at 0x000002066C7AE2C0>)) + (13 * <ortools.linear_solver.linear_solver_natural_api.VariableExpr object at 0x000002066C7AE590>)) + (0 * <ortools.linear_solver.linear_solver_natural_api.VariableExpr object at 0x000002066C70FB50>)) <= 4000\n",
      "constraint 2: (((((((((((14 * <ortools.linear_solver.linear_solver_natural_api.VariableExpr object at 0x000002066C70F0D0>) + 0) + (8 * <ortools.linear_solver.linear_solver_natural_api.VariableExpr object at 0x000002066C70F0A0>)) + (12 * <ortools.linear_solver.linear_solver_natural_api.VariableExpr object at 0x000002066C70F550>)) + (0 * <ortools.linear_solver.linear_solver_natural_api.VariableExpr object at 0x000002066C70F760>)) + (14 * <ortools.linear_solver.linear_solver_natural_api.VariableExpr object at 0x000002066C70F7C0>)) + (15 * <ortools.linear_solver.linear_solver_natural_api.VariableExpr object at 0x000002066C70FA30>)) + (9 * <ortools.linear_solver.linear_solver_natural_api.VariableExpr object at 0x000002066C70D450>)) + (4 * <ortools.linear_solver.linear_solver_natural_api.VariableExpr object at 0x000002066C70C4C0>)) + (20 * <ortools.linear_solver.linear_solver_natural_api.VariableExpr object at 0x000002066C70C250>)) + (1 * <ortools.linear_solver.linear_solver_natural_api.VariableExpr object at 0x000002066C70D090>)) <= 3000\n",
      "~~~~~~~~~~\n",
      "\n",
      " produce 217.64705882352936 units of item 1 and earn 3251.589059464333 dollars\n",
      " produce 264.70588235294116 units of item 7 and earn 4415.315377916401 dollars\n",
      " produce 200.0 units of item 9 and earn 2664.7684267336804 dollars\n",
      " utilization rate of resource 0: 100.0%\n",
      " utilization rate of resource 1: 99.99999999999999%\n",
      " utilization rate of resource 2: 99.99999999999999%\n"
     ]
    }
   ],
   "source": [
    "#Report\n",
    "m.report()\n",
    "\n",
    "#Display\n",
    "for i in I:\n",
    "    if m.get(x[i])>0:\n",
    "        print(f\" produce {m.get(x[i])} units of item {i} and earn {p[i]*m.get(x[i])} dollars\")\n",
    "\n",
    "for r in R:\n",
    "    if sum(a[i,r]*m.get(x[i]) for i in I)>0:\n",
    "\n",
    "        print(f\" utilization rate of resource {r}: {sum(a[i,r]*m.get(x[i]) for i in I)/b[r]*100}%\")"
   ]
  }
 ],
 "metadata": {
  "kernelspec": {
   "display_name": "Python 3",
   "language": "python",
   "name": "python3"
  },
  "language_info": {
   "codemirror_mode": {
    "name": "ipython",
    "version": 3
   },
   "file_extension": ".py",
   "mimetype": "text/x-python",
   "name": "python",
   "nbconvert_exporter": "python",
   "pygments_lexer": "ipython3",
   "version": "3.10.0"
  },
  "orig_nbformat": 4
 },
 "nbformat": 4,
 "nbformat_minor": 2
}
