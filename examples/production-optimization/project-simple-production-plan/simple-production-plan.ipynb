{
 "cells": [
  {
   "attachments": {},
   "cell_type": "markdown",
   "metadata": {},
   "source": [
    "![dpp](./img/examples.png)"
   ]
  },
  {
   "attachments": {},
   "cell_type": "markdown",
   "metadata": {},
   "source": [
    "# Simple Production Plan Problem"
   ]
  },
  {
   "attachments": {},
   "cell_type": "markdown",
   "metadata": {},
   "source": [
    "--------------------\n",
    "* Developed by _Keivan Tafakkori_\n",
    "* Date: 18-4-2023\n",
    "* Contact: https://www.linkedin.com/in/keivan-tafakkori/\n",
    "* GitHub: https://github.com/ktafakkori\n",
    "--------------------"
   ]
  },
  {
   "attachments": {},
   "cell_type": "markdown",
   "metadata": {},
   "source": [
    "### Packages"
   ]
  },
  {
   "cell_type": "code",
   "execution_count": 1,
   "metadata": {},
   "outputs": [],
   "source": [
    "from feloopy import *"
   ]
  },
  {
   "attachments": {},
   "cell_type": "markdown",
   "metadata": {},
   "source": [
    "### Setting"
   ]
  },
  {
   "cell_type": "code",
   "execution_count": 2,
   "metadata": {},
   "outputs": [],
   "source": [
    "problem_name = 'spp'\n",
    "solution_method = 'exact'\n",
    "interface = 'ortools'\n",
    "solver = 'cbc'\n",
    "key = 0"
   ]
  },
  {
   "attachments": {},
   "cell_type": "markdown",
   "metadata": {},
   "source": [
    "### Model"
   ]
  },
  {
   "cell_type": "code",
   "execution_count": 3,
   "metadata": {},
   "outputs": [],
   "source": [
    "#Environment\n",
    "m = target_model(solution_method, problem_name, interface, key=key)\n",
    "\n",
    "#Sets\n",
    "I  = m.set(10)\n",
    "R  = m.set(3) \n",
    "\n",
    "#Dataset\n",
    "p = load_from_excel('data.xlsx', [I], [1], ['i'], 'profit') \n",
    "a = load_from_excel('data.xlsx', [I,R], [1,1], ['i','r'], 'usage') \n",
    "b = load_from_excel('data.xlsx', [R], [1], ['r'], 'resource')\n",
    "\n",
    "#Variables\n",
    "x = m.pvar('production', [I])\n",
    "\n",
    "#Objective\n",
    "m.obj(sum(p[i]*x[i] for i in I))\n",
    "\n",
    "#Constraints\n",
    "for r in R:\n",
    "    m.con(sum(a[i,r]*x[i] for i in I) <= b[r])\n",
    "\n",
    "#Solve\n",
    "m.sol(['max'],solver)"
   ]
  },
  {
   "attachments": {},
   "cell_type": "markdown",
   "metadata": {},
   "source": [
    "### Result"
   ]
  },
  {
   "cell_type": "code",
   "execution_count": 4,
   "metadata": {},
   "outputs": [
    {
     "name": "stdout",
     "output_type": "stream",
     "text": [
      "\n",
      "+--------------------------------------------------------------------------------+\n",
      "|                                 FelooPy v0.2.5                                 |\n",
      "+--------------------------------------------------------------------------------+\n",
      "| Date: 2023-06-05                                                Time: 18:03:54 |\n",
      "| Interface: ortools                                                 Solver: cbc |\n",
      "+--------------------------------------------------------------------------------+\n",
      "|                               Model Information                                |\n",
      "+--------------------------------------------------------------------------------+\n",
      "|                              The 'spp' model has:                              |\n",
      "|                    10 positive variable(s) in 1 class(es).                     |\n",
      "|                                1 objective(s).                                 |\n",
      "|                        3 constraint(s) in 1 class(es).                         |\n",
      "|                Total number of variables is 10 in 1 class(es).                 |\n",
      "+--------------------------------------------------------------------------------+\n",
      "|                               Solve Information                                |\n",
      "+--------------------------------------------------------------------------------+\n",
      "| Method: exact                                               Objective Value(s) |\n",
      "| Status:                                                                    max |\n",
      "| optimal                                                               1.03e+04 |\n",
      "+--------------------------------------------------------------------------------+\n",
      "|                               Metric Information                               |\n",
      "+--------------------------------------------------------------------------------+\n",
      "| CPT   (microseconds):  1.18e+04                                                |\n",
      "| CPT   (hour:min:sec):  00:00:00                                                |\n",
      "+--------------------------------------------------------------------------------+\n",
      "|                              Decision Information                              |\n",
      "+--------------------------------------------------------------------------------+\n",
      "| production[1] = 217.64705882352936                                             |\n",
      "| production[7] = 264.70588235294116                                             |\n",
      "| production[9] = 200.0                                                          |\n",
      "+--------------------------------------------------------------------------------+\n",
      " produce 217.64705882352936 units of item 1 and earn 3251.589059464333 dollars\n",
      " produce 264.70588235294116 units of item 7 and earn 4415.315377916401 dollars\n",
      " produce 200.0 units of item 9 and earn 2664.7684267336804 dollars\n",
      " utilization rate of resource 0: 100.0%\n",
      " utilization rate of resource 1: 99.99999999999999%\n",
      " utilization rate of resource 2: 99.99999999999999%\n"
     ]
    }
   ],
   "source": [
    "#Report\n",
    "m.report()\n",
    "\n",
    "#Display\n",
    "for i in I:\n",
    "    if m.get(x[i])>0:\n",
    "        print(f\" produce {m.get(x[i])} units of item {i} and earn {p[i]*m.get(x[i])} dollars\")\n",
    "\n",
    "for r in R:\n",
    "    if sum(a[i,r]*m.get(x[i]) for i in I)>0:\n",
    "\n",
    "        print(f\" utilization rate of resource {r}: {sum(a[i,r]*m.get(x[i]) for i in I)/b[r]*100}%\")"
   ]
  }
 ],
 "metadata": {
  "kernelspec": {
   "display_name": "Python 3",
   "language": "python",
   "name": "python3"
  },
  "language_info": {
   "codemirror_mode": {
    "name": "ipython",
    "version": 3
   },
   "file_extension": ".py",
   "mimetype": "text/x-python",
   "name": "python",
   "nbconvert_exporter": "python",
   "pygments_lexer": "ipython3",
   "version": "3.10.9"
  },
  "orig_nbformat": 4
 },
 "nbformat": 4,
 "nbformat_minor": 2
}
