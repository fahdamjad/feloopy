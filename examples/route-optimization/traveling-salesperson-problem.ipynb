{
 "cells": [
  {
   "attachments": {},
   "cell_type": "markdown",
   "metadata": {},
   "source": [
    "# Traveling Salesperson Problem"
   ]
  },
  {
   "attachments": {},
   "cell_type": "markdown",
   "metadata": {},
   "source": [
    "--------------------\n",
    "* Developed by _Keivan Tafakkori_\n",
    "* Date: 17-4-2023\n",
    "* Contact: https://www.linkedin.com/in/keivan-tafakkori/\n",
    "* Github: https://github.com/ktafakkori\n",
    "--------------------"
   ]
  },
  {
   "attachments": {},
   "cell_type": "markdown",
   "metadata": {},
   "source": [
    "### Packages"
   ]
  },
  {
   "cell_type": "code",
   "execution_count": 1,
   "metadata": {},
   "outputs": [],
   "source": [
    "from feloopy import *"
   ]
  },
  {
   "attachments": {},
   "cell_type": "markdown",
   "metadata": {},
   "source": [
    "### Environment"
   ]
  },
  {
   "cell_type": "code",
   "execution_count": 2,
   "metadata": {},
   "outputs": [],
   "source": [
    "m = model('exact', 'tsp', 'mip', key=0)"
   ]
  },
  {
   "attachments": {},
   "cell_type": "markdown",
   "metadata": {},
   "source": [
    "### Sets"
   ]
  },
  {
   "cell_type": "code",
   "execution_count": 3,
   "metadata": {},
   "outputs": [],
   "source": [
    "N = m.set(10)\n",
    "U = m.set(9)"
   ]
  },
  {
   "attachments": {},
   "cell_type": "markdown",
   "metadata": {},
   "source": [
    "### Dataset"
   ]
  },
  {
   "cell_type": "code",
   "execution_count": 4,
   "metadata": {},
   "outputs": [],
   "source": [
    "c = m.uniformint(1, 10, [N,N])\n",
    "\n",
    "for i, j in sets(N, N):\n",
    "    c[i][i] = 0\n",
    "    c[i][j] = c[j][i]"
   ]
  },
  {
   "attachments": {},
   "cell_type": "markdown",
   "metadata": {},
   "source": [
    "### Variables"
   ]
  },
  {
   "cell_type": "code",
   "execution_count": 5,
   "metadata": {},
   "outputs": [],
   "source": [
    "x = m.bvar('x', [N, N])\n",
    "u = m.ivar('u', [N])"
   ]
  },
  {
   "attachments": {},
   "cell_type": "markdown",
   "metadata": {},
   "source": [
    "### Objective"
   ]
  },
  {
   "cell_type": "code",
   "execution_count": 6,
   "metadata": {},
   "outputs": [],
   "source": [
    "m.obj(sum(c[i, j]*x[i, j] for i, j in sets(N, N)))"
   ]
  },
  {
   "attachments": {},
   "cell_type": "markdown",
   "metadata": {},
   "source": [
    "### Constraints"
   ]
  },
  {
   "cell_type": "code",
   "execution_count": 7,
   "metadata": {},
   "outputs": [],
   "source": [
    "for j in N:\n",
    "    m.con(sum(x[i, j] for i in N if i != j) == 1)\n",
    "\n",
    "for i in N:\n",
    "    m.con(sum(x[i, j] for j in N if j != i) == 1)\n",
    "\n",
    "for i, j in sets(U, N):\n",
    "    if i != j:\n",
    "        m.con(u[i] - u[j] + x[i, j] * len(N) <= len(N)-1)"
   ]
  },
  {
   "attachments": {},
   "cell_type": "markdown",
   "metadata": {},
   "source": [
    "### Solve"
   ]
  },
  {
   "cell_type": "code",
   "execution_count": 8,
   "metadata": {},
   "outputs": [],
   "source": [
    "m.sol(['min'], 'cbc', show_log=False)"
   ]
  },
  {
   "attachments": {},
   "cell_type": "markdown",
   "metadata": {},
   "source": [
    "### Report"
   ]
  },
  {
   "cell_type": "code",
   "execution_count": 9,
   "metadata": {},
   "outputs": [
    {
     "name": "stdout",
     "output_type": "stream",
     "text": [
      "\n",
      "~~~~~~~~~~~~~~\n",
      "FELOOPY v0.2.4\n",
      "~~~~~~~~~~~~~~\n",
      "\n",
      "~~~~~~~~~~~\n",
      "DATE & TIME\n",
      "~~~~~~~~~~~\n",
      "2023-04-17 22:06:35\n",
      "Mon, Apr 17, 2023\n",
      "\n",
      "~~~~~~~~~~~~\n",
      "PROBLEM INFO\n",
      "~~~~~~~~~~~~\n",
      "| info      | detail   | variable   | count [cat,tot]   | other      | count [cat,tot]    |\n",
      "|-----------|----------|------------|-------------------|------------|--------------------|\n",
      "| model     | tsp      | positive   | [0, 0]            | objective  | [1, 1]             |\n",
      "| interface | mip      | binary     | [1, 100]          | constraint | [1, 101]           |\n",
      "| solver    | cbc      | integer    | [1, 10]           |            |                    |\n",
      "| direction | ['min']  | free       | [0, 0]            |            |                    |\n",
      "| method    | exact    | tot        | [2, 110]          |            |                    |\n",
      "~~~~~~~~~~~~\n",
      "\n",
      "~~~~~~~~~~\n",
      "SOLVE INFO\n",
      "~~~~~~~~~~\n",
      "status:  OptimizationStatus.OPTIMAL\n",
      "objective:  25.0\n",
      "cpu time [mip]:  165920.69999751402 (microseconds) 00:00:00 (h, m, s)\n",
      "~~~~~~~~~~~\n",
      "\n",
      "~~~~~~~~~~\n",
      "MODEL INFO\n",
      "~~~~~~~~~~\n",
      "name: tsp\n",
      "objective: min + 0var(0) + 7var(1) + 3var(2) + 9var(3) + 5var(4) + 8var(5) + 9var(6) + 4var(7) + 7var(8) + 4var(9) + 7var(10) + 0var(11) + 9var(12) + 2var(13) + var(14) + 4var(15) + 7var(16) + 4var(17) + 6var(18) + 9var(19) + 3var(20) + 9var(21) + 0var(22) + var(23) + var(24) + 5var(25) + 8var(26) + 5var(27) + 3var(28) + 3var(29) + 9var(30) + 2var(31) + var(32) + 0var(33) + 2var(34) + 10var(35) + 4var(36) + 5var(37) + 4var(38) + 3var(39) + 5var(40) + var(41) + var(42) + 2var(43) + 0var(44) + 9var(45) + 9var(46) + 8var(47) + 8var(48) + 8var(49) + 8var(50) + 4var(51) + 5var(52) + 10var(53) + 9var(54) + 0var(55) + 2var(56) + 9var(57) + 6var(58) + 7var(59) + 9var(60) + 7var(61) + 8var(62) + 4var(63) + 9var(64) + 2var(65) + 0var(66) + var(67) + 6var(68) + var(69) + 4var(70) + 4var(71) + 5var(72) + 5var(73) + 8var(74) + 9var(75) + var(76) + 0var(77) + 4var(78) + var(79) + 7var(80) + 6var(81) + 3var(82) + 4var(83) + 8var(84) + 6var(85) + 6var(86) + 4var(87) + 0var(88) + 4var(89) + 4var(90) + 9var(91) + 3var(92) + 3var(93) + 8var(94) + 7var(95) + var(96) + var(97) + 4var(98) + 0var(99) - 0.0\n",
      "subject to:\n",
      "constraint 0: + var(10) + var(20) + var(30) + var(40) + var(50) + var(60) + var(70) + var(80) + var(90)  = 1.0\n",
      "constraint 1: + var(1) + var(21) + var(31) + var(41) + var(51) + var(61) + var(71) + var(81) + var(91)  = 1.0\n",
      "constraint 2: + var(2) + var(12) + var(32) + var(42) + var(52) + var(62) + var(72) + var(82) + var(92)  = 1.0\n",
      "constraint 3: + var(3) + var(13) + var(23) + var(43) + var(53) + var(63) + var(73) + var(83) + var(93)  = 1.0\n",
      "constraint 4: + var(4) + var(14) + var(24) + var(34) + var(54) + var(64) + var(74) + var(84) + var(94)  = 1.0\n",
      "constraint 5: + var(5) + var(15) + var(25) + var(35) + var(45) + var(65) + var(75) + var(85) + var(95)  = 1.0\n",
      "constraint 6: + var(6) + var(16) + var(26) + var(36) + var(46) + var(56) + var(76) + var(86) + var(96)  = 1.0\n",
      "constraint 7: + var(7) + var(17) + var(27) + var(37) + var(47) + var(57) + var(67) + var(87) + var(97)  = 1.0\n",
      "constraint 8: + var(8) + var(18) + var(28) + var(38) + var(48) + var(58) + var(68) + var(78) + var(98)  = 1.0\n",
      "constraint 9: + var(9) + var(19) + var(29) + var(39) + var(49) + var(59) + var(69) + var(79) + var(89)  = 1.0\n",
      "constraint 10: + var(1) + var(2) + var(3) + var(4) + var(5) + var(6) + var(7) + var(8) + var(9)  = 1.0\n",
      "constraint 11: + var(10) + var(12) + var(13) + var(14) + var(15) + var(16) + var(17) + var(18) + var(19)  = 1.0\n",
      "constraint 12: + var(20) + var(21) + var(23) + var(24) + var(25) + var(26) + var(27) + var(28) + var(29)  = 1.0\n",
      "constraint 13: + var(30) + var(31) + var(32) + var(34) + var(35) + var(36) + var(37) + var(38) + var(39)  = 1.0\n",
      "constraint 14: + var(40) + var(41) + var(42) + var(43) + var(45) + var(46) + var(47) + var(48) + var(49)  = 1.0\n",
      "constraint 15: + var(50) + var(51) + var(52) + var(53) + var(54) + var(56) + var(57) + var(58) + var(59)  = 1.0\n",
      "constraint 16: + var(60) + var(61) + var(62) + var(63) + var(64) + var(65) + var(67) + var(68) + var(69)  = 1.0\n",
      "constraint 17: + var(70) + var(71) + var(72) + var(73) + var(74) + var(75) + var(76) + var(78) + var(79)  = 1.0\n",
      "constraint 18: + var(80) + var(81) + var(82) + var(83) + var(84) + var(85) + var(86) + var(87) + var(89)  = 1.0\n",
      "constraint 19: + var(90) + var(91) + var(92) + var(93) + var(94) + var(95) + var(96) + var(97) + var(98)  = 1.0\n",
      "constraint 20: + var(100) - var(101) + 10var(1)  <= 9.0\n",
      "constraint 21: + var(100) - var(102) + 10var(2)  <= 9.0\n",
      "constraint 22: + var(100) - var(103) + 10var(3)  <= 9.0\n",
      "constraint 23: + var(100) - var(104) + 10var(4)  <= 9.0\n",
      "constraint 24: + var(100) - var(105) + 10var(5)  <= 9.0\n",
      "constraint 25: + var(100) - var(106) + 10var(6)  <= 9.0\n",
      "constraint 26: + var(100) - var(107) + 10var(7)  <= 9.0\n",
      "constraint 27: + var(100) - var(108) + 10var(8)  <= 9.0\n",
      "constraint 28: + var(100) - var(109) + 10var(9)  <= 9.0\n",
      "constraint 29: + var(101) - var(100) + 10var(10)  <= 9.0\n",
      "constraint 30: + var(101) - var(102) + 10var(12)  <= 9.0\n",
      "constraint 31: + var(101) - var(103) + 10var(13)  <= 9.0\n",
      "constraint 32: + var(101) - var(104) + 10var(14)  <= 9.0\n",
      "constraint 33: + var(101) - var(105) + 10var(15)  <= 9.0\n",
      "constraint 34: + var(101) - var(106) + 10var(16)  <= 9.0\n",
      "constraint 35: + var(101) - var(107) + 10var(17)  <= 9.0\n",
      "constraint 36: + var(101) - var(108) + 10var(18)  <= 9.0\n",
      "constraint 37: + var(101) - var(109) + 10var(19)  <= 9.0\n",
      "constraint 38: + var(102) - var(100) + 10var(20)  <= 9.0\n",
      "constraint 39: + var(102) - var(101) + 10var(21)  <= 9.0\n",
      "constraint 40: + var(102) - var(103) + 10var(23)  <= 9.0\n",
      "constraint 41: + var(102) - var(104) + 10var(24)  <= 9.0\n",
      "constraint 42: + var(102) - var(105) + 10var(25)  <= 9.0\n",
      "constraint 43: + var(102) - var(106) + 10var(26)  <= 9.0\n",
      "constraint 44: + var(102) - var(107) + 10var(27)  <= 9.0\n",
      "constraint 45: + var(102) - var(108) + 10var(28)  <= 9.0\n",
      "constraint 46: + var(102) - var(109) + 10var(29)  <= 9.0\n",
      "constraint 47: + var(103) - var(100) + 10var(30)  <= 9.0\n",
      "constraint 48: + var(103) - var(101) + 10var(31)  <= 9.0\n",
      "constraint 49: + var(103) - var(102) + 10var(32)  <= 9.0\n",
      "constraint 50: + var(103) - var(104) + 10var(34)  <= 9.0\n",
      "constraint 51: + var(103) - var(105) + 10var(35)  <= 9.0\n",
      "constraint 52: + var(103) - var(106) + 10var(36)  <= 9.0\n",
      "constraint 53: + var(103) - var(107) + 10var(37)  <= 9.0\n",
      "constraint 54: + var(103) - var(108) + 10var(38)  <= 9.0\n",
      "constraint 55: + var(103) - var(109) + 10var(39)  <= 9.0\n",
      "constraint 56: + var(104) - var(100) + 10var(40)  <= 9.0\n",
      "constraint 57: + var(104) - var(101) + 10var(41)  <= 9.0\n",
      "constraint 58: + var(104) - var(102) + 10var(42)  <= 9.0\n",
      "constraint 59: + var(104) - var(103) + 10var(43)  <= 9.0\n",
      "constraint 60: + var(104) - var(105) + 10var(45)  <= 9.0\n",
      "constraint 61: + var(104) - var(106) + 10var(46)  <= 9.0\n",
      "constraint 62: + var(104) - var(107) + 10var(47)  <= 9.0\n",
      "constraint 63: + var(104) - var(108) + 10var(48)  <= 9.0\n",
      "constraint 64: + var(104) - var(109) + 10var(49)  <= 9.0\n",
      "constraint 65: + var(105) - var(100) + 10var(50)  <= 9.0\n",
      "constraint 66: + var(105) - var(101) + 10var(51)  <= 9.0\n",
      "constraint 67: + var(105) - var(102) + 10var(52)  <= 9.0\n",
      "constraint 68: + var(105) - var(103) + 10var(53)  <= 9.0\n",
      "constraint 69: + var(105) - var(104) + 10var(54)  <= 9.0\n",
      "constraint 70: + var(105) - var(106) + 10var(56)  <= 9.0\n",
      "constraint 71: + var(105) - var(107) + 10var(57)  <= 9.0\n",
      "constraint 72: + var(105) - var(108) + 10var(58)  <= 9.0\n",
      "constraint 73: + var(105) - var(109) + 10var(59)  <= 9.0\n",
      "constraint 74: + var(106) - var(100) + 10var(60)  <= 9.0\n",
      "constraint 75: + var(106) - var(101) + 10var(61)  <= 9.0\n",
      "constraint 76: + var(106) - var(102) + 10var(62)  <= 9.0\n",
      "constraint 77: + var(106) - var(103) + 10var(63)  <= 9.0\n",
      "constraint 78: + var(106) - var(104) + 10var(64)  <= 9.0\n",
      "constraint 79: + var(106) - var(105) + 10var(65)  <= 9.0\n",
      "constraint 80: + var(106) - var(107) + 10var(67)  <= 9.0\n",
      "constraint 81: + var(106) - var(108) + 10var(68)  <= 9.0\n",
      "constraint 82: + var(106) - var(109) + 10var(69)  <= 9.0\n",
      "constraint 83: + var(107) - var(100) + 10var(70)  <= 9.0\n",
      "constraint 84: + var(107) - var(101) + 10var(71)  <= 9.0\n",
      "constraint 85: + var(107) - var(102) + 10var(72)  <= 9.0\n",
      "constraint 86: + var(107) - var(103) + 10var(73)  <= 9.0\n",
      "constraint 87: + var(107) - var(104) + 10var(74)  <= 9.0\n",
      "constraint 88: + var(107) - var(105) + 10var(75)  <= 9.0\n",
      "constraint 89: + var(107) - var(106) + 10var(76)  <= 9.0\n",
      "constraint 90: + var(107) - var(108) + 10var(78)  <= 9.0\n",
      "constraint 91: + var(107) - var(109) + 10var(79)  <= 9.0\n",
      "constraint 92: + var(108) - var(100) + 10var(80)  <= 9.0\n",
      "constraint 93: + var(108) - var(101) + 10var(81)  <= 9.0\n",
      "constraint 94: + var(108) - var(102) + 10var(82)  <= 9.0\n",
      "constraint 95: + var(108) - var(103) + 10var(83)  <= 9.0\n",
      "constraint 96: + var(108) - var(104) + 10var(84)  <= 9.0\n",
      "constraint 97: + var(108) - var(105) + 10var(85)  <= 9.0\n",
      "constraint 98: + var(108) - var(106) + 10var(86)  <= 9.0\n",
      "constraint 99: + var(108) - var(107) + 10var(87)  <= 9.0\n",
      "constraint 100: + var(108) - var(109) + 10var(89)  <= 9.0\n",
      "~~~~~~~~~~\n",
      "\n"
     ]
    }
   ],
   "source": [
    "m.report()"
   ]
  },
  {
   "attachments": {},
   "cell_type": "markdown",
   "metadata": {},
   "source": [
    "### Display"
   ]
  },
  {
   "cell_type": "code",
   "execution_count": 10,
   "metadata": {},
   "outputs": [
    {
     "name": "stdout",
     "output_type": "stream",
     "text": [
      "Traveler goes from node 0 to node 9.\n",
      "Traveler goes from node 1 to node 4.\n",
      "Traveler goes from node 2 to node 0.\n",
      "Traveler goes from node 3 to node 8.\n",
      "Traveler goes from node 4 to node 3.\n",
      "Traveler goes from node 5 to node 1.\n",
      "Traveler goes from node 6 to node 5.\n",
      "Traveler goes from node 7 to node 6.\n",
      "Traveler goes from node 8 to node 2.\n",
      "Traveler goes from node 9 to node 7.\n"
     ]
    }
   ],
   "source": [
    "for i, j in sets(N, N):\n",
    "    if m.get(x[i, j]) == 1:\n",
    "        print(f\"Traveler goes from node {i} to node {j}.\")"
   ]
  }
 ],
 "metadata": {
  "kernelspec": {
   "display_name": "Python 3",
   "language": "python",
   "name": "python3"
  },
  "language_info": {
   "codemirror_mode": {
    "name": "ipython",
    "version": 3
   },
   "file_extension": ".py",
   "mimetype": "text/x-python",
   "name": "python",
   "nbconvert_exporter": "python",
   "pygments_lexer": "ipython3",
   "version": "3.10.0"
  },
  "orig_nbformat": 4
 },
 "nbformat": 4,
 "nbformat_minor": 2
}
