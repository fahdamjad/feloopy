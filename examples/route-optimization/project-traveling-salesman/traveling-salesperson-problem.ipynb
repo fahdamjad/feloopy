{
 "cells": [
  {
   "attachments": {},
   "cell_type": "markdown",
   "metadata": {},
   "source": [
    "![dpp](./img/examples.png)"
   ]
  },
  {
   "attachments": {},
   "cell_type": "markdown",
   "metadata": {},
   "source": [
    "# Traveling Salesperson Problem"
   ]
  },
  {
   "attachments": {},
   "cell_type": "markdown",
   "metadata": {},
   "source": [
    "--------------------\n",
    "* Developed by _Keivan Tafakkori_\n",
    "* Date: 17-4-2023\n",
    "* Contact: https://www.linkedin.com/in/keivan-tafakkori/\n",
    "* GitHub: https://github.com/ktafakkori\n",
    "--------------------"
   ]
  },
  {
   "attachments": {},
   "cell_type": "markdown",
   "metadata": {},
   "source": [
    "### Packages"
   ]
  },
  {
   "cell_type": "code",
   "execution_count": 1,
   "metadata": {},
   "outputs": [],
   "source": [
    "from feloopy import *"
   ]
  },
  {
   "attachments": {},
   "cell_type": "markdown",
   "metadata": {},
   "source": [
    "### Setting"
   ]
  },
  {
   "cell_type": "code",
   "execution_count": 2,
   "metadata": {},
   "outputs": [],
   "source": [
    "problem_name = 'tsp'\n",
    "solution_method = 'exact'\n",
    "interface = 'pulp'\n",
    "solver = 'cbc'\n",
    "key = 0"
   ]
  },
  {
   "attachments": {},
   "cell_type": "markdown",
   "metadata": {},
   "source": [
    "### Model"
   ]
  },
  {
   "cell_type": "code",
   "execution_count": 3,
   "metadata": {},
   "outputs": [
    {
     "name": "stdout",
     "output_type": "stream",
     "text": [
      "Restricted license - for non-production use only - expires 2024-10-28\n"
     ]
    }
   ],
   "source": [
    "#Environment\n",
    "m = target_model(solution_method, problem_name, interface, key=key)\n",
    "\n",
    "#Sets\n",
    "N = m.set(10)\n",
    "U = m.set(9)\n",
    "\n",
    "#Dataset\n",
    "c = m.uniformint(1, 10, [N,N])\n",
    "for i, j in sets(N, N):\n",
    "    c[i][i] = 0\n",
    "    c[i][j] = c[j][i]\n",
    "\n",
    "#Variables\n",
    "x = m.bvar('x', [N, N])\n",
    "u = m.ivar('u', [N])\n",
    "\n",
    "#Objective\n",
    "m.obj(sum(c[i, j]*x[i, j] for i, j in sets(N, N)))\n",
    "\n",
    "#Constraints\n",
    "for j in N:\n",
    "    m.con(sum(x[i, j] for i in N if i != j) == 1)\n",
    "\n",
    "for i in N:\n",
    "    m.con(sum(x[i, j] for j in N if j != i) == 1)\n",
    "\n",
    "for i, j in sets(U, N):\n",
    "    if i != j:\n",
    "        m.con(u[i] - u[j] + x[i, j] * len(N) <= len(N)-1)\n",
    "\n",
    "#Solve\n",
    "m.sol(['min'], solver, show_log=False)"
   ]
  },
  {
   "attachments": {},
   "cell_type": "markdown",
   "metadata": {},
   "source": [
    "### Result"
   ]
  },
  {
   "cell_type": "code",
   "execution_count": 4,
   "metadata": {},
   "outputs": [
    {
     "name": "stdout",
     "output_type": "stream",
     "text": [
      "\n",
      "+--------------------------------------------------------------------------------+\n",
      "|                                 FelooPy v0.2.5                                 |\n",
      "+--------------------------------------------------------------------------------+\n",
      "| Date: 2023-06-05                                                Time: 18:04:04 |\n",
      "| Interface: pulp                                                    Solver: cbc |\n",
      "+--------------------------------------------------------------------------------+\n",
      "|                               Model Information                                |\n",
      "+--------------------------------------------------------------------------------+\n",
      "|                              The 'tsp' model has:                              |\n",
      "|                     100 binary variable(s) in 1 class(es).                     |\n",
      "|                     10 integer variable(s) in 1 class(es).                     |\n",
      "|                                1 objective(s).                                 |\n",
      "|                       101 constraint(s) in 1 class(es).                        |\n",
      "|                Total number of variables is 110 in 2 class(es).                |\n",
      "+--------------------------------------------------------------------------------+\n",
      "|                               Solve Information                                |\n",
      "+--------------------------------------------------------------------------------+\n",
      "| Method: exact                                               Objective Value(s) |\n",
      "| Status:                                                                    min |\n",
      "| Optimal                                                                  25.00 |\n",
      "+--------------------------------------------------------------------------------+\n",
      "|                               Metric Information                               |\n",
      "+--------------------------------------------------------------------------------+\n",
      "| CPT   (microseconds):  1.66e+05                                                |\n",
      "| CPT   (hour:min:sec):  00:00:00                                                |\n",
      "+--------------------------------------------------------------------------------+\n",
      "|                              Decision Information                              |\n",
      "+--------------------------------------------------------------------------------+\n",
      "| x[0, 2] = 1.0                                                                  |\n",
      "| x[1, 3] = 1.0                                                                  |\n",
      "| x[2, 4] = 1.0                                                                  |\n",
      "| x[3, 8] = 1.0                                                                  |\n",
      "| x[4, 1] = 1.0                                                                  |\n",
      "| x[5, 6] = 1.0                                                                  |\n",
      "| x[6, 9] = 1.0                                                                  |\n",
      "| x[7, 0] = 1.0                                                                  |\n",
      "| x[8, 5] = 1.0                                                                  |\n",
      "| x[9, 7] = 1.0                                                                  |\n",
      "| u[0] = 1.0                                                                     |\n",
      "| u[1] = 4.0                                                                     |\n",
      "| u[2] = 2.0                                                                     |\n",
      "| u[3] = 5.0                                                                     |\n",
      "| u[4] = 3.0                                                                     |\n",
      "| u[5] = 7.0                                                                     |\n",
      "| u[6] = 9.0                                                                     |\n",
      "| u[8] = 6.0                                                                     |\n",
      "| u[9] = 10.0                                                                    |\n",
      "+--------------------------------------------------------------------------------+\n",
      "Traveler goes from node 0 to node 2.\n",
      "Traveler goes from node 1 to node 3.\n",
      "Traveler goes from node 2 to node 4.\n",
      "Traveler goes from node 3 to node 8.\n",
      "Traveler goes from node 4 to node 1.\n",
      "Traveler goes from node 5 to node 6.\n",
      "Traveler goes from node 6 to node 9.\n",
      "Traveler goes from node 7 to node 0.\n",
      "Traveler goes from node 8 to node 5.\n",
      "Traveler goes from node 9 to node 7.\n"
     ]
    }
   ],
   "source": [
    "#Report\n",
    "m.report()\n",
    "\n",
    "#Display\n",
    "for i, j in sets(N, N):\n",
    "    if m.get(x[i, j]) == 1:\n",
    "        print(f\"Traveler goes from node {i} to node {j}.\")"
   ]
  }
 ],
 "metadata": {
  "kernelspec": {
   "display_name": "Python 3",
   "language": "python",
   "name": "python3"
  },
  "language_info": {
   "codemirror_mode": {
    "name": "ipython",
    "version": 3
   },
   "file_extension": ".py",
   "mimetype": "text/x-python",
   "name": "python",
   "nbconvert_exporter": "python",
   "pygments_lexer": "ipython3",
   "version": "3.10.9"
  },
  "orig_nbformat": 4
 },
 "nbformat": 4,
 "nbformat_minor": 2
}
