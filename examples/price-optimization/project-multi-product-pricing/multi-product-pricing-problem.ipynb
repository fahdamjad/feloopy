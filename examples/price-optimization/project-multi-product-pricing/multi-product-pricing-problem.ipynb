{
 "cells": [
  {
   "attachments": {},
   "cell_type": "markdown",
   "metadata": {},
   "source": [
    "# Pricing Problem"
   ]
  },
  {
   "attachments": {},
   "cell_type": "markdown",
   "metadata": {},
   "source": [
    "--------------------\n",
    "* Developed by _Keivan Tafakkori_\n",
    "* Date: 18-4-2023\n",
    "* Contact: https://www.linkedin.com/in/keivan-tafakkori/\n",
    "* Github: https://github.com/ktafakkori\n",
    "--------------------"
   ]
  },
  {
   "attachments": {},
   "cell_type": "markdown",
   "metadata": {},
   "source": [
    "### Packages"
   ]
  },
  {
   "cell_type": "code",
   "execution_count": 5,
   "metadata": {},
   "outputs": [],
   "source": [
    "from feloopy import *"
   ]
  },
  {
   "attachments": {},
   "cell_type": "markdown",
   "metadata": {},
   "source": [
    "### Setting"
   ]
  },
  {
   "cell_type": "code",
   "execution_count": 6,
   "metadata": {},
   "outputs": [],
   "source": [
    "problem_name = 'po'\n",
    "solution_method = 'exact'\n",
    "interface = 'gekko'\n",
    "solver = 'apopt'\n",
    "key = 0"
   ]
  },
  {
   "attachments": {},
   "cell_type": "markdown",
   "metadata": {},
   "source": [
    "### Model"
   ]
  },
  {
   "cell_type": "code",
   "execution_count": 7,
   "metadata": {},
   "outputs": [],
   "source": [
    "#Environment\n",
    "m = target_model(solution_method, problem_name, interface, key=key)\n",
    "\n",
    "#Dataset\n",
    "a = [1000, 800, 600]\n",
    "b = [2, 3, 4]\n",
    "cost = [2, 3, 5]\n",
    "\n",
    "#Set\n",
    "I = m.set(len(a))\n",
    "\n",
    "#Variable\n",
    "q = m.pvar('q', [I])\n",
    "\n",
    "#Objective\n",
    "m.obj(sum((q[i] - cost[i]) * (a[i] - b[i] * q[i]) for i in I))\n",
    "\n",
    "#Solve\n",
    "m.sol(['max'],solver)"
   ]
  },
  {
   "attachments": {},
   "cell_type": "markdown",
   "metadata": {},
   "source": [
    "### Result"
   ]
  },
  {
   "cell_type": "code",
   "execution_count": 8,
   "metadata": {},
   "outputs": [
    {
     "name": "stdout",
     "output_type": "stream",
     "text": [
      "\n",
      "~~~~~~~~~~~~~~\n",
      "FELOOPY v0.2.4\n",
      "~~~~~~~~~~~~~~\n",
      "\n",
      "~~~~~~~~~~~\n",
      "DATE & TIME\n",
      "~~~~~~~~~~~\n",
      "2023-04-18 01:13:52\n",
      "Tue, Apr 18, 2023\n",
      "\n",
      "~~~~~~~~~~~~\n",
      "PROBLEM INFO\n",
      "~~~~~~~~~~~~\n",
      "| info      | detail   | variable   | count [cat,tot]   | other      | count [cat,tot]    |\n",
      "|-----------|----------|------------|-------------------|------------|--------------------|\n",
      "| model     | po       | positive   | [1, 3]            | objective  | [1, 1]             |\n",
      "| interface | gekko    | binary     | [0, 0]            | constraint | [0, 0]             |\n",
      "| solver    | apopt    | integer    | [0, 0]            |            |                    |\n",
      "| direction | ['max']  | free       | [0, 0]            |            |                    |\n",
      "| method    | exact    | tot        | [1, 3]            |            |                    |\n",
      "~~~~~~~~~~~~\n",
      "\n",
      "~~~~~~~~~~\n",
      "SOLVE INFO\n",
      "~~~~~~~~~~\n",
      "status:  optimal\n",
      "objective:  197167.08333\n",
      "cpu time [gekko]:  86950.50000096671 (microseconds) 00:00:00 (h, m, s)\n",
      "~~~~~~~~~~~\n",
      "\n",
      "~~~~~~~~~~\n",
      "MODEL INFO\n",
      "~~~~~~~~~~\n",
      "name: po\n",
      "objective: max (((0+(((v1-2))*((1000-((2)*(v1))))))+(((v2-3))*((800-((3)*(v2))))))+(((v3-5))*((600-((4)*(v3))))))\n",
      "subject to:\n",
      "~~~~~~~~~~~~\n",
      "PROBLEM INFO\n",
      "~~~~~~~~~~~~\n",
      "| info      | detail   | variable   | count [cat,tot]   | other      | count [cat,tot]    |\n",
      "|-----------|----------|------------|-------------------|------------|--------------------|\n",
      "| model     | po       | positive   | [1, 3]            | objective  | [1, 1]             |\n",
      "| interface | gekko    | binary     | [0, 0]            | constraint | [0, 0]             |\n",
      "| solver    | apopt    | integer    | [0, 0]            |            |                    |\n",
      "| direction | ['max']  | free       | [0, 0]            |            |                    |\n",
      "| method    | exact    | tot        | [1, 3]            |            |                    |\n",
      "~~~~~~~~~~~~\n",
      "\n",
      "status:  optimal\n",
      "objective:  197167.08333\n",
      "cpu time [gekko]:  86950.50000096671 (microseconds) 00:00:00 (h, m, s)\n",
      "Optimal price of product 1: 251.0\n",
      "Optimal price of product 2: 134.83333335\n",
      "Optimal price of product 3: 77.499999992\n"
     ]
    }
   ],
   "source": [
    "# Report\n",
    "m.report()\n",
    "\n",
    "# Display\n",
    "for i in I:\n",
    "    print(f\"Optimal price of product {i+1}: {m.get(q[i])}\")"
   ]
  }
 ],
 "metadata": {
  "kernelspec": {
   "display_name": "Python 3",
   "language": "python",
   "name": "python3"
  },
  "language_info": {
   "codemirror_mode": {
    "name": "ipython",
    "version": 3
   },
   "file_extension": ".py",
   "mimetype": "text/x-python",
   "name": "python",
   "nbconvert_exporter": "python",
   "pygments_lexer": "ipython3",
   "version": "3.10.0"
  },
  "orig_nbformat": 4
 },
 "nbformat": 4,
 "nbformat_minor": 2
}
