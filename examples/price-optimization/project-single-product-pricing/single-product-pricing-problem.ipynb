{
 "cells": [
  {
   "attachments": {},
   "cell_type": "markdown",
   "metadata": {},
   "source": [
    "![dpp](./img/examples.png)"
   ]
  },
  {
   "attachments": {},
   "cell_type": "markdown",
   "metadata": {},
   "source": [
    "# Single Product Pricing Problem"
   ]
  },
  {
   "attachments": {},
   "cell_type": "markdown",
   "metadata": {},
   "source": [
    "--------------------\n",
    "* Developed by _Keivan Tafakkori_\n",
    "* Date: 18-4-2023\n",
    "* Contact: https://www.linkedin.com/in/keivan-tafakkori/\n",
    "* GitHub: https://github.com/ktafakkori\n",
    "--------------------"
   ]
  },
  {
   "attachments": {},
   "cell_type": "markdown",
   "metadata": {},
   "source": [
    "### Packages"
   ]
  },
  {
   "cell_type": "code",
   "execution_count": 1,
   "metadata": {},
   "outputs": [],
   "source": [
    "from feloopy import *"
   ]
  },
  {
   "attachments": {},
   "cell_type": "markdown",
   "metadata": {},
   "source": [
    "### 1 | Demand prediction"
   ]
  },
  {
   "attachments": {},
   "cell_type": "markdown",
   "metadata": {},
   "source": [
    "### Setting"
   ]
  },
  {
   "cell_type": "code",
   "execution_count": 2,
   "metadata": {},
   "outputs": [],
   "source": [
    "problem_name = 'lr'\n",
    "solution_method = 'exact'\n",
    "interface = 'gekko'\n",
    "solver = 'apopt'\n",
    "key = 0"
   ]
  },
  {
   "attachments": {},
   "cell_type": "markdown",
   "metadata": {},
   "source": [
    "### Model"
   ]
  },
  {
   "cell_type": "code",
   "execution_count": 3,
   "metadata": {},
   "outputs": [],
   "source": [
    "#Environment\n",
    "m = target_model(solution_method, problem_name, interface, key=key)\n",
    "\n",
    "#Dataset\n",
    "a = [   [80],    [150],       [200],    [400],    [145],    [350],    [409]]    \n",
    "b = [     20,       22,          18,       25,       55,       15,       21]\n",
    "\n",
    "#Sets\n",
    "U = range(len(a[0]))  \n",
    "T = range(len(b))\n",
    "\n",
    "#Variables\n",
    "x = m.fvar('x',[U])\n",
    "z = m.fvar('z')\n",
    "g = m.fvar('g', [T])\n",
    "\n",
    "#Objective\n",
    "m.obj((2*len(T))**(-1)*sum((g[t]-b[t])**2 for t in T))\n",
    "\n",
    "#Constraints\n",
    "for t in T: \n",
    "    m.con(g[t] == sum(a[t][i]*x[i] for i in U) + z)\n",
    "\n",
    "#Solve\n",
    "m.sol(['min'], solver)"
   ]
  },
  {
   "attachments": {},
   "cell_type": "markdown",
   "metadata": {},
   "source": [
    "### Result"
   ]
  },
  {
   "cell_type": "code",
   "execution_count": 4,
   "metadata": {},
   "outputs": [
    {
     "name": "stdout",
     "output_type": "stream",
     "text": [
      "\n",
      "+--------------------------------------------------------------------------------+\n",
      "|                                 FelooPy v0.2.5                                 |\n",
      "+--------------------------------------------------------------------------------+\n",
      "| Date: 2023-05-27                                                Time: 19:00:27 |\n",
      "| Interface: gekko                                                 Solver: apopt |\n",
      "+--------------------------------------------------------------------------------+\n",
      "|                               Model Information                                |\n",
      "+--------------------------------------------------------------------------------+\n",
      "|                              The 'lr' model has:                               |\n",
      "|                       9 free variable(s) in 3 class(es).                       |\n",
      "|                                1 objective(s).                                 |\n",
      "|                        7 constraint(s) in 1 class(es).                         |\n",
      "|                 Total number of variables is 9 in 9 class(es).                 |\n",
      "+--------------------------------------------------------------------------------+\n",
      "|                               Solve Information                                |\n",
      "+--------------------------------------------------------------------------------+\n",
      "| Method: exact                                               Objective Value(s) |\n",
      "| Status:                                                                    min |\n",
      "| optimal                                                                  71.50 |\n",
      "+--------------------------------------------------------------------------------+\n",
      "|                               Metric Information                               |\n",
      "+--------------------------------------------------------------------------------+\n",
      "| CPT   (microseconds):  4.63e+04                                                |\n",
      "| CPT   (hour:min:sec):  00:00:00                                                |\n",
      "+--------------------------------------------------------------------------------+\n",
      "|                              Decision Information                              |\n",
      "+--------------------------------------------------------------------------------+\n",
      "| x[0] = -0.02980603901                                                          |\n",
      "| z = 32.526238806                                                               |\n",
      "| g[0] = 30.141755685                                                            |\n",
      "| g[1] = 28.055332955                                                            |\n",
      "| g[2] = 26.565031004                                                            |\n",
      "| g[3] = 20.603823202                                                            |\n",
      "| g[4] = 28.20436315                                                             |\n",
      "| g[5] = 22.094125153                                                            |\n",
      "| g[6] = 20.335568851                                                            |\n",
      "+--------------------------------------------------------------------------------+\n"
     ]
    }
   ],
   "source": [
    "#Report\n",
    "m.report()\n",
    "\n",
    "#Store\n",
    "w = []\n",
    "for i in U: w.append(m.get(x[i]))\n",
    "b = m.get(z)"
   ]
  },
  {
   "attachments": {},
   "cell_type": "markdown",
   "metadata": {},
   "source": [
    "### 2 | Price optimization"
   ]
  },
  {
   "attachments": {},
   "cell_type": "markdown",
   "metadata": {},
   "source": [
    "### Setting"
   ]
  },
  {
   "cell_type": "code",
   "execution_count": 5,
   "metadata": {},
   "outputs": [],
   "source": [
    "problem_name = 'po'\n",
    "solution_method = 'exact'\n",
    "interface = 'gekko'\n",
    "solver = 'bpopt'\n",
    "key = 0"
   ]
  },
  {
   "attachments": {},
   "cell_type": "markdown",
   "metadata": {},
   "source": [
    "### Model"
   ]
  },
  {
   "cell_type": "code",
   "execution_count": 6,
   "metadata": {},
   "outputs": [],
   "source": [
    "#Environment\n",
    "m = target_model(solution_method, problem_name, interface, key=key)\n",
    "\n",
    "#Dataset\n",
    "x = w[0]\n",
    "z = b\n",
    "\n",
    "#Variable\n",
    "q = m.pvar('q')\n",
    "\n",
    "#Objective\n",
    "m.obj(z*q+x*(q**2))\n",
    "\n",
    "#Solve\n",
    "m.sol(['max'],solver)"
   ]
  },
  {
   "attachments": {},
   "cell_type": "markdown",
   "metadata": {},
   "source": [
    "### Result"
   ]
  },
  {
   "cell_type": "code",
   "execution_count": 7,
   "metadata": {},
   "outputs": [
    {
     "name": "stdout",
     "output_type": "stream",
     "text": [
      "\n",
      "+--------------------------------------------------------------------------------+\n",
      "|                                 FelooPy v0.2.5                                 |\n",
      "+--------------------------------------------------------------------------------+\n",
      "| Date: 2023-05-27                                                Time: 19:00:27 |\n",
      "| Interface: gekko                                                 Solver: bpopt |\n",
      "+--------------------------------------------------------------------------------+\n",
      "|                               Model Information                                |\n",
      "+--------------------------------------------------------------------------------+\n",
      "|                              The 'po' model has:                               |\n",
      "|                     1 positive variable(s) in 1 class(es).                     |\n",
      "|                                1 objective(s).                                 |\n",
      "|                 Total number of variables is 1 in 1 class(es).                 |\n",
      "+--------------------------------------------------------------------------------+\n",
      "|                               Solve Information                                |\n",
      "+--------------------------------------------------------------------------------+\n",
      "| Method: exact                                               Objective Value(s) |\n",
      "| Status:                                                                    max |\n",
      "| optimal                                                                8873.67 |\n",
      "+--------------------------------------------------------------------------------+\n",
      "|                               Metric Information                               |\n",
      "+--------------------------------------------------------------------------------+\n",
      "| CPT   (microseconds):  1.82e+04                                                |\n",
      "| CPT   (hour:min:sec):  00:00:00                                                |\n",
      "+--------------------------------------------------------------------------------+\n",
      "|                              Decision Information                              |\n",
      "+--------------------------------------------------------------------------------+\n",
      "| q = 545.63168982                                                               |\n",
      "+--------------------------------------------------------------------------------+\n",
      "total revenue:  8873.673305852495 $\n",
      "marginal revenue:  -5.7734276026621956e-08 $\n",
      "optimal price (maximum willingness to pay):  16.263119374132863 $\n",
      "optimal sales (consumption level):  545.63168982 units\n"
     ]
    }
   ],
   "source": [
    "# Report\n",
    "m.report()\n",
    "\n",
    "# Display\n",
    "print(\"total revenue: \", z*m.get(q)+x*(m.get(q)**2), \"$\")\n",
    "print(\"marginal revenue: \", z+2*x*m.get(q), \"$\")\n",
    "print(\"optimal price (maximum willingness to pay): \", z+x*m.get(q), \"$\")\n",
    "print(\"optimal sales (consumption level): \", m.get(q), \"units\")"
   ]
  }
 ],
 "metadata": {
  "kernelspec": {
   "display_name": "Python 3",
   "language": "python",
   "name": "python3"
  },
  "language_info": {
   "codemirror_mode": {
    "name": "ipython",
    "version": 3
   },
   "file_extension": ".py",
   "mimetype": "text/x-python",
   "name": "python",
   "nbconvert_exporter": "python",
   "pygments_lexer": "ipython3",
   "version": "3.10.9"
  },
  "orig_nbformat": 4
 },
 "nbformat": 4,
 "nbformat_minor": 2
}
