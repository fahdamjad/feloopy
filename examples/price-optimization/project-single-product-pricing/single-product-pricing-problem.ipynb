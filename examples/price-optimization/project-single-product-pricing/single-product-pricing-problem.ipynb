{
 "cells": [
  {
   "attachments": {},
   "cell_type": "markdown",
   "metadata": {},
   "source": [
    "# Pricing Problem"
   ]
  },
  {
   "attachments": {},
   "cell_type": "markdown",
   "metadata": {},
   "source": [
    "--------------------\n",
    "* Developed by _Keivan Tafakkori_\n",
    "* Date: 18-4-2023\n",
    "* Contact: https://www.linkedin.com/in/keivan-tafakkori/\n",
    "* Github: https://github.com/ktafakkori\n",
    "--------------------"
   ]
  },
  {
   "attachments": {},
   "cell_type": "markdown",
   "metadata": {},
   "source": [
    "### Packages"
   ]
  },
  {
   "cell_type": "code",
   "execution_count": 1,
   "metadata": {},
   "outputs": [],
   "source": [
    "from feloopy import *"
   ]
  },
  {
   "attachments": {},
   "cell_type": "markdown",
   "metadata": {},
   "source": [
    "### 1 | Demand prediction"
   ]
  },
  {
   "attachments": {},
   "cell_type": "markdown",
   "metadata": {},
   "source": [
    "### Setting"
   ]
  },
  {
   "cell_type": "code",
   "execution_count": 2,
   "metadata": {},
   "outputs": [],
   "source": [
    "problem_name = 'lr'\n",
    "solution_method = 'exact'\n",
    "interface = 'gekko'\n",
    "solver = 'apopt'\n",
    "key = 0"
   ]
  },
  {
   "attachments": {},
   "cell_type": "markdown",
   "metadata": {},
   "source": [
    "### Model"
   ]
  },
  {
   "cell_type": "code",
   "execution_count": 3,
   "metadata": {},
   "outputs": [],
   "source": [
    "#Environment\n",
    "m = target_model(solution_method, problem_name, interface, key=key)\n",
    "\n",
    "#Dataset\n",
    "a = [   [80],    [150],       [200],    [400],    [145],    [350],    [409]]    \n",
    "b = [     20,       22,          18,       25,       55,       15,       21]\n",
    "\n",
    "#Sets\n",
    "U = range(len(a[0]))  \n",
    "T = range(len(b))\n",
    "\n",
    "#Variables\n",
    "x = m.fvar('x',[U])\n",
    "z = m.fvar('z')\n",
    "g = m.fvar('g', [T])\n",
    "\n",
    "#Objective\n",
    "m.obj((2*len(T))**(-1)*sum((g[t]-b[t])**2 for t in T))\n",
    "\n",
    "#Constraints\n",
    "for t in T: \n",
    "    m.con(g[t] == sum(a[t][i]*x[i] for i in U) + z)\n",
    "\n",
    "#Solve\n",
    "m.sol(['min'], solver)"
   ]
  },
  {
   "attachments": {},
   "cell_type": "markdown",
   "metadata": {},
   "source": [
    "### Result"
   ]
  },
  {
   "cell_type": "code",
   "execution_count": 4,
   "metadata": {},
   "outputs": [
    {
     "name": "stdout",
     "output_type": "stream",
     "text": [
      "\n",
      "~~~~~~~~~~~~~~\n",
      "FELOOPY v0.2.4\n",
      "~~~~~~~~~~~~~~\n",
      "\n",
      "~~~~~~~~~~~\n",
      "DATE & TIME\n",
      "~~~~~~~~~~~\n",
      "2023-04-18 01:16:52\n",
      "Tue, Apr 18, 2023\n",
      "\n",
      "~~~~~~~~~~~~\n",
      "PROBLEM INFO\n",
      "~~~~~~~~~~~~\n",
      "| info      | detail   | variable   | count [cat,tot]   | other      | count [cat,tot]    |\n",
      "|-----------|----------|------------|-------------------|------------|--------------------|\n",
      "| model     | lr       | positive   | [0, 0]            | objective  | [1, 1]             |\n",
      "| interface | gekko    | binary     | [0, 0]            | constraint | [1, 7]             |\n",
      "| solver    | apopt    | integer    | [0, 0]            |            |                    |\n",
      "| direction | ['min']  | free       | [3, 9]            |            |                    |\n",
      "| method    | exact    | tot        | [3, 9]            |            |                    |\n",
      "~~~~~~~~~~~~\n",
      "\n",
      "~~~~~~~~~~\n",
      "SOLVE INFO\n",
      "~~~~~~~~~~\n",
      "status:  optimal\n",
      "objective:  71.498759054\n",
      "cpu time [gekko]:  89227.90000360692 (microseconds) 00:00:00 (h, m, s)\n",
      "~~~~~~~~~~~\n",
      "\n",
      "~~~~~~~~~~\n",
      "MODEL INFO\n",
      "~~~~~~~~~~\n",
      "name: lr\n",
      "objective: min ((0.07142857142857142)*((((((((0+(((v3-20))^(2)))+(((v4-22))^(2)))+(((v5-18))^(2)))+(((v6-25))^(2)))+(((v7-55))^(2)))+(((v8-15))^(2)))+(((v9-21))^(2)))))\n",
      "subject to:\n",
      "constraint 0: v3=((0+((80)*(v1)))+v2)\n",
      "constraint 1: v4=((0+((150)*(v1)))+v2)\n",
      "constraint 2: v5=((0+((200)*(v1)))+v2)\n",
      "constraint 3: v6=((0+((400)*(v1)))+v2)\n",
      "constraint 4: v7=((0+((145)*(v1)))+v2)\n",
      "constraint 5: v8=((0+((350)*(v1)))+v2)\n",
      "constraint 6: v9=((0+((409)*(v1)))+v2)\n",
      "~~~~~~~~~~\n",
      "\n"
     ]
    }
   ],
   "source": [
    "#Report\n",
    "m.report()\n",
    "\n",
    "#Store\n",
    "w = []\n",
    "for i in U: w.append(m.get(x[i]))\n",
    "b = m.get(z)"
   ]
  },
  {
   "attachments": {},
   "cell_type": "markdown",
   "metadata": {},
   "source": [
    "### 2 | Price optimization"
   ]
  },
  {
   "attachments": {},
   "cell_type": "markdown",
   "metadata": {},
   "source": [
    "### Setting"
   ]
  },
  {
   "cell_type": "code",
   "execution_count": 5,
   "metadata": {},
   "outputs": [],
   "source": [
    "problem_name = 'po'\n",
    "solution_method = 'exact'\n",
    "interface = 'gekko'\n",
    "solver = 'bpopt'\n",
    "key = 0"
   ]
  },
  {
   "attachments": {},
   "cell_type": "markdown",
   "metadata": {},
   "source": [
    "### Model"
   ]
  },
  {
   "cell_type": "code",
   "execution_count": 6,
   "metadata": {},
   "outputs": [],
   "source": [
    "#Environment\n",
    "m = target_model(solution_method, problem_name, interface, key=key)\n",
    "\n",
    "#Dataset\n",
    "x = w[0]\n",
    "z = b\n",
    "\n",
    "#Variable\n",
    "q = m.pvar('q')\n",
    "\n",
    "#Objective\n",
    "m.obj(z*q+x*(q**2))\n",
    "\n",
    "#Solve\n",
    "m.sol(['max'],solver)"
   ]
  },
  {
   "attachments": {},
   "cell_type": "markdown",
   "metadata": {},
   "source": [
    "### Result"
   ]
  },
  {
   "cell_type": "code",
   "execution_count": 7,
   "metadata": {},
   "outputs": [
    {
     "name": "stdout",
     "output_type": "stream",
     "text": [
      "\n",
      "~~~~~~~~~~~~~~\n",
      "FELOOPY v0.2.4\n",
      "~~~~~~~~~~~~~~\n",
      "\n",
      "~~~~~~~~~~~\n",
      "DATE & TIME\n",
      "~~~~~~~~~~~\n",
      "2023-04-18 01:16:52\n",
      "Tue, Apr 18, 2023\n",
      "\n",
      "~~~~~~~~~~~~\n",
      "PROBLEM INFO\n",
      "~~~~~~~~~~~~\n",
      "| info      | detail   | variable   | count [cat,tot]   | other      | count [cat,tot]    |\n",
      "|-----------|----------|------------|-------------------|------------|--------------------|\n",
      "| model     | po       | positive   | [1, 1]            | objective  | [1, 1]             |\n",
      "| interface | gekko    | binary     | [0, 0]            | constraint | [0, 0]             |\n",
      "| solver    | bpopt    | integer    | [0, 0]            |            |                    |\n",
      "| direction | ['max']  | free       | [0, 0]            |            |                    |\n",
      "| method    | exact    | tot        | [1, 1]            |            |                    |\n",
      "~~~~~~~~~~~~\n",
      "\n",
      "~~~~~~~~~~\n",
      "SOLVE INFO\n",
      "~~~~~~~~~~\n",
      "status:  optimal\n",
      "objective:  8873.6733059\n",
      "cpu time [gekko]:  44426.50000419235 (microseconds) 00:00:00 (h, m, s)\n",
      "~~~~~~~~~~~\n",
      "\n",
      "~~~~~~~~~~\n",
      "MODEL INFO\n",
      "~~~~~~~~~~\n",
      "name: po\n",
      "objective: max (((32.526238806)*(v1))+((-0.02980603901)*(((v1)^(2)))))\n",
      "subject to:\n",
      "~~~~~~~~~~~~\n",
      "PROBLEM INFO\n",
      "~~~~~~~~~~~~\n",
      "| info      | detail   | variable   | count [cat,tot]   | other      | count [cat,tot]    |\n",
      "|-----------|----------|------------|-------------------|------------|--------------------|\n",
      "| model     | po       | positive   | [1, 1]            | objective  | [1, 1]             |\n",
      "| interface | gekko    | binary     | [0, 0]            | constraint | [0, 0]             |\n",
      "| solver    | bpopt    | integer    | [0, 0]            |            |                    |\n",
      "| direction | ['max']  | free       | [0, 0]            |            |                    |\n",
      "| method    | exact    | tot        | [1, 1]            |            |                    |\n",
      "~~~~~~~~~~~~\n",
      "\n",
      "status:  optimal\n",
      "objective:  8873.6733059\n",
      "cpu time [gekko]:  44426.50000419235 (microseconds) 00:00:00 (h, m, s)\n",
      "total revenue:  8873.673305852495 $\n",
      "marginal revenue:  -5.7734276026621956e-08 $\n",
      "optimal price (maximum willingness to pay):  16.263119374132863 $\n",
      "optimal sales (consumption level):  545.63168982 units\n"
     ]
    }
   ],
   "source": [
    "# Report\n",
    "m.report()\n",
    "\n",
    "# Display\n",
    "print(\"total revenue: \", z*m.get(q)+x*(m.get(q)**2), \"$\")\n",
    "print(\"marginal revenue: \", z+2*x*m.get(q), \"$\")\n",
    "print(\"optimal price (maximum willingness to pay): \", z+x*m.get(q), \"$\")\n",
    "print(\"optimal sales (consumption level): \", m.get(q), \"units\")"
   ]
  }
 ],
 "metadata": {
  "kernelspec": {
   "display_name": "Python 3",
   "language": "python",
   "name": "python3"
  },
  "language_info": {
   "codemirror_mode": {
    "name": "ipython",
    "version": 3
   },
   "file_extension": ".py",
   "mimetype": "text/x-python",
   "name": "python",
   "nbconvert_exporter": "python",
   "pygments_lexer": "ipython3",
   "version": "3.10.0"
  },
  "orig_nbformat": 4
 },
 "nbformat": 4,
 "nbformat_minor": 2
}
