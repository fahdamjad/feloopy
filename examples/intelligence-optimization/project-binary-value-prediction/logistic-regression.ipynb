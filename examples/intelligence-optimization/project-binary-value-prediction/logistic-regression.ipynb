{
 "cells": [
  {
   "attachments": {},
   "cell_type": "markdown",
   "metadata": {},
   "source": [
    "![dpp](./img/examples.png)"
   ]
  },
  {
   "attachments": {},
   "cell_type": "markdown",
   "metadata": {},
   "source": [
    "\n",
    "# Logistic Regression Problem"
   ]
  },
  {
   "attachments": {},
   "cell_type": "markdown",
   "metadata": {},
   "source": [
    "--------------------\n",
    "* Developed by _Keivan Tafakkori_\n",
    "* Date: 19-4-2023\n",
    "* Contact: https://www.linkedin.com/in/keivan-tafakkori/\n",
    "* GitHub: https://github.com/ktafakkori\n",
    "--------------------"
   ]
  },
  {
   "attachments": {},
   "cell_type": "markdown",
   "metadata": {},
   "source": [
    "### 1 | **Exact optimization**"
   ]
  },
  {
   "attachments": {},
   "cell_type": "markdown",
   "metadata": {},
   "source": [
    "### Packages"
   ]
  },
  {
   "cell_type": "code",
   "execution_count": 1,
   "metadata": {},
   "outputs": [],
   "source": [
    "from feloopy import *"
   ]
  },
  {
   "attachments": {},
   "cell_type": "markdown",
   "metadata": {},
   "source": [
    "### Setting"
   ]
  },
  {
   "cell_type": "code",
   "execution_count": 2,
   "metadata": {},
   "outputs": [],
   "source": [
    "problem_name = 'lrp'\n",
    "solution_method = 'exact'\n",
    "interface = 'gekko'\n",
    "solver = 'apopt'\n",
    "key = 0"
   ]
  },
  {
   "attachments": {},
   "cell_type": "markdown",
   "metadata": {},
   "source": [
    "### Function"
   ]
  },
  {
   "cell_type": "code",
   "execution_count": 3,
   "metadata": {},
   "outputs": [],
   "source": [
    "#Prediction function\n",
    "def predict(w,b,a): \n",
    "    print(f\"Input = {a} -> Output = {round((1+exponent(-(sum(w[i]*a[i] for i in U) + b)))**(-1))}\")"
   ]
  },
  {
   "attachments": {},
   "cell_type": "markdown",
   "metadata": {},
   "source": [
    "### Learner model"
   ]
  },
  {
   "cell_type": "code",
   "execution_count": 4,
   "metadata": {},
   "outputs": [],
   "source": [
    "# Environment\n",
    "m = model(solution_method, problem_name, interface, key=key)\n",
    "\n",
    "# Dataset\n",
    "a = np.array([[1, 2, 2], [2, 3, 3], [3, 4, 5], [4, 5, 6], [5, 7, 8]])  # Features\n",
    "b = np.array([0, 1, 0, 1, 0])  # Target\n",
    "\n",
    "# Sets\n",
    "U = m.set(np.shape(a)[1])  # Features\n",
    "T = range(np.shape(a)[0])  # Observations\n",
    "\n",
    "# Preprocessing Dataset\n",
    "ran_a = np.array([np.ptp(a[:,i]) for i in U]) #Range of feature values \n",
    "ave_a = np.array([np.average(a[:,i]) for i in U]) #Average of feature values\n",
    "nor_a = (a-ave_a)/ran_a #Normalized feature values\n",
    "\n",
    "# Variables\n",
    "x = m.fvar('x', [U])\n",
    "z = m.fvar('z')\n",
    "\n",
    "# Objective\n",
    "m.obj((2*len(T))**(-1)*sum(((1+m.exponent(-(sum(a[t,i]*x[i] for i in U) + z)))**(-1)-b[t])**2 for t in T))\n",
    "\n",
    "# Solve\n",
    "m.sol(['min'], solver)"
   ]
  },
  {
   "attachments": {},
   "cell_type": "markdown",
   "metadata": {},
   "source": [
    "### Result"
   ]
  },
  {
   "cell_type": "code",
   "execution_count": 5,
   "metadata": {},
   "outputs": [
    {
     "name": "stdout",
     "output_type": "stream",
     "text": [
      "\n",
      "+--------------------------------------------------------------------------------+\n",
      "|                                 FelooPy v0.2.5                                 |\n",
      "+--------------------------------------------------------------------------------+\n",
      "| Date: 2023-06-05                                                Time: 18:05:22 |\n",
      "| Interface: gekko                                                 Solver: apopt |\n",
      "+--------------------------------------------------------------------------------+\n",
      "|                               Model Information                                |\n",
      "+--------------------------------------------------------------------------------+\n",
      "|                              The 'lrp' model has:                              |\n",
      "|                       4 free variable(s) in 2 class(es).                       |\n",
      "|                                1 objective(s).                                 |\n",
      "|                 Total number of variables is 4 in 2 class(es).                 |\n",
      "+--------------------------------------------------------------------------------+\n",
      "|                               Solve Information                                |\n",
      "+--------------------------------------------------------------------------------+\n",
      "| Method: exact                                               Objective Value(s) |\n",
      "| Status:                                                                    min |\n",
      "| optimal                                                                   0.00 |\n",
      "+--------------------------------------------------------------------------------+\n",
      "|                               Metric Information                               |\n",
      "+--------------------------------------------------------------------------------+\n",
      "| CPT   (microseconds):  4.59e+04                                                |\n",
      "| CPT   (hour:min:sec):  00:00:00                                                |\n",
      "+--------------------------------------------------------------------------------+\n",
      "|                              Decision Information                              |\n",
      "+--------------------------------------------------------------------------------+\n",
      "| x[0] = 62.30985968                                                             |\n",
      "| x[1] = -8.0600066836                                                           |\n",
      "| x[2] = -33.669930355                                                           |\n",
      "| z = 6.9677201091                                                               |\n",
      "+--------------------------------------------------------------------------------+\n",
      "weight of feature 0:  62.30985968\n",
      "weight of feature 1:  -8.0600066836\n",
      "weight of feature 2:  -33.669930355\n",
      "bias :  6.9677201091\n"
     ]
    }
   ],
   "source": [
    "#Report\n",
    "m.report()\n",
    "\n",
    "#Display & Store\n",
    "w = [] \n",
    "for i in U: \n",
    "    w.append(m.get(x[i]))\n",
    "    print(f\"weight of feature {i}: \", w[i])\n",
    "\n",
    "b = m.get(z)\n",
    "print(f\"bias : \", b)"
   ]
  },
  {
   "attachments": {},
   "cell_type": "markdown",
   "metadata": {},
   "source": [
    "### Approxiamtor model"
   ]
  },
  {
   "cell_type": "code",
   "execution_count": 6,
   "metadata": {},
   "outputs": [
    {
     "name": "stdout",
     "output_type": "stream",
     "text": [
      "Input = [1, 2.1, 2] -> Output = 0.0\n",
      "Input = [1.9, 3, 3] -> Output = 1.0\n",
      "Input = [3.2, 4, 5] -> Output = 1.0\n",
      "Input = [4.1, 5, 6] -> Output = 1.0\n",
      "Input = [4.9, 7, 8] -> Output = 0.0\n"
     ]
    }
   ],
   "source": [
    "#Test dataset\n",
    "aa = [[1, 2.1, 2], [1.9, 3, 3], [3.2, 4, 5], [4.1, 5, 6], [4.9, 7, 8]]  # Features\n",
    "bb = [0, 1, 0, 1, 0]  # Target\n",
    "\n",
    "for item in aa:\n",
    "    predict(w,b,item)"
   ]
  }
 ],
 "metadata": {
  "kernelspec": {
   "display_name": "Python 3",
   "language": "python",
   "name": "python3"
  },
  "language_info": {
   "codemirror_mode": {
    "name": "ipython",
    "version": 3
   },
   "file_extension": ".py",
   "mimetype": "text/x-python",
   "name": "python",
   "nbconvert_exporter": "python",
   "pygments_lexer": "ipython3",
   "version": "3.10.9"
  },
  "orig_nbformat": 4
 },
 "nbformat": 4,
 "nbformat_minor": 2
}
