{
 "cells": [
  {
   "attachments": {},
   "cell_type": "markdown",
   "metadata": {},
   "source": [
    "![dpp](./img/examples.png)"
   ]
  },
  {
   "attachments": {},
   "cell_type": "markdown",
   "metadata": {},
   "source": [
    "\n",
    "# Linear Regression Problem"
   ]
  },
  {
   "attachments": {},
   "cell_type": "markdown",
   "metadata": {},
   "source": [
    "--------------------\n",
    "* Developed by _Keivan Tafakkori_\n",
    "* Date: 19-4-2023\n",
    "* Contact: https://www.linkedin.com/in/keivan-tafakkori/\n",
    "* GitHub: https://github.com/ktafakkori\n",
    "--------------------"
   ]
  },
  {
   "attachments": {},
   "cell_type": "markdown",
   "metadata": {},
   "source": [
    "### 1 | **Exact optimization**"
   ]
  },
  {
   "attachments": {},
   "cell_type": "markdown",
   "metadata": {},
   "source": [
    "### Packages"
   ]
  },
  {
   "cell_type": "code",
   "execution_count": 1,
   "metadata": {},
   "outputs": [],
   "source": [
    "from feloopy import *"
   ]
  },
  {
   "attachments": {},
   "cell_type": "markdown",
   "metadata": {},
   "source": [
    "### Setting"
   ]
  },
  {
   "cell_type": "code",
   "execution_count": 2,
   "metadata": {},
   "outputs": [],
   "source": [
    "problem_name = 'lrp'\n",
    "solution_method = 'exact'\n",
    "interface = 'gurobi'\n",
    "solver = 'gurobi'\n",
    "key = 0"
   ]
  },
  {
   "attachments": {},
   "cell_type": "markdown",
   "metadata": {},
   "source": [
    "### Approximation Function"
   ]
  },
  {
   "cell_type": "code",
   "execution_count": 3,
   "metadata": {},
   "outputs": [],
   "source": [
    "#Prediction function\n",
    "def predict(w,b,a): \n",
    "    print(f\"Input = {a} -> Output = {sum(w[i]*a[i] for i in range(len(a))) + b}\")"
   ]
  },
  {
   "attachments": {},
   "cell_type": "markdown",
   "metadata": {},
   "source": [
    "### Learner model"
   ]
  },
  {
   "cell_type": "code",
   "execution_count": 4,
   "metadata": {},
   "outputs": [
    {
     "name": "stdout",
     "output_type": "stream",
     "text": [
      "Restricted license - for non-production use only - expires 2024-10-28\n"
     ]
    }
   ],
   "source": [
    "# Environment\n",
    "m = model(solution_method, problem_name, interface, key=key)\n",
    "\n",
    "# Dataset\n",
    "a = np.array([[1, 2, 2], [2, 3, 3], [3, 4, 5], [4, 5, 6], [5, 7, 8]])  # Features\n",
    "b = np.array([1, 2, 3, 4, 5])  # Target\n",
    "\n",
    "# Sets\n",
    "U = m.set(np.shape(a)[1])  # Features\n",
    "T = range(np.shape(a)[0])  # Observations\n",
    "\n",
    "# Preprocessing Dataset\n",
    "ran_a = np.array([np.ptp(a[:,i]) for i in U]) #Range of feature values \n",
    "ave_a = np.array([np.average(a[:,i]) for i in U]) #Average of feature values\n",
    "nor_a = (a-ave_a)/ran_a #Normalized feature values\n",
    "\n",
    "ran_b = np.ptp(b) #Range of target values \n",
    "ave_b = np.average(b) #Average of target values\n",
    "nor_b = (b-ave_b)/ran_b #Normalized target values\n",
    "\n",
    "# Variables\n",
    "x = m.fvar('x', [U])\n",
    "z = m.fvar('z')\n",
    "\n",
    "# Objective\n",
    "m.obj((2*len(T))**(-1)*sum(( sum(nor_a[t, i]*x[i] for i in U) + z-nor_b[t])**2 for t in T))\n",
    "\n",
    "# Solve\n",
    "m.sol(['min'], solver)"
   ]
  },
  {
   "attachments": {},
   "cell_type": "markdown",
   "metadata": {},
   "source": [
    "### Result"
   ]
  },
  {
   "cell_type": "code",
   "execution_count": 5,
   "metadata": {},
   "outputs": [
    {
     "name": "stdout",
     "output_type": "stream",
     "text": [
      "\n",
      "+--------------------------------------------------------------------------------+\n",
      "|                                 FelooPy v0.2.5                                 |\n",
      "+--------------------------------------------------------------------------------+\n",
      "| Date: 2023-05-27                                                Time: 18:56:31 |\n",
      "| Interface: gurobi                                               Solver: gurobi |\n",
      "+--------------------------------------------------------------------------------+\n",
      "|                               Model Information                                |\n",
      "+--------------------------------------------------------------------------------+\n",
      "|                              The 'lrp' model has:                              |\n",
      "|                       4 free variable(s) in 2 class(es).                       |\n",
      "|                                1 objective(s).                                 |\n",
      "|                 Total number of variables is 4 in 4 class(es).                 |\n",
      "+--------------------------------------------------------------------------------+\n",
      "|                               Solve Information                                |\n",
      "+--------------------------------------------------------------------------------+\n",
      "| Method: exact                                               Objective Value(s) |\n",
      "| Status:                                                                    min |\n",
      "| optimal                                                                  -0.00 |\n",
      "+--------------------------------------------------------------------------------+\n",
      "|                               Metric Information                               |\n",
      "+--------------------------------------------------------------------------------+\n",
      "| CPT   (microseconds):  1.00e+04                                                |\n",
      "| CPT   (hour:min:sec):  00:00:00                                                |\n",
      "+--------------------------------------------------------------------------------+\n",
      "|                              Decision Information                              |\n",
      "+--------------------------------------------------------------------------------+\n",
      "| x[0] = 0.9999999999838278                                                      |\n",
      "| x[1] = -1.7949871363221737e-12                                                 |\n",
      "| x[2] = 1.675768307077925e-11                                                   |\n",
      "+--------------------------------------------------------------------------------+\n"
     ]
    }
   ],
   "source": [
    "#Report\n",
    "m.report()\n",
    "\n",
    "#Store\n",
    "w = [] \n",
    "for i in U: \n",
    "    w.append(m.get(x[i]))\n",
    "\n",
    "b = m.get(z)"
   ]
  },
  {
   "attachments": {},
   "cell_type": "markdown",
   "metadata": {},
   "source": [
    "### Approxiamtor model"
   ]
  },
  {
   "cell_type": "code",
   "execution_count": 6,
   "metadata": {},
   "outputs": [
    {
     "name": "stdout",
     "output_type": "stream",
     "text": [
      "Input = [6, 8, 9] -> Output = 6.000000000039425\n",
      "Input = [7, 4, 3] -> Output = 6.999999999929887\n",
      "Input = [8, 3, 5] -> Output = 7.999999999949026\n",
      "Input = [9, 1, 6] -> Output = 8.999999999953202\n",
      "Input = [10, 9, 3] -> Output = 9.999999999872397\n"
     ]
    }
   ],
   "source": [
    "#Test dataset\n",
    "aa = [[6,8,9],[7,4,3],[8,3,5],[9,1,6],[10,9,3]] #Features\n",
    "bb = [ 6     , 7     , 8     , 9     , 10     ] #Target\n",
    "\n",
    "for item in aa:\n",
    "    predict(w,b,item)"
   ]
  },
  {
   "attachments": {},
   "cell_type": "markdown",
   "metadata": {},
   "source": [
    "### 2 | **Exact optimization (Matrix form)**"
   ]
  },
  {
   "attachments": {},
   "cell_type": "markdown",
   "metadata": {},
   "source": [
    "### Setting"
   ]
  },
  {
   "cell_type": "code",
   "execution_count": 7,
   "metadata": {},
   "outputs": [],
   "source": [
    "problem_name = 'lrp'\n",
    "solution_method = 'exact'\n",
    "interface = 'cvxpy'\n",
    "solver = 'gurobi'\n",
    "key = 0"
   ]
  },
  {
   "attachments": {},
   "cell_type": "markdown",
   "metadata": {},
   "source": [
    "### Learner model"
   ]
  },
  {
   "cell_type": "code",
   "execution_count": 8,
   "metadata": {},
   "outputs": [
    {
     "name": "stdout",
     "output_type": "stream",
     "text": [
      "(CVXPY) May 27 06:56:32 PM: Encountered unexpected exception importing solver GLOP:\n",
      "RuntimeError('Unrecognized new version of ortools (9.6.2534). Expected < 9.5.0.Please open a feature request on cvxpy to enable support for this version.')\n",
      "(CVXPY) May 27 06:56:32 PM: Encountered unexpected exception importing solver PDLP:\n",
      "RuntimeError('Unrecognized new version of ortools (9.6.2534). Expected < 9.5.0.Please open a feature request on cvxpy to enable support for this version.')\n",
      "{'solver': 'GUROBI', 'verbose': False, 'scipy_options': None}\n"
     ]
    }
   ],
   "source": [
    "# Environment\n",
    "m = model(solution_method, problem_name, interface, key=key)\n",
    "\n",
    "# Dataset\n",
    "a = np.array([[1, 2, 2], [2, 3, 3], [3, 4, 5], [4, 5, 6], [5, 7, 8]])  # Features\n",
    "b = np.array([1, 2, 3, 4, 5])  # Target\n",
    "\n",
    "# Sets\n",
    "U = m.set(np.shape(a)[1])  # Features\n",
    "T = range(np.shape(a)[0])  # Observations\n",
    "\n",
    "# Preprocessing Dataset\n",
    "ran_a = np.array([np.ptp(a[:,i]) for i in U]) #Range of feature values \n",
    "ave_a = np.array([np.average(a[:,i]) for i in U]) #Average of feature values\n",
    "nor_a = (a-ave_a)/ran_a #Normalized feature values\n",
    "\n",
    "ran_b = np.ptp(b) #Range of target values \n",
    "ave_b = np.average(b) #Average of target values\n",
    "nor_b = (b-ave_b)/ran_b #Normalized target values\n",
    "\n",
    "# Variables\n",
    "x = m.ftvar('x', [U])\n",
    "z = m.ftvar('z')\n",
    "\n",
    "# Objective\n",
    "m.obj((2*len(T))**(-1)*sum((nor_a[t, :]@x + z -nor_b[t])**2 for t in T))\n",
    "\n",
    "# Solve\n",
    "m.sol(['min'], solver)"
   ]
  },
  {
   "attachments": {},
   "cell_type": "markdown",
   "metadata": {},
   "source": [
    "### Result"
   ]
  },
  {
   "cell_type": "code",
   "execution_count": 9,
   "metadata": {},
   "outputs": [
    {
     "name": "stdout",
     "output_type": "stream",
     "text": [
      "\n",
      "+--------------------------------------------------------------------------------+\n",
      "|                                 FelooPy v0.2.5                                 |\n",
      "+--------------------------------------------------------------------------------+\n",
      "| Date: 2023-05-27                                                Time: 18:56:32 |\n",
      "| Interface: cvxpy                                                Solver: gurobi |\n",
      "+--------------------------------------------------------------------------------+\n",
      "|                               Model Information                                |\n",
      "+--------------------------------------------------------------------------------+\n",
      "|                              The 'lrp' model has:                              |\n",
      "|                       4 free variable(s) in 2 class(es).                       |\n",
      "|                                1 objective(s).                                 |\n",
      "|                 Total number of variables is 4 in 4 class(es).                 |\n",
      "+--------------------------------------------------------------------------------+\n",
      "|                               Solve Information                                |\n",
      "+--------------------------------------------------------------------------------+\n",
      "| Method: exact                                               Objective Value(s) |\n",
      "| Status:                                                                    min |\n",
      "| optimal                                                                   0.00 |\n",
      "+--------------------------------------------------------------------------------+\n",
      "|                               Metric Information                               |\n",
      "+--------------------------------------------------------------------------------+\n",
      "| CPT   (microseconds):  5.81e+04                                                |\n",
      "| CPT   (hour:min:sec):  00:00:00                                                |\n",
      "+--------------------------------------------------------------------------------+\n",
      "|                              Decision Information                              |\n",
      "+--------------------------------------------------------------------------------+\n",
      "| x[0] = 0.9999692730875862                                                      |\n",
      "| x[1] = 3.7022393472307957e-06                                                  |\n",
      "| x[2] = 2.6828166619585758e-05                                                  |\n",
      "| z = 3.6379788070917126e-17                                                     |\n",
      "+--------------------------------------------------------------------------------+\n"
     ]
    }
   ],
   "source": [
    "#Report\n",
    "m.report()\n",
    "\n",
    "#Display & Store\n",
    "w = [] \n",
    "for i in U: \n",
    "    w.append(m.get(x)[i])\n",
    "\n",
    "b = m.get(z)"
   ]
  },
  {
   "attachments": {},
   "cell_type": "markdown",
   "metadata": {},
   "source": [
    "### Approximator model"
   ]
  },
  {
   "cell_type": "code",
   "execution_count": 10,
   "metadata": {},
   "outputs": [
    {
     "name": "stdout",
     "output_type": "stream",
     "text": [
      "Input = [6, 8, 9] -> Output = 6.000086709939871\n",
      "Input = [7, 4, 3] -> Output = 6.999880205070351\n",
      "Input = [8, 3, 5] -> Output = 7.999899432251829\n",
      "Input = [9, 1, 6] -> Output = 8.99988812902734\n",
      "Input = [10, 9, 3] -> Output = 9.999806535529848\n"
     ]
    }
   ],
   "source": [
    "#Test dataset\n",
    "aa = [[6,8,9],[7,4,3],[8,3,5],[9,1,6],[10,9,3]] #Features\n",
    "bb = [ 6     , 7     , 8     , 9     , 10     ] #Target\n",
    "\n",
    "for item in aa:\n",
    "    predict(w,b,item)"
   ]
  }
 ],
 "metadata": {
  "kernelspec": {
   "display_name": "Python 3",
   "language": "python",
   "name": "python3"
  },
  "language_info": {
   "codemirror_mode": {
    "name": "ipython",
    "version": 3
   },
   "file_extension": ".py",
   "mimetype": "text/x-python",
   "name": "python",
   "nbconvert_exporter": "python",
   "pygments_lexer": "ipython3",
   "version": "3.10.9"
  },
  "orig_nbformat": 4
 },
 "nbformat": 4,
 "nbformat_minor": 2
}
