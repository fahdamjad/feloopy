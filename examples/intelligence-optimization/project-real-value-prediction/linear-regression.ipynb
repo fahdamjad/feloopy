{
 "cells": [
  {
   "attachments": {},
   "cell_type": "markdown",
   "metadata": {},
   "source": [
    "![dpp](./img/examples.png)"
   ]
  },
  {
   "attachments": {},
   "cell_type": "markdown",
   "metadata": {},
   "source": [
    "\n",
    "# Linear Regression Problem"
   ]
  },
  {
   "attachments": {},
   "cell_type": "markdown",
   "metadata": {},
   "source": [
    "--------------------\n",
    "* Developed by _Keivan Tafakkori_\n",
    "* Date: 19-4-2023\n",
    "* Contact: https://www.linkedin.com/in/keivan-tafakkori/\n",
    "* GitHub: https://github.com/ktafakkori\n",
    "--------------------"
   ]
  },
  {
   "attachments": {},
   "cell_type": "markdown",
   "metadata": {},
   "source": [
    "### 1 | **Exact optimization**"
   ]
  },
  {
   "attachments": {},
   "cell_type": "markdown",
   "metadata": {},
   "source": [
    "### Packages"
   ]
  },
  {
   "cell_type": "code",
   "execution_count": 11,
   "metadata": {},
   "outputs": [],
   "source": [
    "from feloopy import *"
   ]
  },
  {
   "attachments": {},
   "cell_type": "markdown",
   "metadata": {},
   "source": [
    "### Setting"
   ]
  },
  {
   "cell_type": "code",
   "execution_count": 12,
   "metadata": {},
   "outputs": [],
   "source": [
    "problem_name = 'lrp'\n",
    "solution_method = 'exact'\n",
    "interface = 'gekko'\n",
    "solver = 'apopt'\n",
    "key = 0"
   ]
  },
  {
   "attachments": {},
   "cell_type": "markdown",
   "metadata": {},
   "source": [
    "### Approximation Function"
   ]
  },
  {
   "cell_type": "code",
   "execution_count": 13,
   "metadata": {},
   "outputs": [],
   "source": [
    "#Prediction function\n",
    "def predict(w,b,a): \n",
    "    print(f\"Input = {a} -> Output = {sum(w[i]*a[i] for i in range(len(a))) + b}\")"
   ]
  },
  {
   "attachments": {},
   "cell_type": "markdown",
   "metadata": {},
   "source": [
    "### Learner model"
   ]
  },
  {
   "cell_type": "code",
   "execution_count": 14,
   "metadata": {},
   "outputs": [],
   "source": [
    "# Environment\n",
    "m = model(solution_method, problem_name, interface, key=key)\n",
    "\n",
    "# Dataset\n",
    "a = np.array([[1, 2, 2], [2, 3, 3], [3, 4, 5], [4, 5, 6], [5, 7, 8]])  # Features\n",
    "b = np.array([1, 2, 3, 4, 5])  # Target\n",
    "\n",
    "# Sets\n",
    "U = m.set(np.shape(a)[1])  # Features\n",
    "T = range(np.shape(a)[0])  # Observations\n",
    "\n",
    "# Preprocessing Dataset\n",
    "ran_a = np.array([np.ptp(a[:,i]) for i in U]) #Range of feature values \n",
    "ave_a = np.array([np.average(a[:,i]) for i in U]) #Average of feature values\n",
    "nor_a = (a-ave_a)/ran_a #Normalized feature values\n",
    "\n",
    "ran_b = np.ptp(b) #Range of target values \n",
    "ave_b = np.average(b) #Average of target values\n",
    "nor_b = (b-ave_b)/ran_b #Normalized target values\n",
    "\n",
    "# Variables\n",
    "x = m.fvar('x', [U])\n",
    "z = m.fvar('z')\n",
    "\n",
    "# Objective\n",
    "m.obj((2*len(T))**(-1)*sum(( sum(nor_a[t, i]*x[i] for i in U) + z-nor_b[t])**2 for t in T))\n",
    "\n",
    "# Solve\n",
    "m.sol(['min'], solver)"
   ]
  },
  {
   "attachments": {},
   "cell_type": "markdown",
   "metadata": {},
   "source": [
    "### Result"
   ]
  },
  {
   "cell_type": "code",
   "execution_count": 15,
   "metadata": {},
   "outputs": [
    {
     "name": "stdout",
     "output_type": "stream",
     "text": [
      "\n",
      "+--------------------------------------------------------------------------------+\n",
      "|                                 FelooPy v0.2.5                                 |\n",
      "+--------------------------------------------------------------------------------+\n",
      "| Date: 2023-06-05                                                Time: 18:25:11 |\n",
      "| Interface: gekko                                                 Solver: apopt |\n",
      "+--------------------------------------------------------------------------------+\n",
      "|                               Model Information                                |\n",
      "+--------------------------------------------------------------------------------+\n",
      "|                              The 'lrp' model has:                              |\n",
      "|                       4 free variable(s) in 2 class(es).                       |\n",
      "|                                1 objective(s).                                 |\n",
      "|                 Total number of variables is 4 in 2 class(es).                 |\n",
      "+--------------------------------------------------------------------------------+\n",
      "|                               Solve Information                                |\n",
      "+--------------------------------------------------------------------------------+\n",
      "| Method: exact                                               Objective Value(s) |\n",
      "| Status:                                                                    min |\n",
      "| optimal                                                                   0.00 |\n",
      "+--------------------------------------------------------------------------------+\n",
      "|                               Metric Information                               |\n",
      "+--------------------------------------------------------------------------------+\n",
      "| CPT   (microseconds):  5.36e+04                                                |\n",
      "| CPT   (hour:min:sec):  00:00:00                                                |\n",
      "+--------------------------------------------------------------------------------+\n",
      "|                              Decision Information                              |\n",
      "+--------------------------------------------------------------------------------+\n",
      "| x[0] = 1.0000009023                                                            |\n",
      "| x[1] = -5.3046094174e-08                                                       |\n",
      "| x[2] = -1.0437335416e-06                                                       |\n",
      "+--------------------------------------------------------------------------------+\n"
     ]
    }
   ],
   "source": [
    "#Report\n",
    "m.report()\n",
    "\n",
    "#Store\n",
    "w = [] \n",
    "for i in U: \n",
    "    w.append(m.get(x[i]))\n",
    "\n",
    "b = m.get(z)"
   ]
  },
  {
   "attachments": {},
   "cell_type": "markdown",
   "metadata": {},
   "source": [
    "### Approxiamtor model"
   ]
  },
  {
   "cell_type": "code",
   "execution_count": 16,
   "metadata": {},
   "outputs": [
    {
     "name": "stdout",
     "output_type": "stream",
     "text": [
      "Input = [6, 8, 9] -> Output = 5.999995595829373\n",
      "Input = [7, 4, 3] -> Output = 7.000002972714999\n",
      "Input = [8, 3, 5] -> Output = 8.00000184059401\n",
      "Input = [9, 1, 6] -> Output = 9.000001805252657\n",
      "Input = [10, 9, 3] -> Output = 10.000005414384528\n"
     ]
    }
   ],
   "source": [
    "#Test dataset\n",
    "aa = [[6,8,9],[7,4,3],[8,3,5],[9,1,6],[10,9,3]] #Features\n",
    "bb = [ 6     , 7     , 8     , 9     , 10     ] #Target\n",
    "\n",
    "for item in aa:\n",
    "    predict(w,b,item)"
   ]
  },
  {
   "attachments": {},
   "cell_type": "markdown",
   "metadata": {},
   "source": [
    "### 2 | **Exact optimization (Matrix form)**"
   ]
  },
  {
   "attachments": {},
   "cell_type": "markdown",
   "metadata": {},
   "source": [
    "### Setting"
   ]
  },
  {
   "cell_type": "code",
   "execution_count": 17,
   "metadata": {},
   "outputs": [],
   "source": [
    "problem_name = 'lrp'\n",
    "solution_method = 'exact'\n",
    "interface = 'gekko'\n",
    "solver = 'apopt'\n",
    "key = 0"
   ]
  },
  {
   "attachments": {},
   "cell_type": "markdown",
   "metadata": {},
   "source": [
    "### Learner model"
   ]
  },
  {
   "cell_type": "code",
   "execution_count": 18,
   "metadata": {},
   "outputs": [],
   "source": [
    "# Environment\n",
    "m = model(solution_method, problem_name, interface, key=key)\n",
    "\n",
    "# Dataset\n",
    "a = np.array([[1, 2, 2], [2, 3, 3], [3, 4, 5], [4, 5, 6], [5, 7, 8]])  # Features\n",
    "b = np.array([1, 2, 3, 4, 5])  # Target\n",
    "\n",
    "# Sets\n",
    "U = m.set(np.shape(a)[1])  # Features\n",
    "T = range(np.shape(a)[0])  # Observations\n",
    "\n",
    "# Preprocessing Dataset\n",
    "ran_a = np.array([np.ptp(a[:,i]) for i in U]) #Range of feature values \n",
    "ave_a = np.array([np.average(a[:,i]) for i in U]) #Average of feature values\n",
    "nor_a = (a-ave_a)/ran_a #Normalized feature values\n",
    "\n",
    "ran_b = np.ptp(b) #Range of target values \n",
    "ave_b = np.average(b) #Average of target values\n",
    "nor_b = (b-ave_b)/ran_b #Normalized target values\n",
    "\n",
    "# Variables\n",
    "x = m.ftvar('x', [U])\n",
    "z = m.ftvar('z')\n",
    "\n",
    "# Objective\n",
    "m.obj((2*len(T))**(-1)*sum((nor_a[t, :]@x + z -nor_b[t])**2 for t in T))\n",
    "\n",
    "# Solve\n",
    "m.sol(['min'], solver)"
   ]
  },
  {
   "attachments": {},
   "cell_type": "markdown",
   "metadata": {},
   "source": [
    "### Result"
   ]
  },
  {
   "cell_type": "code",
   "execution_count": 19,
   "metadata": {},
   "outputs": [
    {
     "name": "stdout",
     "output_type": "stream",
     "text": [
      "\n",
      "+--------------------------------------------------------------------------------+\n",
      "|                                 FelooPy v0.2.5                                 |\n",
      "+--------------------------------------------------------------------------------+\n",
      "| Date: 2023-06-05                                                Time: 18:25:11 |\n",
      "| Interface: gekko                                                 Solver: apopt |\n",
      "+--------------------------------------------------------------------------------+\n",
      "|                               Model Information                                |\n",
      "+--------------------------------------------------------------------------------+\n",
      "|                              The 'lrp' model has:                              |\n",
      "|                       4 free variable(s) in 2 class(es).                       |\n",
      "|                                1 objective(s).                                 |\n",
      "|                 Total number of variables is 4 in 2 class(es).                 |\n",
      "+--------------------------------------------------------------------------------+\n",
      "|                               Solve Information                                |\n",
      "+--------------------------------------------------------------------------------+\n",
      "| Method: exact                                               Objective Value(s) |\n",
      "| Status:                                                                    min |\n",
      "| optimal                                                                   0.00 |\n",
      "+--------------------------------------------------------------------------------+\n",
      "|                               Metric Information                               |\n",
      "+--------------------------------------------------------------------------------+\n",
      "| CPT   (microseconds):  4.00e+04                                                |\n",
      "| CPT   (hour:min:sec):  00:00:00                                                |\n",
      "+--------------------------------------------------------------------------------+\n",
      "|                              Decision Information                              |\n",
      "+--------------------------------------------------------------------------------+\n",
      "| x[0] = 1.0000009023                                                            |\n",
      "| x[1] = -5.3046094174e-08                                                       |\n",
      "| x[2] = -1.0437335416e-06                                                       |\n",
      "+--------------------------------------------------------------------------------+\n"
     ]
    }
   ],
   "source": [
    "#Report\n",
    "m.report()\n",
    "\n",
    "#Display & Store\n",
    "w = [] \n",
    "for i in U: \n",
    "    w.append(m.get(x)[i][0])\n",
    "\n",
    "b = m.get(z)"
   ]
  },
  {
   "attachments": {},
   "cell_type": "markdown",
   "metadata": {},
   "source": [
    "### Approximator model"
   ]
  },
  {
   "cell_type": "code",
   "execution_count": 20,
   "metadata": {},
   "outputs": [
    {
     "name": "stdout",
     "output_type": "stream",
     "text": [
      "Input = [6, 8, 9] -> Output = 5.999995595829373\n",
      "Input = [7, 4, 3] -> Output = 7.000002972714999\n",
      "Input = [8, 3, 5] -> Output = 8.00000184059401\n",
      "Input = [9, 1, 6] -> Output = 9.000001805252657\n",
      "Input = [10, 9, 3] -> Output = 10.000005414384528\n"
     ]
    }
   ],
   "source": [
    "#Test dataset\n",
    "aa = [[6,8,9],[7,4,3],[8,3,5],[9,1,6],[10,9,3]] #Features\n",
    "bb = [ 6     , 7     , 8     , 9     , 10     ] #Target\n",
    "\n",
    "for item in aa:\n",
    "    predict(w,b,item)"
   ]
  }
 ],
 "metadata": {
  "kernelspec": {
   "display_name": "Python 3",
   "language": "python",
   "name": "python3"
  },
  "language_info": {
   "codemirror_mode": {
    "name": "ipython",
    "version": 3
   },
   "file_extension": ".py",
   "mimetype": "text/x-python",
   "name": "python",
   "nbconvert_exporter": "python",
   "pygments_lexer": "ipython3",
   "version": "3.10.9"
  },
  "orig_nbformat": 4
 },
 "nbformat": 4,
 "nbformat_minor": 2
}
