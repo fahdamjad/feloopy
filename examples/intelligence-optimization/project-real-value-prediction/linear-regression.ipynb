{
 "cells": [
  {
   "attachments": {},
   "cell_type": "markdown",
   "metadata": {},
   "source": [
    "![dpp](./img/examples.png)"
   ]
  },
  {
   "attachments": {},
   "cell_type": "markdown",
   "metadata": {},
   "source": [
    "\n",
    "# Linear Regression Problem"
   ]
  },
  {
   "attachments": {},
   "cell_type": "markdown",
   "metadata": {},
   "source": [
    "--------------------\n",
    "* Developed by _Keivan Tafakkori_\n",
    "* Date: 19-4-2023\n",
    "* Contact: https://www.linkedin.com/in/keivan-tafakkori/\n",
    "* GitHub: https://github.com/ktafakkori\n",
    "--------------------"
   ]
  },
  {
   "attachments": {},
   "cell_type": "markdown",
   "metadata": {},
   "source": [
    "### 1 | **Exact optimization**"
   ]
  },
  {
   "attachments": {},
   "cell_type": "markdown",
   "metadata": {},
   "source": [
    "### Packages"
   ]
  },
  {
   "cell_type": "code",
   "execution_count": 1,
   "metadata": {},
   "outputs": [],
   "source": [
    "from feloopy import *"
   ]
  },
  {
   "attachments": {},
   "cell_type": "markdown",
   "metadata": {},
   "source": [
    "### Setting"
   ]
  },
  {
   "cell_type": "code",
   "execution_count": 2,
   "metadata": {},
   "outputs": [],
   "source": [
    "problem_name = 'lrp'\n",
    "solution_method = 'exact'\n",
    "interface = 'cplex'\n",
    "solver = 'cplex'\n",
    "key = 0"
   ]
  },
  {
   "attachments": {},
   "cell_type": "markdown",
   "metadata": {},
   "source": [
    "### Approximation Function"
   ]
  },
  {
   "cell_type": "code",
   "execution_count": 3,
   "metadata": {},
   "outputs": [],
   "source": [
    "#Prediction function\n",
    "def predict(w,b,a): \n",
    "    print(f\"Input = {a} -> Output = {sum(w[i]*a[i] for i in range(len(a))) + b}\")"
   ]
  },
  {
   "attachments": {},
   "cell_type": "markdown",
   "metadata": {},
   "source": [
    "### Learner model"
   ]
  },
  {
   "cell_type": "code",
   "execution_count": 4,
   "metadata": {},
   "outputs": [],
   "source": [
    "# Environment\n",
    "m = model(solution_method, problem_name, interface, key=key)\n",
    "\n",
    "# Dataset\n",
    "a = np.array([[1, 2, 2], [2, 3, 3], [3, 4, 5], [4, 5, 6], [5, 7, 8]])  # Features\n",
    "b = np.array([1, 2, 3, 4, 5])  # Target\n",
    "\n",
    "# Sets\n",
    "U = m.set(np.shape(a)[1])  # Features\n",
    "T = range(np.shape(a)[0])  # Observations\n",
    "\n",
    "# Preprocessing Dataset\n",
    "ran_a = np.array([np.ptp(a[:,i]) for i in U]) #Range of feature values \n",
    "ave_a = np.array([np.average(a[:,i]) for i in U]) #Average of feature values\n",
    "nor_a = (a-ave_a)/ran_a #Normalized feature values\n",
    "\n",
    "ran_b = np.ptp(b) #Range of target values \n",
    "ave_b = np.average(b) #Average of target values\n",
    "nor_b = (b-ave_b)/ran_b #Normalized target values\n",
    "\n",
    "# Variables\n",
    "x = m.fvar('x', [U])\n",
    "z = m.fvar('z')\n",
    "\n",
    "# Objective\n",
    "m.obj((2*len(T))**(-1)*sum(( sum(nor_a[t, i]*x[i] for i in U) + z-nor_b[t])**2 for t in T))\n",
    "\n",
    "# Solve\n",
    "m.sol(['min'], solver)"
   ]
  },
  {
   "attachments": {},
   "cell_type": "markdown",
   "metadata": {},
   "source": [
    "### Result"
   ]
  },
  {
   "cell_type": "code",
   "execution_count": 5,
   "metadata": {},
   "outputs": [
    {
     "name": "stdout",
     "output_type": "stream",
     "text": [
      "\n",
      "~~~~~~~~~~~~~~\n",
      "FELOOPY v0.2.4\n",
      "~~~~~~~~~~~~~~\n",
      "\n",
      "~~~~~~~~~~~\n",
      "DATE & TIME\n",
      "~~~~~~~~~~~\n",
      "2023-04-19 17:14:20\n",
      "Wed, Apr 19, 2023\n",
      "\n",
      "~~~~~~~~~~~~\n",
      "PROBLEM INFO\n",
      "~~~~~~~~~~~~\n",
      "| info      | detail   | variable   | count [cat,tot]   | other      | count [cat,tot]    |\n",
      "|-----------|----------|------------|-------------------|------------|--------------------|\n",
      "| model     | lrp      | positive   | [0, 0]            | objective  | [1, 1]             |\n",
      "| interface | cplex    | binary     | [0, 0]            | constraint | [0, 0]             |\n",
      "| solver    | cplex    | integer    | [0, 0]            |            |                    |\n",
      "| direction | ['min']  | free       | [2, 4]            |            |                    |\n",
      "| method    | exact    | tot        | [2, 4]            |            |                    |\n",
      "~~~~~~~~~~~~\n",
      "\n",
      "~~~~~~~~~~\n",
      "SOLVE INFO\n",
      "~~~~~~~~~~\n",
      "status:  optimal\n",
      "objective:  2.801989480716305e-09\n",
      "cpu time [cplex]:  3904.0000001477893 (microseconds) 00:00:00 (h, m, s)\n",
      "~~~~~~~~~~~\n",
      "\n",
      "~~~~~~~~~~\n",
      "MODEL INFO\n",
      "~~~~~~~~~~\n",
      "name: lrp\n",
      "objective: min 0.062x0^2+0.120x0*x1+0.125x0*x2+0.059x1^2+0.121x1*x2-0.000x1*z+0.063x2^2+0.000x2*z+0.500z^2-0.125x0-0.120x1-0.125x2+0.062\n",
      "subject to:\n",
      "~~~~~~~~~~~~\n",
      "PROBLEM INFO\n",
      "~~~~~~~~~~~~\n",
      "| info      | detail   | variable   | count [cat,tot]   | other      | count [cat,tot]    |\n",
      "|-----------|----------|------------|-------------------|------------|--------------------|\n",
      "| model     | lrp      | positive   | [0, 0]            | objective  | [1, 1]             |\n",
      "| interface | cplex    | binary     | [0, 0]            | constraint | [0, 0]             |\n",
      "| solver    | cplex    | integer    | [0, 0]            |            |                    |\n",
      "| direction | ['min']  | free       | [2, 4]            |            |                    |\n",
      "| method    | exact    | tot        | [2, 4]            |            |                    |\n",
      "~~~~~~~~~~~~\n",
      "\n",
      "status:  optimal\n",
      "objective:  2.801989480716305e-09\n",
      "cpu time [cplex]:  3904.0000001477893 (microseconds) 00:00:00 (h, m, s)\n",
      "weight of feature 0:  0.9985731286636967\n",
      "weight of feature 1:  0.0006083291908261763\n",
      "weight of feature 2:  0.0008428903144053744\n",
      "bias :  4.3224066820234856e-05\n"
     ]
    }
   ],
   "source": [
    "#Report\n",
    "m.report()\n",
    "\n",
    "#Display & Store\n",
    "w = [] \n",
    "for i in U: \n",
    "    w.append(m.get(x[i]))\n",
    "    print(f\"weight of feature {i}: \", w[i])\n",
    "\n",
    "b = m.get(z)\n",
    "print(f\"bias : \", b)"
   ]
  },
  {
   "attachments": {},
   "cell_type": "markdown",
   "metadata": {},
   "source": [
    "### Approxiamtor model"
   ]
  },
  {
   "cell_type": "code",
   "execution_count": 6,
   "metadata": {},
   "outputs": [
    {
     "name": "stdout",
     "output_type": "stream",
     "text": [
      "Input = [6, 8, 9] -> Output = 6.003934642405258\n",
      "Input = [7, 4, 3] -> Output = 6.995017112419218\n",
      "Input = [8, 3, 5] -> Output = 7.9946676925209\n",
      "Input = [9, 1, 6] -> Output = 8.99286705311735\n",
      "Input = [10, 9, 3] -> Output = 9.99377814436444\n"
     ]
    }
   ],
   "source": [
    "#Test dataset\n",
    "aa = [[6,8,9],[7,4,3],[8,3,5],[9,1,6],[10,9,3]] #Features\n",
    "bb = [ 6     , 7     , 8     , 9     , 10     ] #Target\n",
    "\n",
    "for item in aa:\n",
    "    predict(w,b,item)"
   ]
  },
  {
   "attachments": {},
   "cell_type": "markdown",
   "metadata": {},
   "source": [
    "### 2 | **Exact optimization (Matrix form)**"
   ]
  },
  {
   "attachments": {},
   "cell_type": "markdown",
   "metadata": {},
   "source": [
    "### Setting"
   ]
  },
  {
   "cell_type": "code",
   "execution_count": 7,
   "metadata": {},
   "outputs": [],
   "source": [
    "problem_name = 'lrp'\n",
    "solution_method = 'exact'\n",
    "interface = 'cvxpy'\n",
    "solver = 'gurobi'\n",
    "key = 0"
   ]
  },
  {
   "attachments": {},
   "cell_type": "markdown",
   "metadata": {},
   "source": [
    "### Learner model"
   ]
  },
  {
   "cell_type": "code",
   "execution_count": 8,
   "metadata": {},
   "outputs": [
    {
     "name": "stdout",
     "output_type": "stream",
     "text": [
      "(CVXPY) Apr 19 05:14:21 PM: Encountered unexpected exception importing solver GLOP:\n",
      "RuntimeError('Unrecognized new version of ortools (9.6.2534). Expected < 9.5.0.Please open a feature request on cvxpy to enable support for this version.')\n",
      "(CVXPY) Apr 19 05:14:21 PM: Encountered unexpected exception importing solver PDLP:\n",
      "RuntimeError('Unrecognized new version of ortools (9.6.2534). Expected < 9.5.0.Please open a feature request on cvxpy to enable support for this version.')\n",
      "{'solver': 'GUROBI', 'verbose': False, 'scipy_options': None}\n",
      "Restricted license - for non-production use only - expires 2024-10-28\n"
     ]
    }
   ],
   "source": [
    "# Environment\n",
    "m = model(solution_method, problem_name, interface, key=key)\n",
    "\n",
    "# Dataset\n",
    "a = np.array([[1, 2, 2], [2, 3, 3], [3, 4, 5], [4, 5, 6], [5, 7, 8]])  # Features\n",
    "b = np.array([1, 2, 3, 4, 5])  # Target\n",
    "\n",
    "# Sets\n",
    "U = m.set(np.shape(a)[1])  # Features\n",
    "T = range(np.shape(a)[0])  # Observations\n",
    "\n",
    "# Preprocessing Dataset\n",
    "ran_a = np.array([np.ptp(a[:,i]) for i in U]) #Range of feature values \n",
    "ave_a = np.array([np.average(a[:,i]) for i in U]) #Average of feature values\n",
    "nor_a = (a-ave_a)/ran_a #Normalized feature values\n",
    "\n",
    "ran_b = np.ptp(b) #Range of target values \n",
    "ave_b = np.average(b) #Average of target values\n",
    "nor_b = (b-ave_b)/ran_b #Normalized target values\n",
    "\n",
    "# Variables\n",
    "x = m.ftvar('x', [U])\n",
    "z = m.ftvar('z')\n",
    "\n",
    "# Objective\n",
    "m.obj((2*len(T))**(-1)*sum((nor_a[t, :]@x + z -nor_b[t])**2 for t in T))\n",
    "\n",
    "# Solve\n",
    "m.sol(['min'], solver)"
   ]
  },
  {
   "attachments": {},
   "cell_type": "markdown",
   "metadata": {},
   "source": [
    "### Result"
   ]
  },
  {
   "cell_type": "code",
   "execution_count": 9,
   "metadata": {},
   "outputs": [
    {
     "name": "stdout",
     "output_type": "stream",
     "text": [
      "\n",
      "~~~~~~~~~~~~~~\n",
      "FELOOPY v0.2.4\n",
      "~~~~~~~~~~~~~~\n",
      "\n",
      "~~~~~~~~~~~\n",
      "DATE & TIME\n",
      "~~~~~~~~~~~\n",
      "2023-04-19 17:14:21\n",
      "Wed, Apr 19, 2023\n",
      "\n",
      "~~~~~~~~~~~~\n",
      "PROBLEM INFO\n",
      "~~~~~~~~~~~~\n",
      "| info      | detail   | variable   | count [cat,tot]   | other      | count [cat,tot]    |\n",
      "|-----------|----------|------------|-------------------|------------|--------------------|\n",
      "| model     | lrp      | positive   | [0, 0]            | objective  | [1, 1]             |\n",
      "| interface | cvxpy    | binary     | [0, 0]            | constraint | [0, 0]             |\n",
      "| solver    | gurobi   | integer    | [0, 0]            |            |                    |\n",
      "| direction | ['min']  | free       | [2, 4]            |            |                    |\n",
      "| method    | exact    | tot        | [2, 4]            |            |                    |\n",
      "~~~~~~~~~~~~\n",
      "\n",
      "~~~~~~~~~~\n",
      "SOLVE INFO\n",
      "~~~~~~~~~~\n",
      "status:  optimal\n",
      "objective:  7.615766685845471e-13\n",
      "cpu time [cvxpy]:  20744.899999954214 (microseconds) 00:00:00 (h, m, s)\n",
      "~~~~~~~~~~~\n",
      "\n",
      "~~~~~~~~~~\n",
      "MODEL INFO\n",
      "~~~~~~~~~~\n",
      "name: lrp\n",
      "objective: min 0.1 @ (power([-0.5        -0.44       -0.46666667] @ x + z + --0.5, 2.0) + power([-0.25 -0.24 -0.3 ] @ x + z + --0.25, 2.0) + power([ 0.         -0.04        0.03333333] @ x + z + -0.0, 2.0) + power([0.25 0.16 0.2 ] @ x + z + -0.25, 2.0) + power([0.5        0.56       0.53333333] @ x + z + -0.5, 2.0))\n",
      "subject to:\n",
      "~~~~~~~~~~~~\n",
      "PROBLEM INFO\n",
      "~~~~~~~~~~~~\n",
      "| info      | detail   | variable   | count [cat,tot]   | other      | count [cat,tot]    |\n",
      "|-----------|----------|------------|-------------------|------------|--------------------|\n",
      "| model     | lrp      | positive   | [0, 0]            | objective  | [1, 1]             |\n",
      "| interface | cvxpy    | binary     | [0, 0]            | constraint | [0, 0]             |\n",
      "| solver    | gurobi   | integer    | [0, 0]            |            |                    |\n",
      "| direction | ['min']  | free       | [2, 4]            |            |                    |\n",
      "| method    | exact    | tot        | [2, 4]            |            |                    |\n",
      "~~~~~~~~~~~~\n",
      "\n",
      "status:  optimal\n",
      "objective:  7.615766685845471e-13\n",
      "cpu time [cvxpy]:  20744.899999954214 (microseconds) 00:00:00 (h, m, s)\n",
      "weight of feature 0:  0.9999692730875858\n",
      "weight of feature 1:  3.7022393473695736e-06\n",
      "weight of feature 2:  2.682816661983556e-05\n",
      "bias :  1.2043092775603597e-16\n"
     ]
    }
   ],
   "source": [
    "#Report\n",
    "m.report()\n",
    "\n",
    "#Display & Store\n",
    "w = [] \n",
    "for i in U: \n",
    "    w.append(m.get(x)[i])\n",
    "    print(f\"weight of feature {i}: \", w[i])\n",
    "\n",
    "b = m.get(z)\n",
    "print(f\"bias : \", b)"
   ]
  },
  {
   "attachments": {},
   "cell_type": "markdown",
   "metadata": {},
   "source": [
    "### Approximator model"
   ]
  },
  {
   "cell_type": "code",
   "execution_count": 10,
   "metadata": {},
   "outputs": [
    {
     "name": "stdout",
     "output_type": "stream",
     "text": [
      "Input = [6, 8, 9] -> Output = 6.000086709939872\n",
      "Input = [7, 4, 3] -> Output = 6.999880205070349\n",
      "Input = [8, 3, 5] -> Output = 7.999899432251827\n",
      "Input = [9, 1, 6] -> Output = 8.999888129027338\n",
      "Input = [10, 9, 3] -> Output = 9.999806535529842\n"
     ]
    }
   ],
   "source": [
    "#Test dataset\n",
    "aa = [[6,8,9],[7,4,3],[8,3,5],[9,1,6],[10,9,3]] #Features\n",
    "bb = [ 6     , 7     , 8     , 9     , 10     ] #Target\n",
    "\n",
    "for item in aa:\n",
    "    predict(w,b,item)"
   ]
  }
 ],
 "metadata": {
  "kernelspec": {
   "display_name": "Python 3",
   "language": "python",
   "name": "python3"
  },
  "language_info": {
   "codemirror_mode": {
    "name": "ipython",
    "version": 3
   },
   "file_extension": ".py",
   "mimetype": "text/x-python",
   "name": "python",
   "nbconvert_exporter": "python",
   "pygments_lexer": "ipython3",
   "version": "3.10.0"
  },
  "orig_nbformat": 4
 },
 "nbformat": 4,
 "nbformat_minor": 2
}
