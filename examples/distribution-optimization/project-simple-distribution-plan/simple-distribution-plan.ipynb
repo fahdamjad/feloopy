{
 "cells": [
  {
   "attachments": {},
   "cell_type": "markdown",
   "metadata": {},
   "source": [
    "![dpp](./img/examples.png)"
   ]
  },
  {
   "attachments": {},
   "cell_type": "markdown",
   "metadata": {},
   "source": [
    "# Simple Distribution Plan Problem"
   ]
  },
  {
   "attachments": {},
   "cell_type": "markdown",
   "metadata": {},
   "source": [
    "--------------------\n",
    "* Developed by _Mehran Saeedi_\n",
    "* Date: 18-4-2023\n",
    "* Contact: -\n",
    "--------------------"
   ]
  },
  {
   "attachments": {},
   "cell_type": "markdown",
   "metadata": {},
   "source": [
    "### Problem\n",
    "![dpp](./img/dpp.png)"
   ]
  },
  {
   "attachments": {},
   "cell_type": "markdown",
   "metadata": {},
   "source": [
    "### Packages"
   ]
  },
  {
   "cell_type": "code",
   "execution_count": 9,
   "metadata": {},
   "outputs": [],
   "source": [
    "from feloopy import *"
   ]
  },
  {
   "attachments": {},
   "cell_type": "markdown",
   "metadata": {},
   "source": [
    "### Setting"
   ]
  },
  {
   "cell_type": "code",
   "execution_count": 10,
   "metadata": {},
   "outputs": [],
   "source": [
    "problem_name = 'dpp'\n",
    "solution_method = 'exact'\n",
    "interface = 'ortools'\n",
    "solver = 'cbc'\n",
    "key = 0"
   ]
  },
  {
   "attachments": {},
   "cell_type": "markdown",
   "metadata": {},
   "source": [
    "### Model"
   ]
  },
  {
   "cell_type": "code",
   "execution_count": 11,
   "metadata": {},
   "outputs": [],
   "source": [
    "#Environment\n",
    "m = target_model(solution_method, problem_name, interface, key=key)\n",
    "\n",
    "#Sets\n",
    "I=m.set(2) #Number of suppliers\n",
    "J=m.set(2) #Number of warehouses\n",
    "K=m.set(3) #Number of customers\n",
    "P=m.set(3) #Type of products\n",
    "T=m.set(4) #Time periods\n",
    "\n",
    "#Dataset\n",
    "dk  =m.uniformint(10,20,[K,P,T])     #Customer demand \n",
    "cap =m.uniformint(60,90,[I,P,T])     #Supplier capacity\n",
    "c   =m.uniformint(1,4,[I,J,P,T])     #The cost of sending each unit of goods from the supplier to the warehouse\n",
    "cp  =m.uniformint(1,4,[J,K,P,T])     #The cost of sending each item from the warehouse to the customer\n",
    "cpp =m.uniformint(2,8,[I,K,P,T])     #The cost of sending each unit of goods from the supplier to the customer\n",
    "\n",
    "#Variables\n",
    "x    = m.ivar('x',[I,J,P,T])         #The rate of transfer of products from the supplier to the warehouse\n",
    "y    = m.ivar('y',[J,K,P,T])         #The rate of transfer of products from the warehouse to the customer\n",
    "z    = m.ivar('z',[I,K,P,T])         #The amount of direct transfer of products from the supplier to the customer\n",
    "\n",
    "#Objective\n",
    "m.obj(sum(x[i,j,p,t] * c[i,j,p,t] for i,j,p,t in sets(I,J,P,T)) + sum(y[j,k,p,t] * cp[j,k,p,t] for j,k,p,t in sets(J,K,P,T))+ sum (z[i,k,p,t] * cpp[i,k,p,t] for i,k,p,t in sets(I,K,P,T)))\n",
    "\n",
    "#Constraints\n",
    "for i,p,t in sets(I,P,T):\n",
    "    m.con(sum(x[i,j,p,t] for j in J) + sum(z[i,k,p,t] for k in K) <= cap[i,p,t])\n",
    "\n",
    "for j,p,t in sets(J,P,T):\n",
    "    m.con(sum(x[i,j,p,t] for i in I) >= sum(y[j,k,p,t] for k in K)) \n",
    "\n",
    "for k,p,t in sets(K,P,T):\n",
    "    m.con(sum(y[j,k,p,t] for j in J) + sum(z[i,k,p,t] for i in I) >= dk[k,p,t])\n",
    "\n",
    "#Solve\n",
    "m.sol(['min'], solver)"
   ]
  },
  {
   "attachments": {},
   "cell_type": "markdown",
   "metadata": {},
   "source": [
    "### Result"
   ]
  },
  {
   "cell_type": "code",
   "execution_count": 12,
   "metadata": {},
   "outputs": [
    {
     "name": "stdout",
     "output_type": "stream",
     "text": [
      "\n",
      "+--------------------------------------------------------------------------------+\n",
      "|                                 FelooPy v0.2.5                                 |\n",
      "+--------------------------------------------------------------------------------+\n",
      "| Date: 2023-05-27                                                Time: 18:47:56 |\n",
      "| Interface: ortools                                                 Solver: cbc |\n",
      "+--------------------------------------------------------------------------------+\n",
      "|                               Model Information                                |\n",
      "+--------------------------------------------------------------------------------+\n",
      "|                              The 'dpp' model has:                              |\n",
      "|                    192 integer variable(s) in 3 class(es).                     |\n",
      "|                                1 objective(s).                                 |\n",
      "|                        84 constraint(s) in 1 class(es).                        |\n",
      "|               Total number of variables is 192 in 192 class(es).               |\n",
      "+--------------------------------------------------------------------------------+\n",
      "|                               Solve Information                                |\n",
      "+--------------------------------------------------------------------------------+\n",
      "| Method: exact                                               Objective Value(s) |\n",
      "| Status:                                                                    min |\n",
      "| optimal                                                                1480.00 |\n",
      "+--------------------------------------------------------------------------------+\n",
      "|                               Metric Information                               |\n",
      "+--------------------------------------------------------------------------------+\n",
      "| CPT   (microseconds):  6.24e+04                                                |\n",
      "| CPT   (hour:min:sec):  00:00:00                                                |\n",
      "+--------------------------------------------------------------------------------+\n",
      "|                              Decision Information                              |\n",
      "+--------------------------------------------------------------------------------+\n",
      "| x[0, 0, 0, 3] = 30.0                                                           |\n",
      "| x[0, 0, 1, 1] = 33.0                                                           |\n",
      "| x[0, 0, 1, 3] = 11.0                                                           |\n",
      "| x[0, 1, 1, 0] = 31.0                                                           |\n",
      "| x[0, 1, 2, 0] = 10.0                                                           |\n",
      "| x[1, 0, 2, 1] = 36.0                                                           |\n",
      "| x[1, 1, 0, 0] = 33.0                                                           |\n",
      "| x[1, 1, 0, 1] = 19.0                                                           |\n",
      "| x[1, 1, 0, 2] = 35.0                                                           |\n",
      "| x[1, 1, 2, 2] = 44.0                                                           |\n",
      "| y[0, 0, 0, 3] = 12.0                                                           |\n",
      "| y[0, 0, 2, 1] = 18.0                                                           |\n",
      "| y[0, 1, 0, 3] = 18.0                                                           |\n",
      "| y[0, 1, 1, 1] = 15.0                                                           |\n",
      "| y[0, 1, 2, 1] = 18.0                                                           |\n",
      "| y[0, 2, 1, 1] = 18.0                                                           |\n",
      "| y[0, 2, 1, 3] = 11.0                                                           |\n",
      "| y[1, 0, 0, 0] = 19.0                                                           |\n",
      "| y[1, 0, 0, 2] = 15.0                                                           |\n",
      "| y[1, 0, 1, 0] = 13.0                                                           |\n",
      "| y[1, 0, 2, 2] = 17.0                                                           |\n",
      "| y[1, 1, 0, 2] = 20.0                                                           |\n",
      "| y[1, 1, 2, 2] = 17.0                                                           |\n",
      "| y[1, 2, 0, 0] = 14.0                                                           |\n",
      "| y[1, 2, 0, 1] = 19.0                                                           |\n",
      "| y[1, 2, 1, 0] = 18.0                                                           |\n",
      "| y[1, 2, 2, 0] = 10.0                                                           |\n",
      "| y[1, 2, 2, 2] = 10.0                                                           |\n",
      "| z[0, 0, 1, 1] = 10.0                                                           |\n",
      "| z[0, 0, 1, 2] = 10.0                                                           |\n",
      "| z[0, 0, 2, 0] = 11.0                                                           |\n",
      "| z[0, 1, 0, 1] = 16.0                                                           |\n",
      "| z[0, 1, 1, 0] = 16.0                                                           |\n",
      "| z[0, 1, 2, 0] = 13.0                                                           |\n",
      "| z[0, 2, 0, 2] = 16.0                                                           |\n",
      "| z[1, 0, 0, 1] = 17.0                                                           |\n",
      "| z[1, 0, 1, 3] = 10.0                                                           |\n",
      "| z[1, 0, 2, 3] = 20.0                                                           |\n",
      "| z[1, 1, 0, 0] = 15.0                                                           |\n",
      "| z[1, 1, 1, 2] = 16.0                                                           |\n",
      "| z[1, 1, 1, 3] = 20.0                                                           |\n",
      "| z[1, 1, 2, 3] = 10.0                                                           |\n",
      "| z[1, 2, 0, 3] = 10.0                                                           |\n",
      "| z[1, 2, 1, 2] = 19.0                                                           |\n",
      "| z[1, 2, 2, 1] = 19.0                                                           |\n",
      "| z[1, 2, 2, 3] = 15.0                                                           |\n",
      "+--------------------------------------------------------------------------------+\n"
     ]
    }
   ],
   "source": [
    "#Report\n",
    "m.report()"
   ]
  }
 ],
 "metadata": {
  "kernelspec": {
   "display_name": "Python 3",
   "language": "python",
   "name": "python3"
  },
  "language_info": {
   "codemirror_mode": {
    "name": "ipython",
    "version": 3
   },
   "file_extension": ".py",
   "mimetype": "text/x-python",
   "name": "python",
   "nbconvert_exporter": "python",
   "pygments_lexer": "ipython3",
   "version": "3.10.9"
  },
  "orig_nbformat": 4
 },
 "nbformat": 4,
 "nbformat_minor": 2
}
