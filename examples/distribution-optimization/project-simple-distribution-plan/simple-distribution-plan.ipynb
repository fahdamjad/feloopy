{
 "cells": [
  {
   "attachments": {},
   "cell_type": "markdown",
   "metadata": {},
   "source": [
    "![dpp](../../../miscellaneous/logo/examples.png/)"
   ]
  },
  {
   "attachments": {},
   "cell_type": "markdown",
   "metadata": {},
   "source": [
    "# Simple Distribution Plan Problem"
   ]
  },
  {
   "attachments": {},
   "cell_type": "markdown",
   "metadata": {},
   "source": [
    "--------------------\n",
    "* Developed by _Mehran Saeedi_\n",
    "* Date: 18-4-2023\n",
    "* Contact: -\n",
    "--------------------"
   ]
  },
  {
   "attachments": {},
   "cell_type": "markdown",
   "metadata": {},
   "source": [
    "### Problem\n",
    "![dpp](./img/dpp.png)"
   ]
  },
  {
   "attachments": {},
   "cell_type": "markdown",
   "metadata": {},
   "source": [
    "### Packages"
   ]
  },
  {
   "cell_type": "code",
   "execution_count": null,
   "metadata": {},
   "outputs": [],
   "source": [
    "from feloopy import *"
   ]
  },
  {
   "attachments": {},
   "cell_type": "markdown",
   "metadata": {},
   "source": [
    "### Setting"
   ]
  },
  {
   "cell_type": "code",
   "execution_count": null,
   "metadata": {},
   "outputs": [],
   "source": [
    "problem_name = 'dpp'\n",
    "solution_method = 'exact'\n",
    "interface = 'ortools'\n",
    "solver = 'cbc'\n",
    "key = 0"
   ]
  },
  {
   "attachments": {},
   "cell_type": "markdown",
   "metadata": {},
   "source": [
    "### Model"
   ]
  },
  {
   "cell_type": "code",
   "execution_count": null,
   "metadata": {},
   "outputs": [],
   "source": [
    "#Environment\n",
    "m = target_model(solution_method, problem_name, interface, key=key)\n",
    "\n",
    "#Sets\n",
    "I=m.set(2) #Number of suppliers\n",
    "J=m.set(2) #Number of warehouses\n",
    "K=m.set(3) #Number of customers\n",
    "P=m.set(3) #Type of products\n",
    "T=m.set(4) #Time periods\n",
    "\n",
    "#Dataset\n",
    "dk  =m.uniformint(10,20,[K,P,T])     #Customer demand \n",
    "cap =m.uniformint(60,90,[I,P,T])     #Supplier capacity\n",
    "c   =m.uniformint(1,4,[I,J,P,T])     #The cost of sending each unit of goods from the supplier to the warehouse\n",
    "cp  =m.uniformint(1,4,[J,K,P,T])     #The cost of sending each item from the warehouse to the customer\n",
    "cpp =m.uniformint(2,8,[I,K,P,T])     #The cost of sending each unit of goods from the supplier to the customer\n",
    "\n",
    "#Variables\n",
    "x    = m.ivar('x',[I,J,P,T])         #The rate of transfer of products from the supplier to the warehouse\n",
    "y    = m.ivar('y',[J,K,P,T])         #The rate of transfer of products from the warehouse to the customer\n",
    "z    = m.ivar('z',[I,K,P,T])         #The amount of direct transfer of products from the supplier to the customer\n",
    "\n",
    "#Objective\n",
    "m.obj(sum(x[i,j,p,t] * c[i,j,p,t] for i,j,p,t in sets(I,J,P,T)) + sum(y[j,k,p,t] * cp[j,k,p,t] for j,k,p,t in sets(J,K,P,T))+ sum (z[i,k,p,t] * cpp[i,k,p,t] for i,k,p,t in sets(I,K,P,T)))\n",
    "\n",
    "#Constraints\n",
    "for i,p,t in sets(I,P,T):\n",
    "    m.con(sum(x[i,j,p,t] for j in J) + sum(z[i,k,p,t] for k in K) <= cap[i,p,t])\n",
    "\n",
    "for j,p,t in sets(J,P,T):\n",
    "    m.con(sum(x[i,j,p,t] for i in I) >= sum(y[j,k,p,t] for k in K)) \n",
    "\n",
    "for k,p,t in sets(K,P,T):\n",
    "    m.con(sum(y[j,k,p,t] for j in J) + sum(z[i,k,p,t] for i in I) >= dk[k,p,t])\n",
    "\n",
    "#Solve\n",
    "m.sol(['min'], solver)"
   ]
  },
  {
   "attachments": {},
   "cell_type": "markdown",
   "metadata": {},
   "source": [
    "### Result"
   ]
  },
  {
   "cell_type": "code",
   "execution_count": null,
   "metadata": {},
   "outputs": [],
   "source": [
    "#Report\n",
    "m.report()\n",
    "\n",
    "#Display\n",
    "for i,j,p,t in sets(I,J,P,T):\n",
    "    m.dis_variable(x[i,j,p,t])\n",
    "print('----------------------------------')   \n",
    "\n",
    "for j,k,p,t in sets(J,K,P,T):\n",
    "    m.dis_variable(y[j,k,p,t])    \n",
    "print('----------------------------------')     \n",
    "\n",
    "for i,k,p,t in sets(I,K,P,T):\n",
    "    m.dis_variable(z[i,k,p,t])\n",
    "print('----------------------------------')"
   ]
  }
 ],
 "metadata": {
  "kernelspec": {
   "display_name": "Python 3",
   "language": "python",
   "name": "python3"
  },
  "language_info": {
   "codemirror_mode": {
    "name": "ipython",
    "version": 3
   },
   "file_extension": ".py",
   "mimetype": "text/x-python",
   "name": "python",
   "nbconvert_exporter": "python",
   "pygments_lexer": "ipython3",
   "version": "3.10.0"
  },
  "orig_nbformat": 4
 },
 "nbformat": 4,
 "nbformat_minor": 2
}
