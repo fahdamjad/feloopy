{
 "cells": [
  {
   "attachments": {},
   "cell_type": "markdown",
   "metadata": {},
   "source": [
    "# Single Machine Scheduling Problem"
   ]
  },
  {
   "attachments": {},
   "cell_type": "markdown",
   "metadata": {},
   "source": [
    "--------------------\n",
    "* Developed by _Keivan Tafakkori_\n",
    "* Date: 18-4-2023\n",
    "* Contact: https://www.linkedin.com/in/keivan-tafakkori/\n",
    "* Github: https://github.com/ktafakkori\n",
    "--------------------"
   ]
  },
  {
   "attachments": {},
   "cell_type": "markdown",
   "metadata": {},
   "source": [
    "### Packages"
   ]
  },
  {
   "cell_type": "code",
   "execution_count": 1,
   "metadata": {},
   "outputs": [],
   "source": [
    "from feloopy import *"
   ]
  },
  {
   "attachments": {},
   "cell_type": "markdown",
   "metadata": {},
   "source": [
    "### Setting"
   ]
  },
  {
   "cell_type": "code",
   "execution_count": 2,
   "metadata": {},
   "outputs": [],
   "source": [
    "problem_name = 'smsp'\n",
    "solution_method = 'exact'\n",
    "interface = 'ortools'\n",
    "solver = 'cbc'\n",
    "key = 0"
   ]
  },
  {
   "attachments": {},
   "cell_type": "markdown",
   "metadata": {},
   "source": [
    "### Model"
   ]
  },
  {
   "cell_type": "code",
   "execution_count": 3,
   "metadata": {},
   "outputs": [],
   "source": [
    "#Environment\n",
    "m = target_model(solution_method, problem_name, interface, key=key)\n",
    "\n",
    "#Dataset\n",
    "w = [0.1, 0.4, 0.15, 0.35] #Priority weight of each job\n",
    "p = [  7,   3,    9,    4] #Processing time of each job\n",
    "s = 5 #Setup time of the machine\n",
    "\n",
    "#Sets\n",
    "I = range(len(p)) #Set of jobs\n",
    "J = range(len(I)) #Set of positions\n",
    "\n",
    "#Variables\n",
    "x = m.bvar('x', [I,J])\n",
    "c = m.pvar('c', [J])\n",
    "\n",
    "#Objective\n",
    "m.obj(sum(w[j]*c[j] for j in J))\n",
    "\n",
    "#Constraints\n",
    "for i in I: \n",
    "    m.con(sum(x[i,j] for j in J) == 1)\n",
    "\n",
    "for j in J: \n",
    "    m.con(sum(x[i,j] for i in I) == 1)\n",
    "\n",
    "m.con(c[0] == s + sum(x[i,0]*p[i] for i in I))\n",
    "\n",
    "for j in J:\n",
    "    if j!=0: m.con(c[j] >= c[j-1] + sum(x[i,j]*p[i] for i in I))\n",
    "\n",
    "#Solve\n",
    "m.sol(['min'], solver)"
   ]
  },
  {
   "attachments": {},
   "cell_type": "markdown",
   "metadata": {},
   "source": [
    "### Result"
   ]
  },
  {
   "cell_type": "code",
   "execution_count": 4,
   "metadata": {},
   "outputs": [
    {
     "name": "stdout",
     "output_type": "stream",
     "text": [
      "\n",
      "~~~~~~~~~~~~~~\n",
      "FELOOPY v0.2.4\n",
      "~~~~~~~~~~~~~~\n",
      "\n",
      "~~~~~~~~~~~\n",
      "DATE & TIME\n",
      "~~~~~~~~~~~\n",
      "2023-04-18 22:35:07\n",
      "Tue, Apr 18, 2023\n",
      "\n",
      "~~~~~~~~~~~~\n",
      "PROBLEM INFO\n",
      "~~~~~~~~~~~~\n",
      "| info      | detail   | variable   | count [cat,tot]   | other      | count [cat,tot]    |\n",
      "|-----------|----------|------------|-------------------|------------|--------------------|\n",
      "| model     | smsp     | positive   | [1, 4]            | objective  | [1, 1]             |\n",
      "| interface | ortools  | binary     | [1, 16]           | constraint | [1, 12]            |\n",
      "| solver    | cbc      | integer    | [0, 0]            |            |                    |\n",
      "| direction | ['min']  | free       | [0, 0]            |            |                    |\n",
      "| method    | exact    | tot        | [2, 20]           |            |                    |\n",
      "~~~~~~~~~~~~\n",
      "\n",
      "~~~~~~~~~~\n",
      "SOLVE INFO\n",
      "~~~~~~~~~~\n",
      "status:  optimal\n",
      "objective:  18.25\n",
      "cpu time [ortools]:  21923.999999899024 (microseconds) 00:00:00 (h, m, s)\n",
      "~~~~~~~~~~~\n",
      "\n",
      "~~~~~~~~~~\n",
      "MODEL INFO\n",
      "~~~~~~~~~~\n",
      "name: smsp\n",
      "objective: min (((((0.1 * <ortools.linear_solver.linear_solver_natural_api.VariableExpr object at 0x000001A2C94DB6A0>) + 0) + (0.4 * <ortools.linear_solver.linear_solver_natural_api.VariableExpr object at 0x000001A2C9555E70>)) + (0.15 * <ortools.linear_solver.linear_solver_natural_api.VariableExpr object at 0x000001A2C9555F90>)) + (0.35 * <ortools.linear_solver.linear_solver_natural_api.VariableExpr object at 0x000001A2C95560B0>))\n",
      "subject to:\n",
      "constraint 0: ((((<ortools.linear_solver.linear_solver_natural_api.VariableExpr object at 0x000001A2C951A8F0> + 0) + x(0, 1)) + x(0, 2)) + x(0, 3)) == 1\n",
      "constraint 1: ((((<ortools.linear_solver.linear_solver_natural_api.VariableExpr object at 0x000001A2C9556470> + 0) + x(1, 1)) + x(1, 2)) + x(1, 3)) == 1\n",
      "constraint 2: ((((<ortools.linear_solver.linear_solver_natural_api.VariableExpr object at 0x000001A2C9556710> + 0) + x(2, 1)) + x(2, 2)) + x(2, 3)) == 1\n",
      "constraint 3: ((((<ortools.linear_solver.linear_solver_natural_api.VariableExpr object at 0x000001A2C95569B0> + 0) + x(3, 1)) + x(3, 2)) + x(3, 3)) == 1\n",
      "constraint 4: ((((<ortools.linear_solver.linear_solver_natural_api.VariableExpr object at 0x000001A2C951A950> + 0) + x(1, 0)) + x(2, 0)) + x(3, 0)) == 1\n",
      "constraint 5: ((((<ortools.linear_solver.linear_solver_natural_api.VariableExpr object at 0x000001A2C9556EF0> + 0) + x(1, 1)) + x(2, 1)) + x(3, 1)) == 1\n",
      "constraint 6: ((((<ortools.linear_solver.linear_solver_natural_api.VariableExpr object at 0x000001A2C9557190> + 0) + x(1, 2)) + x(2, 2)) + x(3, 2)) == 1\n",
      "constraint 7: ((((<ortools.linear_solver.linear_solver_natural_api.VariableExpr object at 0x000001A2C9557430> + 0) + x(1, 3)) + x(2, 3)) + x(3, 3)) == 1\n",
      "constraint 8: (<ortools.linear_solver.linear_solver_natural_api.VariableExpr object at 0x000001A2C9557C70> + -((((((7 * <ortools.linear_solver.linear_solver_natural_api.VariableExpr object at 0x000001A2C9556C50>) + 0) + (3 * <ortools.linear_solver.linear_solver_natural_api.VariableExpr object at 0x000001A2C9557850>)) + (9 * <ortools.linear_solver.linear_solver_natural_api.VariableExpr object at 0x000001A2C9557970>)) + (4 * <ortools.linear_solver.linear_solver_natural_api.VariableExpr object at 0x000001A2C9557A90>)) + 5)) == 0.0\n",
      "constraint 9: (<ortools.linear_solver.linear_solver_natural_api.VariableExpr object at 0x000001A2C956C3D0> + -(<ortools.linear_solver.linear_solver_natural_api.VariableExpr object at 0x000001A2C956C310> + (((((7 * <ortools.linear_solver.linear_solver_natural_api.VariableExpr object at 0x000001A2C95576D0>) + 0) + (3 * <ortools.linear_solver.linear_solver_natural_api.VariableExpr object at 0x000001A2C9557F70>)) + (9 * <ortools.linear_solver.linear_solver_natural_api.VariableExpr object at 0x000001A2C956C0D0>)) + (4 * <ortools.linear_solver.linear_solver_natural_api.VariableExpr object at 0x000001A2C956C1F0>)))) >= 0.0\n",
      "constraint 10: (<ortools.linear_solver.linear_solver_natural_api.VariableExpr object at 0x000001A2C956CAF0> + -(<ortools.linear_solver.linear_solver_natural_api.VariableExpr object at 0x000001A2C956CA30> + (((((7 * <ortools.linear_solver.linear_solver_natural_api.VariableExpr object at 0x000001A2C956C550>) + 0) + (3 * <ortools.linear_solver.linear_solver_natural_api.VariableExpr object at 0x000001A2C956C6D0>)) + (9 * <ortools.linear_solver.linear_solver_natural_api.VariableExpr object at 0x000001A2C956C7F0>)) + (4 * <ortools.linear_solver.linear_solver_natural_api.VariableExpr object at 0x000001A2C956C910>)))) >= 0.0\n",
      "constraint 11: (<ortools.linear_solver.linear_solver_natural_api.VariableExpr object at 0x000001A2C956D210> + -(<ortools.linear_solver.linear_solver_natural_api.VariableExpr object at 0x000001A2C956D150> + (((((7 * <ortools.linear_solver.linear_solver_natural_api.VariableExpr object at 0x000001A2C956CC70>) + 0) + (3 * <ortools.linear_solver.linear_solver_natural_api.VariableExpr object at 0x000001A2C956CDF0>)) + (9 * <ortools.linear_solver.linear_solver_natural_api.VariableExpr object at 0x000001A2C956CF10>)) + (4 * <ortools.linear_solver.linear_solver_natural_api.VariableExpr object at 0x000001A2C956D030>)))) >= 0.0\n",
      "~~~~~~~~~~\n",
      "\n",
      "| job  0  | position 2 | finish: 19.0 | \n",
      "| job  1  | position 0 | finish: 8.0 | \n",
      "| job  2  | position 3 | finish: 28.0 | \n",
      "| job  3  | position 1 | finish: 12.0 | \n"
     ]
    }
   ],
   "source": [
    "#Report\n",
    "m.report()\n",
    "\n",
    "#Display\n",
    "for i,j in sets(I,J):\n",
    "    if m.get(x[i,j])==1:\n",
    "        print(f\"| job  {i}  | position {j} | finish: {m.get(c[j])} | \")"
   ]
  }
 ],
 "metadata": {
  "kernelspec": {
   "display_name": "Python 3",
   "language": "python",
   "name": "python3"
  },
  "language_info": {
   "codemirror_mode": {
    "name": "ipython",
    "version": 3
   },
   "file_extension": ".py",
   "mimetype": "text/x-python",
   "name": "python",
   "nbconvert_exporter": "python",
   "pygments_lexer": "ipython3",
   "version": "3.10.0"
  },
  "orig_nbformat": 4
 },
 "nbformat": 4,
 "nbformat_minor": 2
}
