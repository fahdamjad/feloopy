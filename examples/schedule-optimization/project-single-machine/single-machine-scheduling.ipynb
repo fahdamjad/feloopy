{
 "cells": [
  {
   "attachments": {},
   "cell_type": "markdown",
   "metadata": {},
   "source": [
    "# Single Machine Scheduling Problem"
   ]
  },
  {
   "attachments": {},
   "cell_type": "markdown",
   "metadata": {},
   "source": [
    "--------------------\n",
    "* Developed by _Keivan Tafakkori_\n",
    "* Date: 18-4-2023\n",
    "* Contact: https://www.linkedin.com/in/keivan-tafakkori/\n",
    "* Github: https://github.com/ktafakkori\n",
    "--------------------"
   ]
  },
  {
   "attachments": {},
   "cell_type": "markdown",
   "metadata": {},
   "source": [
    "### Packages"
   ]
  },
  {
   "cell_type": "code",
   "execution_count": 1,
   "metadata": {},
   "outputs": [],
   "source": [
    "from feloopy import *"
   ]
  },
  {
   "attachments": {},
   "cell_type": "markdown",
   "metadata": {},
   "source": [
    "### Setting"
   ]
  },
  {
   "cell_type": "code",
   "execution_count": 2,
   "metadata": {},
   "outputs": [],
   "source": [
    "problem_name = 'smsp'\n",
    "solution_method = 'exact'\n",
    "interface = 'pulp'\n",
    "solver = 'highs'\n",
    "key = 0"
   ]
  },
  {
   "attachments": {},
   "cell_type": "markdown",
   "metadata": {},
   "source": [
    "### Model"
   ]
  },
  {
   "cell_type": "code",
   "execution_count": 3,
   "metadata": {},
   "outputs": [
    {
     "name": "stdout",
     "output_type": "stream",
     "text": [
      "Restricted license - for non-production use only - expires 2024-10-28\n"
     ]
    }
   ],
   "source": [
    "#Environment\n",
    "m = target_model(solution_method, problem_name, interface, key=key)\n",
    "\n",
    "#Dataset\n",
    "w = [0.1, 0.4, 0.15, 0.35] #Priority weight of each job\n",
    "p = [  7,   3,    9,    4] #Processing time of each job\n",
    "s = 5 #Setup time of the machine\n",
    "\n",
    "#Sets\n",
    "I = range(len(p)) #Set of jobs\n",
    "J = range(len(I)) #Set of positions\n",
    "\n",
    "#Variables\n",
    "x = m.bvar('x', [I,J])\n",
    "c = m.pvar('c', [J])\n",
    "\n",
    "#Objective\n",
    "m.obj(sum(w[j]*c[j] for j in J))\n",
    "\n",
    "#Constraints\n",
    "for i in I: \n",
    "    m.con(sum(x[i,j] for j in J) == 1)\n",
    "\n",
    "for j in J: \n",
    "    m.con(sum(x[i,j] for i in I) == 1)\n",
    "\n",
    "m.con(c[0] == s + sum(x[i,0]*p[i] for i in I))\n",
    "\n",
    "for j in J:\n",
    "    if j!=0: m.con(c[j] >= c[j-1] + sum(x[i,j]*p[i] for i in I))\n",
    "\n",
    "#Solve\n",
    "m.sol(['min'], solver)"
   ]
  },
  {
   "attachments": {},
   "cell_type": "markdown",
   "metadata": {},
   "source": [
    "### Result"
   ]
  },
  {
   "cell_type": "code",
   "execution_count": 4,
   "metadata": {},
   "outputs": [
    {
     "name": "stdout",
     "output_type": "stream",
     "text": [
      "~~~~~~~~~~~~\n",
      "PROBLEM INFO\n",
      "~~~~~~~~~~~~\n",
      "| info      | detail   | variable   | count [cat,tot]   | other      | count [cat,tot]    |\n",
      "|-----------|----------|------------|-------------------|------------|--------------------|\n",
      "| model     | smsp     | positive   | [1, 4]            | objective  | [1, 1]             |\n",
      "| interface | pulp     | binary     | [1, 16]           | constraint | [1, 12]            |\n",
      "| solver    | highs    | integer    | [0, 0]            |            |                    |\n",
      "| direction | ['min']  | free       | [0, 0]            |            |                    |\n",
      "| method    | exact    | tot        | [2, 20]           |            |                    |\n",
      "~~~~~~~~~~~~\n",
      "\n",
      "objective:  18.25\n",
      "status:  Optimal\n",
      "cpu time [pulp]:  24632.09999996252 (microseconds) 00:00:00 (h, m, s)\n",
      "| job  0  | position 2 | finish: 19.0 | \n",
      "| job  1  | position 0 | finish: 8.0 | \n",
      "| job  2  | position 3 | finish: 28.0 | \n",
      "| job  3  | position 1 | finish: 12.0 | \n"
     ]
    }
   ],
   "source": [
    "#Report\n",
    "#m.report() highs report gives error (it is fixed in the next version)\n",
    "m.inf()\n",
    "m.dis_obj()\n",
    "m.dis_status()\n",
    "m.dis_time()\n",
    "\n",
    "#Display\n",
    "for i,j in sets(I,J):\n",
    "    if m.get(x[i,j])==1:\n",
    "        print(f\"| job  {i}  | position {j} | finish: {m.get(c[j])} | \")"
   ]
  }
 ],
 "metadata": {
  "kernelspec": {
   "display_name": "Python 3",
   "language": "python",
   "name": "python3"
  },
  "language_info": {
   "codemirror_mode": {
    "name": "ipython",
    "version": 3
   },
   "file_extension": ".py",
   "mimetype": "text/x-python",
   "name": "python",
   "nbconvert_exporter": "python",
   "pygments_lexer": "ipython3",
   "version": "3.10.0"
  },
  "orig_nbformat": 4
 },
 "nbformat": 4,
 "nbformat_minor": 2
}
