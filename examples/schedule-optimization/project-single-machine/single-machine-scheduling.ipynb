{
 "cells": [
  {
   "attachments": {},
   "cell_type": "markdown",
   "metadata": {},
   "source": [
    "![dpp](./img/examples.png)"
   ]
  },
  {
   "attachments": {},
   "cell_type": "markdown",
   "metadata": {},
   "source": [
    "# Single Machine Scheduling Problem"
   ]
  },
  {
   "attachments": {},
   "cell_type": "markdown",
   "metadata": {},
   "source": [
    "--------------------\n",
    "* Developed by _Keivan Tafakkori_\n",
    "* Date: 18-4-2023\n",
    "* Contact: https://www.linkedin.com/in/keivan-tafakkori/\n",
    "* GitHub: https://github.com/ktafakkori\n",
    "--------------------"
   ]
  },
  {
   "attachments": {},
   "cell_type": "markdown",
   "metadata": {},
   "source": [
    "### Packages"
   ]
  },
  {
   "cell_type": "code",
   "execution_count": 5,
   "metadata": {},
   "outputs": [],
   "source": [
    "from feloopy import *"
   ]
  },
  {
   "attachments": {},
   "cell_type": "markdown",
   "metadata": {},
   "source": [
    "### Setting"
   ]
  },
  {
   "cell_type": "code",
   "execution_count": 6,
   "metadata": {},
   "outputs": [],
   "source": [
    "problem_name = 'smsp'\n",
    "solution_method = 'exact'\n",
    "interface = 'pulp'\n",
    "solver = 'highs'\n",
    "key = 0"
   ]
  },
  {
   "attachments": {},
   "cell_type": "markdown",
   "metadata": {},
   "source": [
    "### Model"
   ]
  },
  {
   "cell_type": "code",
   "execution_count": 7,
   "metadata": {},
   "outputs": [],
   "source": [
    "#Environment\n",
    "m = target_model(solution_method, problem_name, interface, key=key)\n",
    "\n",
    "#Dataset\n",
    "w = [0.1, 0.4, 0.15, 0.35] #Priority weight of each job\n",
    "p = [  7,   3,    9,    4] #Processing time of each job\n",
    "s = 5 #Setup time of the machine\n",
    "\n",
    "#Sets\n",
    "I = range(len(p)) #Set of jobs\n",
    "J = range(len(I)) #Set of positions\n",
    "\n",
    "#Variables\n",
    "x = m.bvar('x', [I,J])\n",
    "c = m.pvar('c', [J])\n",
    "\n",
    "#Objective\n",
    "m.obj(sum(w[j]*c[j] for j in J))\n",
    "\n",
    "#Constraints\n",
    "for i in I: \n",
    "    m.con(sum(x[i,j] for j in J) == 1)\n",
    "\n",
    "for j in J: \n",
    "    m.con(sum(x[i,j] for i in I) == 1)\n",
    "\n",
    "m.con(c[0] == s + sum(x[i,0]*p[i] for i in I))\n",
    "\n",
    "for j in J:\n",
    "    if j!=0: m.con(c[j] >= c[j-1] + sum(x[i,j]*p[i] for i in I))\n",
    "\n",
    "#Solve\n",
    "m.sol(['min'], solver)"
   ]
  },
  {
   "attachments": {},
   "cell_type": "markdown",
   "metadata": {},
   "source": [
    "### Result"
   ]
  },
  {
   "cell_type": "code",
   "execution_count": 8,
   "metadata": {},
   "outputs": [
    {
     "name": "stdout",
     "output_type": "stream",
     "text": [
      "\n",
      "+--------------------------------------------------------------------------------+\n",
      "|                                 FelooPy v0.2.5                                 |\n",
      "+--------------------------------------------------------------------------------+\n",
      "| Date: 2023-05-27                                                Time: 19:07:24 |\n",
      "| Interface: pulp                                                  Solver: highs |\n",
      "+--------------------------------------------------------------------------------+\n",
      "|                               Model Information                                |\n",
      "+--------------------------------------------------------------------------------+\n",
      "|                             The 'smsp' model has:                              |\n",
      "|                     4 positive variable(s) in 1 class(es).                     |\n",
      "|                     16 binary variable(s) in 1 class(es).                      |\n",
      "|                                1 objective(s).                                 |\n",
      "|                        12 constraint(s) in 1 class(es).                        |\n",
      "|                Total number of variables is 20 in 20 class(es).                |\n",
      "+--------------------------------------------------------------------------------+\n",
      "|                               Solve Information                                |\n",
      "+--------------------------------------------------------------------------------+\n",
      "| Method: exact                                               Objective Value(s) |\n",
      "| Status:                                                                    min |\n",
      "| Optimal                                                                  18.25 |\n",
      "+--------------------------------------------------------------------------------+\n",
      "|                               Metric Information                               |\n",
      "+--------------------------------------------------------------------------------+\n",
      "| CPT   (microseconds):  1.03e+04                                                |\n",
      "| CPT   (hour:min:sec):  00:00:00                                                |\n",
      "+--------------------------------------------------------------------------------+\n",
      "|                              Decision Information                              |\n",
      "+--------------------------------------------------------------------------------+\n",
      "| x[0, 2] = 1.0                                                                  |\n",
      "| x[1, 0] = 1.0                                                                  |\n",
      "| x[2, 3] = 1.0                                                                  |\n",
      "| x[3, 1] = 1.0                                                                  |\n",
      "| c[0] = 8.0                                                                     |\n",
      "| c[1] = 12.0                                                                    |\n",
      "| c[2] = 19.0                                                                    |\n",
      "| c[3] = 28.0                                                                    |\n",
      "+--------------------------------------------------------------------------------+\n"
     ]
    }
   ],
   "source": [
    "m.report()"
   ]
  }
 ],
 "metadata": {
  "kernelspec": {
   "display_name": "Python 3",
   "language": "python",
   "name": "python3"
  },
  "language_info": {
   "codemirror_mode": {
    "name": "ipython",
    "version": 3
   },
   "file_extension": ".py",
   "mimetype": "text/x-python",
   "name": "python",
   "nbconvert_exporter": "python",
   "pygments_lexer": "ipython3",
   "version": "3.10.9"
  },
  "orig_nbformat": 4
 },
 "nbformat": 4,
 "nbformat_minor": 2
}
