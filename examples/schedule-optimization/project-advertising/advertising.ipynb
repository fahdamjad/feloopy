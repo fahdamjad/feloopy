{
 "cells": [
  {
   "attachments": {},
   "cell_type": "markdown",
   "metadata": {},
   "source": [
    "![dpp](../../../miscellaneous/logo/examples.png/)"
   ]
  },
  {
   "attachments": {},
   "cell_type": "markdown",
   "metadata": {},
   "source": [
    "# Advertising Problem"
   ]
  },
  {
   "attachments": {},
   "cell_type": "markdown",
   "metadata": {},
   "source": [
    "--------------------\n",
    "* Developed by _Keivan Tafakkori_\n",
    "* Date: 18-4-2023\n",
    "* Contact: https://www.linkedin.com/in/keivan-tafakkori/\n",
    "* GitHub: https://github.com/ktafakkori\n",
    "--------------------"
   ]
  },
  {
   "attachments": {},
   "cell_type": "markdown",
   "metadata": {},
   "source": [
    "### Packages"
   ]
  },
  {
   "cell_type": "code",
   "execution_count": 1,
   "metadata": {},
   "outputs": [],
   "source": [
    "from feloopy import *"
   ]
  },
  {
   "attachments": {},
   "cell_type": "markdown",
   "metadata": {},
   "source": [
    "### Setting"
   ]
  },
  {
   "cell_type": "code",
   "execution_count": 2,
   "metadata": {},
   "outputs": [],
   "source": [
    "problem_name = 'ap'\n",
    "solution_method = 'exact'\n",
    "interface = 'pulp'\n",
    "solver = 'highs'\n",
    "key = 0"
   ]
  },
  {
   "attachments": {},
   "cell_type": "markdown",
   "metadata": {},
   "source": [
    "### Model"
   ]
  },
  {
   "cell_type": "code",
   "execution_count": 3,
   "metadata": {},
   "outputs": [
    {
     "name": "stdout",
     "output_type": "stream",
     "text": [
      "Restricted license - for non-production use only - expires 2024-10-28\n"
     ]
    }
   ],
   "source": [
    "#Environment\n",
    "m = target_model(solution_method, problem_name, interface, key=key)\n",
    "\n",
    "#Dataset\n",
    "c = [50, 100]\n",
    "v = [28, 24]\n",
    "p = np.array([[7,  2] , [2, 12]])\n",
    "\n",
    "#Sets\n",
    "I = range(len(c)) #Set of ads\n",
    "J = range(len(v)) #Set of viewer types\n",
    "\n",
    "#Variables\n",
    "x = m.pvar('x', [I])\n",
    "\n",
    "#Objective\n",
    "m.obj(sum(c[i]*x[i] for i in I))\n",
    "\n",
    "#Constraints\n",
    "for j in J:\n",
    "    m.con(sum(p[i,j]*x[i] for i in I) >= v[j])\n",
    "    \n",
    "#Solve\n",
    "m.sol(['min'], solver)"
   ]
  },
  {
   "attachments": {},
   "cell_type": "markdown",
   "metadata": {},
   "source": [
    "### Result"
   ]
  },
  {
   "cell_type": "code",
   "execution_count": 4,
   "metadata": {},
   "outputs": [
    {
     "name": "stdout",
     "output_type": "stream",
     "text": [
      "~~~~~~~~~~~~\n",
      "PROBLEM INFO\n",
      "~~~~~~~~~~~~\n",
      "| info      | detail   | variable   | count [cat,tot]   | other      | count [cat,tot]    |\n",
      "|-----------|----------|------------|-------------------|------------|--------------------|\n",
      "| model     | ap       | positive   | [1, 2]            | objective  | [1, 1]             |\n",
      "| interface | pulp     | binary     | [0, 0]            | constraint | [1, 2]             |\n",
      "| solver    | highs    | integer    | [0, 0]            |            |                    |\n",
      "| direction | ['min']  | free       | [0, 0]            |            |                    |\n",
      "| method    | exact    | tot        | [1, 2]            |            |                    |\n",
      "~~~~~~~~~~~~\n",
      "\n",
      "objective:  320.0\n",
      "status:  Optimal\n",
      "cpu time [pulp]:  77607.19999998854 (microseconds) 00:00:00 (h, m, s)\n",
      "Minutes of AD 0 purchased: 3.6\n",
      "Minutes of AD 1 purchased: 1.4\n"
     ]
    }
   ],
   "source": [
    "#Report\n",
    "#m.report() highs report gives error (it is fixed in the next version)\n",
    "m.inf()\n",
    "m.dis_obj()\n",
    "m.dis_status()\n",
    "m.dis_time()\n",
    "\n",
    "#Display\n",
    "for i in I:\n",
    "    print(f\"Minutes of AD {i} purchased: {m.get(x[i])}\")"
   ]
  }
 ],
 "metadata": {
  "kernelspec": {
   "display_name": "Python 3",
   "language": "python",
   "name": "python3"
  },
  "language_info": {
   "codemirror_mode": {
    "name": "ipython",
    "version": 3
   },
   "file_extension": ".py",
   "mimetype": "text/x-python",
   "name": "python",
   "nbconvert_exporter": "python",
   "pygments_lexer": "ipython3",
   "version": "3.10.0"
  },
  "orig_nbformat": 4
 },
 "nbformat": 4,
 "nbformat_minor": 2
}
