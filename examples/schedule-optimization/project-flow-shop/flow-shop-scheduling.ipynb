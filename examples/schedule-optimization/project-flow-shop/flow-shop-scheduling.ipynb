{
 "cells": [
  {
   "attachments": {},
   "cell_type": "markdown",
   "metadata": {},
   "source": [
    "# Flow Shop Scheduling Problem"
   ]
  },
  {
   "attachments": {},
   "cell_type": "markdown",
   "metadata": {},
   "source": [
    "--------------------\n",
    "* Developed by _Keivan Tafakkori_\n",
    "* Date: 18-4-2023\n",
    "* Contact: https://www.linkedin.com/in/keivan-tafakkori/\n",
    "* Github: https://github.com/ktafakkori\n",
    "--------------------"
   ]
  },
  {
   "attachments": {},
   "cell_type": "markdown",
   "metadata": {},
   "source": [
    "### Packages"
   ]
  },
  {
   "cell_type": "code",
   "execution_count": 1,
   "metadata": {},
   "outputs": [],
   "source": [
    "from feloopy import *"
   ]
  },
  {
   "attachments": {},
   "cell_type": "markdown",
   "metadata": {},
   "source": [
    "### Setting"
   ]
  },
  {
   "cell_type": "code",
   "execution_count": 2,
   "metadata": {},
   "outputs": [],
   "source": [
    "problem_name = 'fssp'\n",
    "solution_method = 'exact'\n",
    "interface = 'pulp'\n",
    "solver = 'highs'\n",
    "key = 0"
   ]
  },
  {
   "attachments": {},
   "cell_type": "markdown",
   "metadata": {},
   "source": [
    "### Model"
   ]
  },
  {
   "cell_type": "code",
   "execution_count": 3,
   "metadata": {},
   "outputs": [
    {
     "name": "stdout",
     "output_type": "stream",
     "text": [
      "Restricted license - for non-production use only - expires 2024-10-28\n"
     ]
    }
   ],
   "source": [
    "#Environment\n",
    "m = target_model(solution_method, problem_name, interface, key=key)\n",
    "\n",
    "#Dataset\n",
    "w = [0.1, 0.4, 0.15, 0.35] #Priority weight of each job\n",
    "p = [[  7,   3,    9,    4],\n",
    "     [  7,   3,    9,    4]] #Processing time of each job on each machine\n",
    "s = [5, 2] #Setup times of the machines\n",
    "\n",
    "\n",
    "#Sets\n",
    "I = range(len(p[0])) #Set of jobs\n",
    "J = range(len(I)) #Set of positions\n",
    "K = range(len(p)) #Set of machines\n",
    "\n",
    "#Variables\n",
    "x = m.bvar('x', [I,J])\n",
    "c = m.pvar('c', [J,K])\n",
    "d = m.pvar('d', [J,K])\n",
    "\n",
    "#Objective\n",
    "m.obj(sum(w[j]*c[j,1] for j in J))\n",
    "\n",
    "#Constraints\n",
    "for i in I: \n",
    "    m.con(sum(x[i,j] for j in J) == 1)\n",
    "\n",
    "for j in J: \n",
    "    m.con(sum(x[i,j] for i in I) == 1)\n",
    "\n",
    "for j in J: \n",
    "    if j!=0: \n",
    "        m.con(c[j,1] >= sum(x[i,j]*p[1][i] for i in I) + d[j,1])\n",
    "\n",
    "m.con(c[0,1] == s[1] + sum(x[i,0]*p[1][i] for i in I) + c[0,0])\n",
    "\n",
    "for j in J: \n",
    "    if j!=0: \n",
    "        m.con(c[j,0] >= c[j-1,0] + sum(x[i,j]*p[0][i] for i in I))\n",
    "\n",
    "m.con(c[0,0] == s[0] + sum(x[i,0]*p[0][i] for i in I))\n",
    "\n",
    "for j in J: \n",
    "    if j!=0: \n",
    "        m.con(d[j,1] >= c[j-1,1])\n",
    "\n",
    "for j in J: \n",
    "    m.con(d[j,1] >= c[j,0])\n",
    "\n",
    "#Solve\n",
    "m.sol(['min'], solver)"
   ]
  },
  {
   "attachments": {},
   "cell_type": "markdown",
   "metadata": {},
   "source": [
    "### Result"
   ]
  },
  {
   "cell_type": "code",
   "execution_count": 4,
   "metadata": {},
   "outputs": [
    {
     "name": "stdout",
     "output_type": "stream",
     "text": [
      "\n",
      "~~~~~~~~~~~~~~\n",
      "FELOOPY v0.2.4\n",
      "~~~~~~~~~~~~~~\n",
      "\n",
      "~~~~~~~~~~~\n",
      "DATE & TIME\n",
      "~~~~~~~~~~~\n",
      "2023-04-18 23:27:59\n",
      "Tue, Apr 18, 2023\n",
      "\n",
      "~~~~~~~~~~~~\n",
      "PROBLEM INFO\n",
      "~~~~~~~~~~~~\n",
      "| info      | detail   | variable   | count [cat,tot]   | other      | count [cat,tot]    |\n",
      "|-----------|----------|------------|-------------------|------------|--------------------|\n",
      "| model     | fssp     | positive   | [2, 16]           | objective  | [1, 1]             |\n",
      "| interface | pulp     | binary     | [1, 16]           | constraint | [1, 23]            |\n",
      "| solver    | highs    | integer    | [0, 0]            |            |                    |\n",
      "| direction | ['min']  | free       | [0, 0]            |            |                    |\n",
      "| method    | exact    | tot        | [3, 32]           |            |                    |\n",
      "~~~~~~~~~~~~\n",
      "\n",
      "~~~~~~~~~~\n",
      "SOLVE INFO\n",
      "~~~~~~~~~~\n",
      "status:  Optimal\n",
      "objective:  24.950000000000003\n",
      "cpu time [pulp]:  71981.69999992388 (microseconds) 00:00:00 (h, m, s)\n",
      "~~~~~~~~~~~\n",
      "\n",
      "~~~~~~~~~~\n",
      "MODEL INFO\n",
      "~~~~~~~~~~\n",
      "name: fssp\n",
      "objective: min 0.1*c(0,_1) + 0.4*c(1,_1) + 0.15*c(2,_1) + 0.35*c(3,_1)\n",
      "subject to:\n",
      "constraint 0: x(0,_0) + x(0,_1) + x(0,_2) + x(0,_3) = 1\n",
      "constraint 1: x(1,_0) + x(1,_1) + x(1,_2) + x(1,_3) = 1\n",
      "constraint 2: x(2,_0) + x(2,_1) + x(2,_2) + x(2,_3) = 1\n",
      "constraint 3: x(3,_0) + x(3,_1) + x(3,_2) + x(3,_3) = 1\n",
      "constraint 4: x(0,_0) + x(1,_0) + x(2,_0) + x(3,_0) = 1\n",
      "constraint 5: x(0,_1) + x(1,_1) + x(2,_1) + x(3,_1) = 1\n",
      "constraint 6: x(0,_2) + x(1,_2) + x(2,_2) + x(3,_2) = 1\n",
      "constraint 7: x(0,_3) + x(1,_3) + x(2,_3) + x(3,_3) = 1\n",
      "constraint 8: c(1,_1) - d(1,_1) - 7*x(0,_1) - 3*x(1,_1) - 9*x(2,_1) - 4*x(3,_1) >= 0\n",
      "constraint 9: c(2,_1) - d(2,_1) - 7*x(0,_2) - 3*x(1,_2) - 9*x(2,_2) - 4*x(3,_2) >= 0\n",
      "constraint 10: c(3,_1) - d(3,_1) - 7*x(0,_3) - 3*x(1,_3) - 9*x(2,_3) - 4*x(3,_3) >= 0\n",
      "constraint 11: -c(0,_0) + c(0,_1) - 7*x(0,_0) - 3*x(1,_0) - 9*x(2,_0) - 4*x(3,_0) = 2\n",
      "constraint 12: -c(0,_0) + c(1,_0) - 7*x(0,_1) - 3*x(1,_1) - 9*x(2,_1) - 4*x(3,_1) >= 0\n",
      "constraint 13: -c(1,_0) + c(2,_0) - 7*x(0,_2) - 3*x(1,_2) - 9*x(2,_2) - 4*x(3,_2) >= 0\n",
      "constraint 14: -c(2,_0) + c(3,_0) - 7*x(0,_3) - 3*x(1,_3) - 9*x(2,_3) - 4*x(3,_3) >= 0\n",
      "constraint 15: c(0,_0) - 7*x(0,_0) - 3*x(1,_0) - 9*x(2,_0) - 4*x(3,_0) = 5\n",
      "constraint 16: -c(0,_1) + d(1,_1) >= 0\n",
      "constraint 17: -c(1,_1) + d(2,_1) >= 0\n",
      "constraint 18: -c(2,_1) + d(3,_1) >= 0\n",
      "constraint 19: -c(0,_0) + d(0,_1) >= 0\n",
      "constraint 20: -c(1,_0) + d(1,_1) >= 0\n",
      "constraint 21: -c(2,_0) + d(2,_1) >= 0\n",
      "constraint 22: -c(3,_0) + d(3,_1) >= 0\n",
      "~~~~~~~~~~\n",
      "\n",
      "x02 = 1.0\n",
      "x10 = 1.0\n",
      "x23 = 1.0\n",
      "x31 = 1.0\n",
      "c00 = 8.0\n",
      "c01 = 13.0\n",
      "c10 = 12.0\n",
      "c11 = 17.0\n",
      "c20 = 19.0\n",
      "c21 = 26.0\n",
      "c30 = 28.0\n",
      "c31 = 37.0\n",
      "d01 = 8.0\n",
      "d11 = 13.0\n",
      "d21 = 19.0\n",
      "d31 = 28.0\n"
     ]
    }
   ],
   "source": [
    "#Report\n",
    "m.report()\n",
    "\n",
    "#Display\n",
    "for i,j in sets(I,J):\n",
    "    if m.get(x[i,j])!=0:\n",
    "        print(f\"x{i}{j} = {m.get(x[i,j])}\")\n",
    "\n",
    "for j,k in sets(J,K):\n",
    "    if m.get(c[j,k])!=0:\n",
    "        print(f\"c{j}{k} = {m.get(c[j,k])}\")\n",
    "\n",
    "for j,k in sets(J,K):\n",
    "    if m.get(d[j,k]):\n",
    "        print(f\"d{j}{k} = {m.get(d[j,k])}\")"
   ]
  }
 ],
 "metadata": {
  "kernelspec": {
   "display_name": "Python 3",
   "language": "python",
   "name": "python3"
  },
  "language_info": {
   "codemirror_mode": {
    "name": "ipython",
    "version": 3
   },
   "file_extension": ".py",
   "mimetype": "text/x-python",
   "name": "python",
   "nbconvert_exporter": "python",
   "pygments_lexer": "ipython3",
   "version": "3.10.0"
  },
  "orig_nbformat": 4
 },
 "nbformat": 4,
 "nbformat_minor": 2
}
