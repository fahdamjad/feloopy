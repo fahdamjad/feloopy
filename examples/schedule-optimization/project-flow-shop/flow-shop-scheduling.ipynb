{
 "cells": [
  {
   "attachments": {},
   "cell_type": "markdown",
   "metadata": {},
   "source": [
    "![dpp](./img/examples.png)"
   ]
  },
  {
   "attachments": {},
   "cell_type": "markdown",
   "metadata": {},
   "source": [
    "# Flow Shop Scheduling Problem"
   ]
  },
  {
   "attachments": {},
   "cell_type": "markdown",
   "metadata": {},
   "source": [
    "--------------------\n",
    "* Developed by _Keivan Tafakkori_\n",
    "* Date: 18-4-2023\n",
    "* Contact: https://www.linkedin.com/in/keivan-tafakkori/\n",
    "* GitHub: https://github.com/ktafakkori\n",
    "--------------------"
   ]
  },
  {
   "attachments": {},
   "cell_type": "markdown",
   "metadata": {},
   "source": [
    "### Packages"
   ]
  },
  {
   "cell_type": "code",
   "execution_count": 5,
   "metadata": {},
   "outputs": [],
   "source": [
    "from feloopy import *"
   ]
  },
  {
   "attachments": {},
   "cell_type": "markdown",
   "metadata": {},
   "source": [
    "### Setting"
   ]
  },
  {
   "cell_type": "code",
   "execution_count": 6,
   "metadata": {},
   "outputs": [],
   "source": [
    "problem_name = 'fssp'\n",
    "solution_method = 'exact'\n",
    "interface = 'pulp'\n",
    "solver = 'highs'\n",
    "key = 0"
   ]
  },
  {
   "attachments": {},
   "cell_type": "markdown",
   "metadata": {},
   "source": [
    "### Model"
   ]
  },
  {
   "cell_type": "code",
   "execution_count": 7,
   "metadata": {},
   "outputs": [],
   "source": [
    "#Environment\n",
    "m = target_model(solution_method, problem_name, interface, key=key)\n",
    "\n",
    "#Dataset\n",
    "w = [0.1, 0.4, 0.15, 0.35] #Priority weight of each job\n",
    "p = [[  7,   3,    9,    4],\n",
    "     [  7,   3,    9,    4]] #Processing time of each job on each machine\n",
    "s = [5, 2] #Setup times of the machines\n",
    "\n",
    "\n",
    "#Sets\n",
    "I = range(len(p[0])) #Set of jobs\n",
    "J = range(len(I)) #Set of positions\n",
    "K = range(len(p)) #Set of machines\n",
    "\n",
    "#Variables\n",
    "x = m.bvar('x', [I,J])\n",
    "c = m.pvar('c', [J,K])\n",
    "d = m.pvar('d', [J,K])\n",
    "\n",
    "#Objective\n",
    "m.obj(sum(w[j]*c[j,1] for j in J))\n",
    "\n",
    "#Constraints\n",
    "for i in I: \n",
    "    m.con(sum(x[i,j] for j in J) == 1)\n",
    "\n",
    "for j in J: \n",
    "    m.con(sum(x[i,j] for i in I) == 1)\n",
    "\n",
    "for j in J: \n",
    "    if j!=0: \n",
    "        m.con(c[j,1] >= sum(x[i,j]*p[1][i] for i in I) + d[j,1])\n",
    "\n",
    "m.con(c[0,1] == s[1] + sum(x[i,0]*p[1][i] for i in I) + c[0,0])\n",
    "\n",
    "for j in J: \n",
    "    if j!=0: \n",
    "        m.con(c[j,0] >= c[j-1,0] + sum(x[i,j]*p[0][i] for i in I))\n",
    "\n",
    "m.con(c[0,0] == s[0] + sum(x[i,0]*p[0][i] for i in I))\n",
    "\n",
    "for j in J: \n",
    "    if j!=0: \n",
    "        m.con(d[j,1] >= c[j-1,1])\n",
    "\n",
    "for j in J: \n",
    "    m.con(d[j,1] >= c[j,0])\n",
    "\n",
    "#Solve\n",
    "m.sol(['min'], solver)"
   ]
  },
  {
   "attachments": {},
   "cell_type": "markdown",
   "metadata": {},
   "source": [
    "### Result"
   ]
  },
  {
   "cell_type": "code",
   "execution_count": 8,
   "metadata": {},
   "outputs": [
    {
     "name": "stdout",
     "output_type": "stream",
     "text": [
      "\n",
      "+--------------------------------------------------------------------------------+\n",
      "|                                 FelooPy v0.2.5                                 |\n",
      "+--------------------------------------------------------------------------------+\n",
      "| Date: 2023-05-27                                                Time: 19:06:57 |\n",
      "| Interface: pulp                                                  Solver: highs |\n",
      "+--------------------------------------------------------------------------------+\n",
      "|                               Model Information                                |\n",
      "+--------------------------------------------------------------------------------+\n",
      "|                             The 'fssp' model has:                              |\n",
      "|                    16 positive variable(s) in 2 class(es).                     |\n",
      "|                     16 binary variable(s) in 1 class(es).                      |\n",
      "|                                1 objective(s).                                 |\n",
      "|                        23 constraint(s) in 1 class(es).                        |\n",
      "|                Total number of variables is 32 in 32 class(es).                |\n",
      "+--------------------------------------------------------------------------------+\n",
      "|                               Solve Information                                |\n",
      "+--------------------------------------------------------------------------------+\n",
      "| Method: exact                                               Objective Value(s) |\n",
      "| Status:                                                                    min |\n",
      "| Optimal                                                                  24.95 |\n",
      "+--------------------------------------------------------------------------------+\n",
      "|                               Metric Information                               |\n",
      "+--------------------------------------------------------------------------------+\n",
      "| CPT   (microseconds):  1.65e+04                                                |\n",
      "| CPT   (hour:min:sec):  00:00:00                                                |\n",
      "+--------------------------------------------------------------------------------+\n",
      "|                              Decision Information                              |\n",
      "+--------------------------------------------------------------------------------+\n",
      "| x[0, 2] = 1.0                                                                  |\n",
      "| x[1, 0] = 1.0                                                                  |\n",
      "| x[2, 3] = 1.0                                                                  |\n",
      "| x[3, 1] = 1.0                                                                  |\n",
      "| c[0, 0] = 8.0                                                                  |\n",
      "| c[0, 1] = 13.0                                                                 |\n",
      "| c[1, 0] = 12.0                                                                 |\n",
      "| c[1, 1] = 17.0                                                                 |\n",
      "| c[2, 0] = 19.0                                                                 |\n",
      "| c[2, 1] = 26.0                                                                 |\n",
      "| c[3, 0] = 28.0                                                                 |\n",
      "| c[3, 1] = 37.0                                                                 |\n",
      "| d[0, 1] = 8.0                                                                  |\n",
      "| d[1, 1] = 13.0                                                                 |\n",
      "| d[2, 1] = 19.0                                                                 |\n",
      "| d[3, 1] = 28.0                                                                 |\n",
      "+--------------------------------------------------------------------------------+\n"
     ]
    }
   ],
   "source": [
    "#Report\n",
    "m.report()"
   ]
  }
 ],
 "metadata": {
  "kernelspec": {
   "display_name": "Python 3",
   "language": "python",
   "name": "python3"
  },
  "language_info": {
   "codemirror_mode": {
    "name": "ipython",
    "version": 3
   },
   "file_extension": ".py",
   "mimetype": "text/x-python",
   "name": "python",
   "nbconvert_exporter": "python",
   "pygments_lexer": "ipython3",
   "version": "3.10.9"
  },
  "orig_nbformat": 4
 },
 "nbformat": 4,
 "nbformat_minor": 2
}
