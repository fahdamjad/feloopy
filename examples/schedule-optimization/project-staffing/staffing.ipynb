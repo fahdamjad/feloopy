{
 "cells": [
  {
   "attachments": {},
   "cell_type": "markdown",
   "metadata": {},
   "source": [
    "![dpp](./img/examples.png)"
   ]
  },
  {
   "attachments": {},
   "cell_type": "markdown",
   "metadata": {},
   "source": [
    "# Staffing Problem"
   ]
  },
  {
   "attachments": {},
   "cell_type": "markdown",
   "metadata": {},
   "source": [
    "--------------------\n",
    "* Developed by _Keivan Tafakkori_\n",
    "* Date: 18-4-2023\n",
    "* Contact: https://www.linkedin.com/in/keivan-tafakkori/\n",
    "* GitHub: https://github.com/ktafakkori\n",
    "--------------------"
   ]
  },
  {
   "attachments": {},
   "cell_type": "markdown",
   "metadata": {},
   "source": [
    "### Packages"
   ]
  },
  {
   "cell_type": "code",
   "execution_count": 6,
   "metadata": {},
   "outputs": [],
   "source": [
    "from feloopy import *"
   ]
  },
  {
   "attachments": {},
   "cell_type": "markdown",
   "metadata": {},
   "source": [
    "### Setting"
   ]
  },
  {
   "cell_type": "code",
   "execution_count": 7,
   "metadata": {},
   "outputs": [],
   "source": [
    "problem_name = 'sp'\n",
    "solution_method = 'exact'\n",
    "interface = 'pulp'\n",
    "solver = 'highs'\n",
    "key = 0"
   ]
  },
  {
   "attachments": {},
   "cell_type": "markdown",
   "metadata": {},
   "source": [
    "### Functions"
   ]
  },
  {
   "cell_type": "code",
   "execution_count": 8,
   "metadata": {},
   "outputs": [],
   "source": [
    "def roll(n, d):\n",
    "    l = [0, 1, 2, 3, 4, 5, 6]\n",
    "    if n < d:\n",
    "        x = l[:n+1] + l[n+(len(l)-d+1):]\n",
    "    else:\n",
    "        x = l[n-(d-1):n+1]\n",
    "    return x"
   ]
  },
  {
   "attachments": {},
   "cell_type": "markdown",
   "metadata": {},
   "source": [
    "### Model"
   ]
  },
  {
   "cell_type": "code",
   "execution_count": 9,
   "metadata": {},
   "outputs": [],
   "source": [
    "#Environment\n",
    "m = target_model(solution_method, problem_name, interface, key=key)\n",
    "\n",
    "#Dataset\n",
    "Data = {\n",
    "    'Mon': 17,\n",
    "    'Tue': 13,\n",
    "    'Wed': 15,\n",
    "    'Thu': 19,\n",
    "    'Fri': 14,\n",
    "    'Sat': 16,\n",
    "    'Sun': 11\n",
    "}\n",
    "RD = 5  # Rolling horizon\n",
    "\n",
    "#Sets\n",
    "I = range(7)  # Set of days\n",
    "\n",
    "#Variables\n",
    "x = m.ivar('x', [I])\n",
    "\n",
    "#Objective\n",
    "m.obj(sum(x[i] for i in I))\n",
    "\n",
    "#Constraints\n",
    "for i in I:\n",
    "    m.con(sum(x[j] for j in roll(i, RD)) >= list(Data.values())[i])\n",
    "\n",
    "#Solve\n",
    "m.sol(['min'], solver)"
   ]
  },
  {
   "attachments": {},
   "cell_type": "markdown",
   "metadata": {},
   "source": [
    "### Result"
   ]
  },
  {
   "cell_type": "code",
   "execution_count": 10,
   "metadata": {},
   "outputs": [
    {
     "name": "stdout",
     "output_type": "stream",
     "text": [
      "\n",
      "+--------------------------------------------------------------------------------+\n",
      "|                                 FelooPy v0.2.5                                 |\n",
      "+--------------------------------------------------------------------------------+\n",
      "| Date: 2023-05-27                                                Time: 19:07:55 |\n",
      "| Interface: pulp                                                  Solver: highs |\n",
      "+--------------------------------------------------------------------------------+\n",
      "|                               Model Information                                |\n",
      "+--------------------------------------------------------------------------------+\n",
      "|                              The 'sp' model has:                               |\n",
      "|                     7 integer variable(s) in 1 class(es).                      |\n",
      "|                                1 objective(s).                                 |\n",
      "|                        7 constraint(s) in 1 class(es).                         |\n",
      "|                 Total number of variables is 7 in 7 class(es).                 |\n",
      "+--------------------------------------------------------------------------------+\n",
      "|                               Solve Information                                |\n",
      "+--------------------------------------------------------------------------------+\n",
      "| Method: exact                                               Objective Value(s) |\n",
      "| Status:                                                                    min |\n",
      "| Optimal                                                                  23.00 |\n",
      "+--------------------------------------------------------------------------------+\n",
      "|                               Metric Information                               |\n",
      "+--------------------------------------------------------------------------------+\n",
      "| CPT   (microseconds):  1.77e+04                                                |\n",
      "| CPT   (hour:min:sec):  00:00:00                                                |\n",
      "+--------------------------------------------------------------------------------+\n",
      "|                              Decision Information                              |\n",
      "+--------------------------------------------------------------------------------+\n",
      "| x[0] = 7.0                                                                     |\n",
      "| x[1] = 5.0                                                                     |\n",
      "| x[2] = 1.0                                                                     |\n",
      "| x[3] = 8.0                                                                     |\n",
      "| x[5] = 2.0                                                                     |\n",
      "+--------------------------------------------------------------------------------+\n"
     ]
    }
   ],
   "source": [
    "#Report\n",
    "m.report()"
   ]
  }
 ],
 "metadata": {
  "kernelspec": {
   "display_name": "Python 3",
   "language": "python",
   "name": "python3"
  },
  "language_info": {
   "codemirror_mode": {
    "name": "ipython",
    "version": 3
   },
   "file_extension": ".py",
   "mimetype": "text/x-python",
   "name": "python",
   "nbconvert_exporter": "python",
   "pygments_lexer": "ipython3",
   "version": "3.10.9"
  },
  "orig_nbformat": 4
 },
 "nbformat": 4,
 "nbformat_minor": 2
}
