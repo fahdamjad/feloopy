{
 "cells": [
  {
   "attachments": {},
   "cell_type": "markdown",
   "metadata": {},
   "source": [
    "![dpp](./img/examples.png)"
   ]
  },
  {
   "attachments": {},
   "cell_type": "markdown",
   "metadata": {},
   "source": [
    "# Staffing Problem"
   ]
  },
  {
   "attachments": {},
   "cell_type": "markdown",
   "metadata": {},
   "source": [
    "--------------------\n",
    "* Developed by _Keivan Tafakkori_\n",
    "* Date: 18-4-2023\n",
    "* Contact: https://www.linkedin.com/in/keivan-tafakkori/\n",
    "* GitHub: https://github.com/ktafakkori\n",
    "--------------------"
   ]
  },
  {
   "attachments": {},
   "cell_type": "markdown",
   "metadata": {},
   "source": [
    "### Packages"
   ]
  },
  {
   "cell_type": "code",
   "execution_count": 1,
   "metadata": {},
   "outputs": [],
   "source": [
    "from feloopy import *"
   ]
  },
  {
   "attachments": {},
   "cell_type": "markdown",
   "metadata": {},
   "source": [
    "### Setting"
   ]
  },
  {
   "cell_type": "code",
   "execution_count": 2,
   "metadata": {},
   "outputs": [],
   "source": [
    "problem_name = 'sp'\n",
    "solution_method = 'exact'\n",
    "interface = 'pulp'\n",
    "solver = 'highs'\n",
    "key = 0"
   ]
  },
  {
   "attachments": {},
   "cell_type": "markdown",
   "metadata": {},
   "source": [
    "### Functions"
   ]
  },
  {
   "cell_type": "code",
   "execution_count": 3,
   "metadata": {},
   "outputs": [],
   "source": [
    "def roll(n, d):\n",
    "    l = [0, 1, 2, 3, 4, 5, 6]\n",
    "    if n < d:\n",
    "        x = l[:n+1] + l[n+(len(l)-d+1):]\n",
    "    else:\n",
    "        x = l[n-(d-1):n+1]\n",
    "    return x"
   ]
  },
  {
   "attachments": {},
   "cell_type": "markdown",
   "metadata": {},
   "source": [
    "### Model"
   ]
  },
  {
   "cell_type": "code",
   "execution_count": 4,
   "metadata": {},
   "outputs": [
    {
     "name": "stdout",
     "output_type": "stream",
     "text": [
      "Restricted license - for non-production use only - expires 2024-10-28\n"
     ]
    }
   ],
   "source": [
    "#Environment\n",
    "m = target_model(solution_method, problem_name, interface, key=key)\n",
    "\n",
    "#Dataset\n",
    "Data = {\n",
    "    'Mon': 17,\n",
    "    'Tue': 13,\n",
    "    'Wed': 15,\n",
    "    'Thu': 19,\n",
    "    'Fri': 14,\n",
    "    'Sat': 16,\n",
    "    'Sun': 11\n",
    "}\n",
    "RD = 5  # Rolling horizon\n",
    "\n",
    "#Sets\n",
    "I = range(7)  # Set of days\n",
    "\n",
    "#Variables\n",
    "x = m.ivar('x', [I])\n",
    "\n",
    "#Objective\n",
    "m.obj(sum(x[i] for i in I))\n",
    "\n",
    "#Constraints\n",
    "for i in I:\n",
    "    m.con(sum(x[j] for j in roll(i, RD)) >= list(Data.values())[i])\n",
    "\n",
    "#Solve\n",
    "m.sol(['min'], solver)"
   ]
  },
  {
   "attachments": {},
   "cell_type": "markdown",
   "metadata": {},
   "source": [
    "### Result"
   ]
  },
  {
   "cell_type": "code",
   "execution_count": 5,
   "metadata": {},
   "outputs": [
    {
     "name": "stdout",
     "output_type": "stream",
     "text": [
      "~~~~~~~~~~~~\n",
      "PROBLEM INFO\n",
      "~~~~~~~~~~~~\n",
      "| info      | detail   | variable   | count [cat,tot]   | other      | count [cat,tot]    |\n",
      "|-----------|----------|------------|-------------------|------------|--------------------|\n",
      "| model     | sp       | positive   | [0, 0]            | objective  | [1, 1]             |\n",
      "| interface | pulp     | binary     | [0, 0]            | constraint | [1, 7]             |\n",
      "| solver    | highs    | integer    | [1, 7]            |            |                    |\n",
      "| direction | ['min']  | free       | [0, 0]            |            |                    |\n",
      "| method    | exact    | tot        | [1, 7]            |            |                    |\n",
      "~~~~~~~~~~~~\n",
      "\n",
      "objective:  23.0\n",
      "status:  Optimal\n",
      "cpu time [pulp]:  19550.600000002305 (microseconds) 00:00:00 (h, m, s)\n",
      "Number of employees who start working on Mon: 7.0 \n",
      "Number of employees who start working on Tue: 5.0 \n",
      "Number of employees who start working on Wed: 1.0 \n",
      "Number of employees who start working on Thu: 8.0 \n",
      "Number of employees who start working on Fri: 0.0 \n",
      "Number of employees who start working on Sat: 2.0 \n",
      "Number of employees who start working on Sun: 0.0 \n"
     ]
    }
   ],
   "source": [
    "#Report\n",
    "#m.report() highs report gives error (it is fixed in the next version)\n",
    "m.inf()\n",
    "m.dis_obj()\n",
    "m.dis_status()\n",
    "m.dis_time()\n",
    "\n",
    "#Display\n",
    "for i in I:\n",
    "    print(\n",
    "        f\"Number of employees who start working on {list(Data.keys())[i]}: {m.get(x[i])} \")"
   ]
  }
 ],
 "metadata": {
  "kernelspec": {
   "display_name": "Python 3",
   "language": "python",
   "name": "python3"
  },
  "language_info": {
   "codemirror_mode": {
    "name": "ipython",
    "version": 3
   },
   "file_extension": ".py",
   "mimetype": "text/x-python",
   "name": "python",
   "nbconvert_exporter": "python",
   "pygments_lexer": "ipython3",
   "version": "3.10.0"
  },
  "orig_nbformat": 4
 },
 "nbformat": 4,
 "nbformat_minor": 2
}
