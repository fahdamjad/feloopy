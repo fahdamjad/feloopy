{
 "cells": [
  {
   "attachments": {},
   "cell_type": "markdown",
   "metadata": {},
   "source": [
    "![dpp](./img/examples.png)"
   ]
  },
  {
   "attachments": {},
   "cell_type": "markdown",
   "metadata": {},
   "source": [
    "# Transportation Problem"
   ]
  },
  {
   "attachments": {},
   "cell_type": "markdown",
   "metadata": {},
   "source": [
    "--------------------\n",
    "* Developed by _Keivan Tafakkori_\n",
    "* Date: 19-4-2023\n",
    "* Contact: https://www.linkedin.com/in/keivan-tafakkori/\n",
    "* GitHub: https://github.com/ktafakkori\n",
    "--------------------"
   ]
  },
  {
   "attachments": {},
   "cell_type": "markdown",
   "metadata": {},
   "source": [
    "### Packages"
   ]
  },
  {
   "cell_type": "code",
   "execution_count": 9,
   "metadata": {},
   "outputs": [],
   "source": [
    "from feloopy import *"
   ]
  },
  {
   "attachments": {},
   "cell_type": "markdown",
   "metadata": {},
   "source": [
    "### Setting"
   ]
  },
  {
   "cell_type": "code",
   "execution_count": 10,
   "metadata": {},
   "outputs": [],
   "source": [
    "problem_name = 'ap'\n",
    "solution_method = 'exact'\n",
    "interface = 'pulp'\n",
    "solver = 'highs'\n",
    "key = 0"
   ]
  },
  {
   "attachments": {},
   "cell_type": "markdown",
   "metadata": {},
   "source": [
    "### Model"
   ]
  },
  {
   "cell_type": "code",
   "execution_count": 11,
   "metadata": {},
   "outputs": [],
   "source": [
    "#Environment\n",
    "m = target_model(solution_method, problem_name, interface, key=key)\n",
    "\n",
    "#Sets\n",
    "I = m.set(5) # set of loactions\n",
    "L = m.set(2) # set of capacity levels\n",
    "\n",
    "#Dataset\n",
    "dc = load_from_excel('data.xlsx', [I,I], [1,1], ['i', 'j'], 'driver_cost') # pairwise driver cost\n",
    "fc = load_from_excel('data.xlsx', [I,I], [1,1], ['i', 'j'], 'freight_cost') # pairwise freight cost\n",
    "vc = fc/1000 + dc # pairwise variable cost\n",
    "ec = load_from_excel('data.xlsx', [I,L], [1,1], ['i', 'j'], 'fixed_cost') # establishment cost per capacity level\n",
    "ca = load_from_excel('data.xlsx', [I,L], [1,1], ['i', 'j'], 'capacity') # capacity\n",
    "d = load_from_excel('data.xlsx', [I], [1], ['i'], 'demand') # demand\n",
    "\n",
    "#Variables\n",
    "x = m.pvar('flow',[I,I])\n",
    "y = m.bvar('establish',[I,L])\n",
    "\n",
    "#Objective\n",
    "m.obj(sum(ec[i,lv]*y[i,lv] for i,lv in sets(I,L)) + sum(vc[i,j] * x[i,j] for i,j in sets(I,I)))\n",
    "\n",
    "#Constraints\n",
    "for j in I: \n",
    "    m.con(sum(x[i,j] for i in I if i!=j) == d[j])\n",
    "\n",
    "for i in I:\n",
    "    m.con(sum(x[i,j] for j in I if j !=i) <= sum(ca[i,lv]*y[i,lv]*1000 for lv in L))\n",
    "    \n",
    "#Solve\n",
    "m.sol(['min'], solver)"
   ]
  },
  {
   "attachments": {},
   "cell_type": "markdown",
   "metadata": {},
   "source": [
    "### Result"
   ]
  },
  {
   "cell_type": "code",
   "execution_count": 12,
   "metadata": {},
   "outputs": [
    {
     "name": "stdout",
     "output_type": "stream",
     "text": [
      "\n",
      "+--------------------------------------------------------------------------------+\n",
      "|                                 FelooPy v0.2.5                                 |\n",
      "+--------------------------------------------------------------------------------+\n",
      "| Date: 2023-05-27                                                Time: 19:08:29 |\n",
      "| Interface: pulp                                                  Solver: highs |\n",
      "+--------------------------------------------------------------------------------+\n",
      "|                               Model Information                                |\n",
      "+--------------------------------------------------------------------------------+\n",
      "|                              The 'ap' model has:                               |\n",
      "|                    25 positive variable(s) in 1 class(es).                     |\n",
      "|                     10 binary variable(s) in 1 class(es).                      |\n",
      "|                                1 objective(s).                                 |\n",
      "|                        10 constraint(s) in 1 class(es).                        |\n",
      "|                Total number of variables is 35 in 35 class(es).                |\n",
      "+--------------------------------------------------------------------------------+\n",
      "|                               Solve Information                                |\n",
      "+--------------------------------------------------------------------------------+\n",
      "| Method: exact                                               Objective Value(s) |\n",
      "| Status:                                                                    min |\n",
      "| Optimal                                                               4.18e+04 |\n",
      "+--------------------------------------------------------------------------------+\n",
      "|                               Metric Information                               |\n",
      "+--------------------------------------------------------------------------------+\n",
      "| CPT   (microseconds):  2.61e+04                                                |\n",
      "| CPT   (hour:min:sec):  00:00:00                                                |\n",
      "+--------------------------------------------------------------------------------+\n",
      "|                              Decision Information                              |\n",
      "+--------------------------------------------------------------------------------+\n",
      "| flow[0, 2] = 170.0                                                             |\n",
      "| flow[0, 3] = 145.0                                                             |\n",
      "| flow[0, 4] = 160.0                                                             |\n",
      "| flow[4, 0] = 280.0                                                             |\n",
      "| flow[4, 1] = 900.0                                                             |\n",
      "| establish[0, 0] = 1.0                                                          |\n",
      "| establish[4, 0] = 1.0                                                          |\n",
      "+--------------------------------------------------------------------------------+\n",
      " transporting 170.0 units from location 0 to 2 is necessary to meet demand.\n",
      " transporting 145.0 units from location 0 to 3 is necessary to meet demand.\n",
      " transporting 160.0 units from location 0 to 4 is necessary to meet demand.\n",
      " transporting 280.0 units from location 4 to 0 is necessary to meet demand.\n",
      " transporting 900.0 units from location 4 to 1 is necessary to meet demand.\n",
      "establishing facility of level 0 at location 0 is necessary to meet demand.\n",
      "establishing facility of level 0 at location 4 is necessary to meet demand.\n"
     ]
    }
   ],
   "source": [
    "#Report\n",
    "m.report()\n",
    "\n",
    "#Display\n",
    "for i,j in sets(I,I):\n",
    "    if m.get(x[i,j])>0:\n",
    "        print(f\" transporting {m.get(x[i,j])} units from location {i} to {j} is necessary to meet demand.\")\n",
    "\n",
    "for i,lv in sets(I,L):\n",
    "    if m.get(y[i,lv])>0:\n",
    "        print(f\"establishing facility of level {lv} at location {i} is necessary to meet demand.\")"
   ]
  }
 ],
 "metadata": {
  "kernelspec": {
   "display_name": "Python 3",
   "language": "python",
   "name": "python3"
  },
  "language_info": {
   "codemirror_mode": {
    "name": "ipython",
    "version": 3
   },
   "file_extension": ".py",
   "mimetype": "text/x-python",
   "name": "python",
   "nbconvert_exporter": "python",
   "pygments_lexer": "ipython3",
   "version": "3.10.9"
  },
  "orig_nbformat": 4
 },
 "nbformat": 4,
 "nbformat_minor": 2
}
