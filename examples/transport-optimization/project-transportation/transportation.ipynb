{
 "cells": [
  {
   "attachments": {},
   "cell_type": "markdown",
   "metadata": {},
   "source": [
    "# Transportation Problem"
   ]
  },
  {
   "attachments": {},
   "cell_type": "markdown",
   "metadata": {},
   "source": [
    "--------------------\n",
    "* Developed by _Keivan Tafakkori_\n",
    "* Date: 19-4-2023\n",
    "* Contact: https://www.linkedin.com/in/keivan-tafakkori/\n",
    "* GitHub: https://github.com/ktafakkori\n",
    "--------------------"
   ]
  },
  {
   "attachments": {},
   "cell_type": "markdown",
   "metadata": {},
   "source": [
    "### Packages"
   ]
  },
  {
   "cell_type": "code",
   "execution_count": 1,
   "metadata": {},
   "outputs": [],
   "source": [
    "from feloopy import *"
   ]
  },
  {
   "attachments": {},
   "cell_type": "markdown",
   "metadata": {},
   "source": [
    "### Setting"
   ]
  },
  {
   "cell_type": "code",
   "execution_count": 2,
   "metadata": {},
   "outputs": [],
   "source": [
    "problem_name = 'ap'\n",
    "solution_method = 'exact'\n",
    "interface = 'pulp'\n",
    "solver = 'highs'\n",
    "key = 0"
   ]
  },
  {
   "attachments": {},
   "cell_type": "markdown",
   "metadata": {},
   "source": [
    "### Model"
   ]
  },
  {
   "cell_type": "code",
   "execution_count": 3,
   "metadata": {},
   "outputs": [
    {
     "name": "stdout",
     "output_type": "stream",
     "text": [
      "Restricted license - for non-production use only - expires 2024-10-28\n"
     ]
    }
   ],
   "source": [
    "#Environment\n",
    "m = target_model(solution_method, problem_name, interface, key=key)\n",
    "\n",
    "#Sets\n",
    "I = m.set(5) # set of loactions\n",
    "L = m.set(2) # set of capacity levels\n",
    "\n",
    "#Dataset\n",
    "dc = load_from_excel('data.xlsx', [I,I], [1,1], ['i', 'j'], 'driver_cost') # pairwise driver cost\n",
    "fc = load_from_excel('data.xlsx', [I,I], [1,1], ['i', 'j'], 'freight_cost') # pairwise freight cost\n",
    "vc = fc/1000 + dc # pairwise variable cost\n",
    "ec = load_from_excel('data.xlsx', [I,L], [1,1], ['i', 'j'], 'fixed_cost') # establishment cost per capacity level\n",
    "ca = load_from_excel('data.xlsx', [I,L], [1,1], ['i', 'j'], 'capacity') # capacity\n",
    "d = load_from_excel('data.xlsx', [I], [1], ['i'], 'demand') # demand\n",
    "\n",
    "#Variables\n",
    "x = m.pvar('flow',[I,I])\n",
    "y = m.bvar('establish',[I,L])\n",
    "\n",
    "#Objective\n",
    "m.obj(sum(ec[i,lv]*y[i,lv] for i,lv in sets(I,L)) + sum(vc[i,j] * x[i,j] for i,j in sets(I,I)))\n",
    "\n",
    "#Constraints\n",
    "for j in I: \n",
    "    m.con(sum(x[i,j] for i in I if i!=j) == d[j])\n",
    "\n",
    "for i in I:\n",
    "    m.con(sum(x[i,j] for j in I if j !=i) <= sum(ca[i,lv]*y[i,lv]*1000 for lv in L))\n",
    "    \n",
    "#Solve\n",
    "m.sol(['min'], solver)"
   ]
  },
  {
   "attachments": {},
   "cell_type": "markdown",
   "metadata": {},
   "source": [
    "### Result"
   ]
  },
  {
   "cell_type": "code",
   "execution_count": 4,
   "metadata": {},
   "outputs": [
    {
     "name": "stdout",
     "output_type": "stream",
     "text": [
      "~~~~~~~~~~~~\n",
      "PROBLEM INFO\n",
      "~~~~~~~~~~~~\n",
      "| info      | detail   | variable   | count [cat,tot]   | other      | count [cat,tot]    |\n",
      "|-----------|----------|------------|-------------------|------------|--------------------|\n",
      "| model     | ap       | positive   | [1, 25]           | objective  | [1, 1]             |\n",
      "| interface | pulp     | binary     | [1, 10]           | constraint | [1, 10]            |\n",
      "| solver    | highs    | integer    | [0, 0]            |            |                    |\n",
      "| direction | ['min']  | free       | [0, 0]            |            |                    |\n",
      "| method    | exact    | tot        | [2, 35]           |            |                    |\n",
      "~~~~~~~~~~~~\n",
      "\n",
      "objective:  41817.979999999996\n",
      "status:  Optimal\n",
      "cpu time [pulp]:  72626.4999993873 (microseconds) 00:00:00 (h, m, s)\n",
      " transporting 170.0 units from location 0 to 2 is necessary to meet demand.\n",
      " transporting 145.0 units from location 0 to 3 is necessary to meet demand.\n",
      " transporting 160.0 units from location 0 to 4 is necessary to meet demand.\n",
      " transporting 280.0 units from location 4 to 0 is necessary to meet demand.\n",
      " transporting 900.0 units from location 4 to 1 is necessary to meet demand.\n",
      "establishing facility of level 0 at location 0 is necessary to meet demand.\n",
      "establishing facility of level 0 at location 4 is necessary to meet demand.\n"
     ]
    }
   ],
   "source": [
    "#Report\n",
    "#m.report() highs report gives error (it is fixed in the next version)\n",
    "m.inf()\n",
    "m.dis_obj()\n",
    "m.dis_status()\n",
    "m.dis_time()\n",
    "\n",
    "#Display\n",
    "for i,j in sets(I,I):\n",
    "    if m.get(x[i,j])>0:\n",
    "        print(f\" transporting {m.get(x[i,j])} units from location {i} to {j} is necessary to meet demand.\")\n",
    "\n",
    "for i,lv in sets(I,L):\n",
    "    if m.get(y[i,lv])>0:\n",
    "        print(f\"establishing facility of level {lv} at location {i} is necessary to meet demand.\")"
   ]
  }
 ],
 "metadata": {
  "kernelspec": {
   "display_name": "Python 3",
   "language": "python",
   "name": "python3"
  },
  "language_info": {
   "codemirror_mode": {
    "name": "ipython",
    "version": 3
   },
   "file_extension": ".py",
   "mimetype": "text/x-python",
   "name": "python",
   "nbconvert_exporter": "python",
   "pygments_lexer": "ipython3",
   "version": "3.10.0"
  },
  "orig_nbformat": 4
 },
 "nbformat": 4,
 "nbformat_minor": 2
}
