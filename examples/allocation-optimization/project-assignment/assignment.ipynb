{
 "cells": [
  {
   "attachments": {},
   "cell_type": "markdown",
   "metadata": {},
   "source": [
    "![dpp](./img/examples.png)"
   ]
  },
  {
   "attachments": {},
   "cell_type": "markdown",
   "metadata": {},
   "source": [
    "# Assignment Problem"
   ]
  },
  {
   "attachments": {},
   "cell_type": "markdown",
   "metadata": {},
   "source": [
    "--------------------\n",
    "* Developed by _Keivan Tafakkori_\n",
    "* Date: 18-4-2023\n",
    "* Contact: https://www.linkedin.com/in/keivan-tafakkori/\n",
    "* GitHub: https://github.com/ktafakkori\n",
    "--------------------"
   ]
  },
  {
   "attachments": {},
   "cell_type": "markdown",
   "metadata": {},
   "source": [
    "### 1 | Assignment problem"
   ]
  },
  {
   "attachments": {},
   "cell_type": "markdown",
   "metadata": {},
   "source": [
    "### Packages"
   ]
  },
  {
   "cell_type": "code",
   "execution_count": 36,
   "metadata": {},
   "outputs": [],
   "source": [
    "from feloopy import *"
   ]
  },
  {
   "attachments": {},
   "cell_type": "markdown",
   "metadata": {},
   "source": [
    "### Setting"
   ]
  },
  {
   "cell_type": "code",
   "execution_count": 37,
   "metadata": {},
   "outputs": [],
   "source": [
    "problem_name = 'ap'\n",
    "solution_method = 'exact'\n",
    "interface = 'pulp'\n",
    "solver = 'cplex'\n",
    "key = 0"
   ]
  },
  {
   "attachments": {},
   "cell_type": "markdown",
   "metadata": {},
   "source": [
    "### Model"
   ]
  },
  {
   "cell_type": "code",
   "execution_count": 38,
   "metadata": {},
   "outputs": [],
   "source": [
    "#Environment\n",
    "m = target_model(solution_method, problem_name, interface, key=key)\n",
    "\n",
    "#Dataset\n",
    "c = [[7, 3, 1],\n",
    "     [2, 9, 5],  # Cost matrix for agent-task assignment\n",
    "     [6, 8, 4]]\n",
    "c = np.array(c)\n",
    "\n",
    "#Sets\n",
    "I = m.set(3)  # Agents\n",
    "J = m.set(3)  # Tasks\n",
    "\n",
    "#Variables\n",
    "x = m.bvar('x', [I, J])\n",
    "\n",
    "#Objective\n",
    "m.obj(sum(c[i, j]*x[i, j] for i, j in sets(I, J)))\n",
    "\n",
    "#Constraints\n",
    "for i in I:\n",
    "    m.con(sum(x[i, j] for j in J) == 1)\n",
    "\n",
    "for j in J:\n",
    "    m.con(sum(x[i, j] for i in I) == 1)\n",
    "    \n",
    "#Solve\n",
    "m.sol(['min'], solver)"
   ]
  },
  {
   "attachments": {},
   "cell_type": "markdown",
   "metadata": {},
   "source": [
    "### Result"
   ]
  },
  {
   "cell_type": "code",
   "execution_count": 39,
   "metadata": {},
   "outputs": [
    {
     "name": "stdout",
     "output_type": "stream",
     "text": [
      "\n",
      "~~~~~~~~~~~~~~\n",
      "FELOOPY v0.2.4\n",
      "~~~~~~~~~~~~~~\n",
      "\n",
      "~~~~~~~~~~~\n",
      "DATE & TIME\n",
      "~~~~~~~~~~~\n",
      "2023-04-19 01:17:57\n",
      "Wed, Apr 19, 2023\n",
      "\n",
      "~~~~~~~~~~~~\n",
      "PROBLEM INFO\n",
      "~~~~~~~~~~~~\n",
      "| info      | detail   | variable   | count [cat,tot]   | other      | count [cat,tot]    |\n",
      "|-----------|----------|------------|-------------------|------------|--------------------|\n",
      "| model     | ap       | positive   | [0, 0]            | objective  | [1, 1]             |\n",
      "| interface | pulp     | binary     | [1, 9]            | constraint | [1, 6]             |\n",
      "| solver    | cplex    | integer    | [0, 0]            |            |                    |\n",
      "| direction | ['min']  | free       | [0, 0]            |            |                    |\n",
      "| method    | exact    | tot        | [1, 9]            |            |                    |\n",
      "~~~~~~~~~~~~\n",
      "\n",
      "~~~~~~~~~~\n",
      "SOLVE INFO\n",
      "~~~~~~~~~~\n",
      "status:  Optimal\n",
      "objective:  9.0\n",
      "cpu time [pulp]:  34839.20000007856 (microseconds) 00:00:00 (h, m, s)\n",
      "~~~~~~~~~~~\n",
      "\n",
      "~~~~~~~~~~\n",
      "MODEL INFO\n",
      "~~~~~~~~~~\n",
      "name: ap\n",
      "objective: min 7*x(0,_0) + 3*x(0,_1) + x(0,_2) + 2*x(1,_0) + 9*x(1,_1) + 5*x(1,_2) + 6*x(2,_0) + 8*x(2,_1) + 4*x(2,_2)\n",
      "subject to:\n",
      "constraint 0: x(0,_0) + x(0,_1) + x(0,_2) = 1\n",
      "constraint 1: x(1,_0) + x(1,_1) + x(1,_2) = 1\n",
      "constraint 2: x(2,_0) + x(2,_1) + x(2,_2) = 1\n",
      "constraint 3: x(0,_0) + x(1,_0) + x(2,_0) = 1\n",
      "constraint 4: x(0,_1) + x(1,_1) + x(2,_1) = 1\n",
      "constraint 5: x(0,_2) + x(1,_2) + x(2,_2) = 1\n",
      "~~~~~~~~~~\n",
      "\n",
      "agent 0 is assigned to job 1\n",
      "agent 1 is assigned to job 0\n",
      "agent 2 is assigned to job 2\n"
     ]
    }
   ],
   "source": [
    "#Report\n",
    "m.report()\n",
    "\n",
    "#Display\n",
    "for i, j in sets(I, J):\n",
    "    if m.get(x[i, j]) == 1:\n",
    "        print(f\"agent {i} is assigned to job {j}\")"
   ]
  },
  {
   "attachments": {},
   "cell_type": "markdown",
   "metadata": {},
   "source": [
    "### 2 | Quadratic assignment problem"
   ]
  },
  {
   "attachments": {},
   "cell_type": "markdown",
   "metadata": {},
   "source": [
    "### Setting"
   ]
  },
  {
   "cell_type": "code",
   "execution_count": 40,
   "metadata": {},
   "outputs": [],
   "source": [
    "problem_name = 'qap'\n",
    "solution_method = 'exact'\n",
    "interface = 'pyomo'\n",
    "solver = 'gurobi'\n",
    "key = 0"
   ]
  },
  {
   "attachments": {},
   "cell_type": "markdown",
   "metadata": {},
   "source": [
    "### Model"
   ]
  },
  {
   "cell_type": "code",
   "execution_count": 41,
   "metadata": {},
   "outputs": [],
   "source": [
    "#Environment\n",
    "m = target_model(solution_method, problem_name, interface, key=key)\n",
    "\n",
    "#Dataset\n",
    "w = [[0, 3, 0, 2],\n",
    "     [3, 0, 0, 1],  # Flow matrix (between assignees)\n",
    "     [0, 0, 0, 4],\n",
    "     [2, 1, 4, 0]]\n",
    "\n",
    "w = np.array(w)\n",
    "\n",
    "d = [[0, 22, 53, 53],\n",
    "     [22, 0, 40, 62],  # Distance matrix (between assignments)\n",
    "     [53, 40, 0, 55],\n",
    "     [53, 62, 55, 0]]\n",
    "\n",
    "d = np.array(d)\n",
    "\n",
    "#Sets\n",
    "I = m.set(m.card(w))  # Set of assignees\n",
    "K = I\n",
    "\n",
    "J = m.set(m.card(w[0]))  # Set of assignments\n",
    "L = J\n",
    "\n",
    "a = {(i, j, k, l): w[i, k]*d[j, l] for i, j, k, l in sets(I, J, K, L)}  # Relative cost matrix\n",
    "\n",
    "#Variables\n",
    "x = m.bvar('x', [I, J])\n",
    "\n",
    "#Objective\n",
    "m.obj(sum(a[i, j, k, l]*x[i, j]*x[k, l] for i, j, k, l in sets(I, J, K, L)))\n",
    "\n",
    "#Constraints\n",
    "for j in J:\n",
    "    m.con(sum(x[i, j] for i in I if i !=j) == 1)\n",
    "\n",
    "for i in I:\n",
    "    m.con(sum(x[i, j] for j in J if j!=i) == 1)\n",
    "\n",
    "#Solve\n",
    "m.sol(['min'], solver)"
   ]
  },
  {
   "attachments": {},
   "cell_type": "markdown",
   "metadata": {},
   "source": [
    "### Result"
   ]
  },
  {
   "cell_type": "code",
   "execution_count": 42,
   "metadata": {},
   "outputs": [
    {
     "name": "stdout",
     "output_type": "stream",
     "text": [
      "\n",
      "~~~~~~~~~~~~~~\n",
      "FELOOPY v0.2.4\n",
      "~~~~~~~~~~~~~~\n",
      "\n",
      "~~~~~~~~~~~\n",
      "DATE & TIME\n",
      "~~~~~~~~~~~\n",
      "2023-04-19 01:17:58\n",
      "Wed, Apr 19, 2023\n",
      "\n",
      "~~~~~~~~~~~~\n",
      "PROBLEM INFO\n",
      "~~~~~~~~~~~~\n",
      "| info      | detail   | variable   | count [cat,tot]   | other      | count [cat,tot]    |\n",
      "|-----------|----------|------------|-------------------|------------|--------------------|\n",
      "| model     | qap      | positive   | [0, 0]            | objective  | [1, 1]             |\n",
      "| interface | pyomo    | binary     | [1, 16]           | constraint | [1, 8]             |\n",
      "| solver    | gurobi   | integer    | [0, 0]            |            |                    |\n",
      "| direction | ['min']  | free       | [0, 0]            |            |                    |\n",
      "| method    | exact    | tot        | [1, 16]           |            |                    |\n",
      "~~~~~~~~~~~~\n",
      "\n",
      "~~~~~~~~~~\n",
      "SOLVE INFO\n",
      "~~~~~~~~~~\n",
      "status:  optimal\n",
      "objective:  790.0\n",
      "cpu time [pyomo]:  143601.80000005584 (microseconds) 00:00:00 (h, m, s)\n",
      "~~~~~~~~~~~\n",
      "\n",
      "~~~~~~~~~~\n",
      "MODEL INFO\n",
      "~~~~~~~~~~\n",
      "name: qap\n",
      "objective: min 66*x[0,0]*x[1,1] + 159*x[0,0]*x[1,2] + 159*x[0,0]*x[1,3] + 44*x[0,0]*x[3,1] + 106*x[0,0]*x[3,2] + 106*x[0,0]*x[3,3] + 66*x[0,1]*x[1,0] + 120*x[0,1]*x[1,2] + 186*x[0,1]*x[1,3] + 44*x[0,1]*x[3,0] + 80*x[0,1]*x[3,2] + 124*x[0,1]*x[3,3] + 159*x[0,2]*x[1,0] + 120*x[0,2]*x[1,1] + 165*x[0,2]*x[1,3] + 106*x[0,2]*x[3,0] + 80*x[0,2]*x[3,1] + 110*x[0,2]*x[3,3] + 159*x[0,3]*x[1,0] + 186*x[0,3]*x[1,1] + 165*x[0,3]*x[1,2] + 106*x[0,3]*x[3,0] + 124*x[0,3]*x[3,1] + 110*x[0,3]*x[3,2] + 66*x[1,0]*x[0,1] + 159*x[1,0]*x[0,2] + 159*x[1,0]*x[0,3] + 22*x[1,0]*x[3,1] + 53*x[1,0]*x[3,2] + 53*x[1,0]*x[3,3] + 66*x[1,1]*x[0,0] + 120*x[1,1]*x[0,2] + 186*x[1,1]*x[0,3] + 22*x[1,1]*x[3,0] + 40*x[1,1]*x[3,2] + 62*x[1,1]*x[3,3] + 159*x[1,2]*x[0,0] + 120*x[1,2]*x[0,1] + 165*x[1,2]*x[0,3] + 53*x[1,2]*x[3,0] + 40*x[1,2]*x[3,1] + 55*x[1,2]*x[3,3] + 159*x[1,3]*x[0,0] + 186*x[1,3]*x[0,1] + 165*x[1,3]*x[0,2] + 53*x[1,3]*x[3,0] + 62*x[1,3]*x[3,1] + 55*x[1,3]*x[3,2] + 88*x[2,0]*x[3,1] + 212*x[2,0]*x[3,2] + 212*x[2,0]*x[3,3] + 88*x[2,1]*x[3,0] + 160*x[2,1]*x[3,2] + 248*x[2,1]*x[3,3] + 212*x[2,2]*x[3,0] + 160*x[2,2]*x[3,1] + 220*x[2,2]*x[3,3] + 212*x[2,3]*x[3,0] + 248*x[2,3]*x[3,1] + 220*x[2,3]*x[3,2] + 44*x[3,0]*x[0,1] + 106*x[3,0]*x[0,2] + 106*x[3,0]*x[0,3] + 22*x[3,0]*x[1,1] + 53*x[3,0]*x[1,2] + 53*x[3,0]*x[1,3] + 88*x[3,0]*x[2,1] + 212*x[3,0]*x[2,2] + 212*x[3,0]*x[2,3] + 44*x[3,1]*x[0,0] + 80*x[3,1]*x[0,2] + 124*x[3,1]*x[0,3] + 22*x[3,1]*x[1,0] + 40*x[3,1]*x[1,2] + 62*x[3,1]*x[1,3] + 88*x[3,1]*x[2,0] + 160*x[3,1]*x[2,2] + 248*x[3,1]*x[2,3] + 106*x[3,2]*x[0,0] + 80*x[3,2]*x[0,1] + 110*x[3,2]*x[0,3] + 53*x[3,2]*x[1,0] + 40*x[3,2]*x[1,1] + 55*x[3,2]*x[1,3] + 212*x[3,2]*x[2,0] + 160*x[3,2]*x[2,1] + 220*x[3,2]*x[2,3] + 106*x[3,3]*x[0,0] + 124*x[3,3]*x[0,1] + 110*x[3,3]*x[0,2] + 53*x[3,3]*x[1,0] + 62*x[3,3]*x[1,1] + 55*x[3,3]*x[1,2] + 212*x[3,3]*x[2,0] + 248*x[3,3]*x[2,1] + 220*x[3,3]*x[2,2]\n",
      "subject to:\n",
      "constraint 0: x[1,0] + x[2,0] + x[3,0]  ==  1\n",
      "constraint 1: x[0,1] + x[2,1] + x[3,1]  ==  1\n",
      "constraint 2: x[0,2] + x[1,2] + x[3,2]  ==  1\n",
      "constraint 3: x[0,3] + x[1,3] + x[2,3]  ==  1\n",
      "constraint 4: x[0,1] + x[0,2] + x[0,3]  ==  1\n",
      "constraint 5: x[1,0] + x[1,2] + x[1,3]  ==  1\n",
      "constraint 6: x[2,0] + x[2,1] + x[2,3]  ==  1\n",
      "constraint 7: x[3,0] + x[3,1] + x[3,2]  ==  1\n",
      "~~~~~~~~~~\n",
      "\n",
      "agent 0 is assigned to job 2\n",
      "agent 1 is assigned to job 3\n",
      "agent 2 is assigned to job 0\n",
      "agent 3 is assigned to job 1\n"
     ]
    }
   ],
   "source": [
    "#Report\n",
    "m.report()\n",
    "\n",
    "#Display\n",
    "for i, j in sets(I, J):\n",
    "    if m.get(x[i, j]) == 1:\n",
    "        print(f\"agent {i} is assigned to job {j}\")"
   ]
  }
 ],
 "metadata": {
  "kernelspec": {
   "display_name": "Python 3",
   "language": "python",
   "name": "python3"
  },
  "language_info": {
   "codemirror_mode": {
    "name": "ipython",
    "version": 3
   },
   "file_extension": ".py",
   "mimetype": "text/x-python",
   "name": "python",
   "nbconvert_exporter": "python",
   "pygments_lexer": "ipython3",
   "version": "3.10.0"
  },
  "orig_nbformat": 4
 },
 "nbformat": 4,
 "nbformat_minor": 2
}
