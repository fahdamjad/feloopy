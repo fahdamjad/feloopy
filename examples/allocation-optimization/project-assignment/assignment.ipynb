{
 "cells": [
  {
   "attachments": {},
   "cell_type": "markdown",
   "metadata": {},
   "source": [
    "![dpp](./img/examples.png)"
   ]
  },
  {
   "attachments": {},
   "cell_type": "markdown",
   "metadata": {},
   "source": [
    "# Assignment Problem"
   ]
  },
  {
   "attachments": {},
   "cell_type": "markdown",
   "metadata": {},
   "source": [
    "--------------------\n",
    "* Developed by _Keivan Tafakkori_\n",
    "* Date: 18-4-2023\n",
    "* Contact: https://www.linkedin.com/in/keivan-tafakkori/\n",
    "* GitHub: https://github.com/ktafakkori\n",
    "--------------------"
   ]
  },
  {
   "attachments": {},
   "cell_type": "markdown",
   "metadata": {},
   "source": [
    "### 1 | Assignment problem"
   ]
  },
  {
   "attachments": {},
   "cell_type": "markdown",
   "metadata": {},
   "source": [
    "### Packages"
   ]
  },
  {
   "cell_type": "code",
   "execution_count": 1,
   "metadata": {},
   "outputs": [],
   "source": [
    "from feloopy import *"
   ]
  },
  {
   "attachments": {},
   "cell_type": "markdown",
   "metadata": {},
   "source": [
    "### Setting"
   ]
  },
  {
   "cell_type": "code",
   "execution_count": 2,
   "metadata": {},
   "outputs": [],
   "source": [
    "problem_name = 'ap'\n",
    "solution_method = 'exact'\n",
    "interface = 'pulp'\n",
    "solver = 'cplex'\n",
    "key = 0"
   ]
  },
  {
   "attachments": {},
   "cell_type": "markdown",
   "metadata": {},
   "source": [
    "### Model"
   ]
  },
  {
   "cell_type": "code",
   "execution_count": 3,
   "metadata": {},
   "outputs": [
    {
     "name": "stdout",
     "output_type": "stream",
     "text": [
      "Restricted license - for non-production use only - expires 2024-10-28\n"
     ]
    }
   ],
   "source": [
    "#Environment\n",
    "m = target_model(solution_method, problem_name, interface, key=key)\n",
    "\n",
    "#Dataset\n",
    "c = [[7, 3, 1],\n",
    "     [2, 9, 5],  # Cost matrix for agent-task assignment\n",
    "     [6, 8, 4]]\n",
    "c = np.array(c)\n",
    "\n",
    "#Sets\n",
    "I = m.set(3)  # Agents\n",
    "J = m.set(3)  # Tasks\n",
    "\n",
    "#Variables\n",
    "x = m.bvar('x', [I, J])\n",
    "\n",
    "#Objective\n",
    "m.obj(sum(c[i, j]*x[i, j] for i, j in sets(I, J)))\n",
    "\n",
    "#Constraints\n",
    "for i in I:\n",
    "    m.con(sum(x[i, j] for j in J) == 1)\n",
    "\n",
    "for j in J:\n",
    "    m.con(sum(x[i, j] for i in I) == 1)\n",
    "    \n",
    "#Solve\n",
    "m.sol(['min'], solver)"
   ]
  },
  {
   "attachments": {},
   "cell_type": "markdown",
   "metadata": {},
   "source": [
    "### Result"
   ]
  },
  {
   "cell_type": "code",
   "execution_count": 4,
   "metadata": {},
   "outputs": [
    {
     "name": "stdout",
     "output_type": "stream",
     "text": [
      "\n",
      "+--------------------------------------------------------------------------------+\n",
      "|                                 FelooPy v0.2.5                                 |\n",
      "+--------------------------------------------------------------------------------+\n",
      "| Date: 2023-06-07                                                Time: 19:14:38 |\n",
      "| Interface: pulp                                                  Solver: cplex |\n",
      "+--------------------------------------------------------------------------------+\n",
      "|                               Model Information                                |\n",
      "+--------------------------------------------------------------------------------+\n",
      "|                              The 'ap' model has:                               |\n",
      "|                      9 binary variable(s) in 1 class(es).                      |\n",
      "|                                1 objective(s).                                 |\n",
      "|                        6 constraint(s) in 1 class(es).                         |\n",
      "|                 Total number of variables is 9 in 1 class(es).                 |\n",
      "+--------------------------------------------------------------------------------+\n",
      "|                               Solve Information                                |\n",
      "+--------------------------------------------------------------------------------+\n",
      "| Method: exact                                               Objective Value(s) |\n",
      "| Status:                                                                    min |\n",
      "| Optimal                                                                   9.00 |\n",
      "+--------------------------------------------------------------------------------+\n",
      "|                               Metric Information                               |\n",
      "+--------------------------------------------------------------------------------+\n",
      "| CPT   (microseconds):  2.86e+04                                                |\n",
      "| CPT   (hour:min:sec):  00:00:00                                                |\n",
      "+--------------------------------------------------------------------------------+\n",
      "|                              Decision Information                              |\n",
      "+--------------------------------------------------------------------------------+\n",
      "| x[0, 1] = 1.0                                                                  |\n",
      "| x[1, 0] = 1.0                                                                  |\n",
      "| x[2, 2] = 1.0                                                                  |\n",
      "+--------------------------------------------------------------------------------+\n"
     ]
    }
   ],
   "source": [
    "#Report\n",
    "m.report()"
   ]
  },
  {
   "attachments": {},
   "cell_type": "markdown",
   "metadata": {},
   "source": [
    "### 2 | Quadratic assignment problem"
   ]
  },
  {
   "attachments": {},
   "cell_type": "markdown",
   "metadata": {},
   "source": [
    "### Setting"
   ]
  },
  {
   "cell_type": "code",
   "execution_count": 5,
   "metadata": {},
   "outputs": [],
   "source": [
    "problem_name = 'qap'\n",
    "solution_method = 'exact'\n",
    "interface = 'pyomo'\n",
    "solver = 'gurobi'\n",
    "key = 0"
   ]
  },
  {
   "attachments": {},
   "cell_type": "markdown",
   "metadata": {},
   "source": [
    "### Model"
   ]
  },
  {
   "cell_type": "code",
   "execution_count": 6,
   "metadata": {},
   "outputs": [],
   "source": [
    "#Environment\n",
    "m = target_model(solution_method, problem_name, interface, key=key)\n",
    "\n",
    "#Dataset\n",
    "w = [[0, 3, 0, 2],\n",
    "     [3, 0, 0, 1],  # Flow matrix (between assignees)\n",
    "     [0, 0, 0, 4],\n",
    "     [2, 1, 4, 0]]\n",
    "\n",
    "w = np.array(w)\n",
    "\n",
    "d = [[0, 22, 53, 53],\n",
    "     [22, 0, 40, 62],  # Distance matrix (between assignments)\n",
    "     [53, 40, 0, 55],\n",
    "     [53, 62, 55, 0]]\n",
    "\n",
    "d = np.array(d)\n",
    "\n",
    "#Sets\n",
    "I = m.set(m.card(w))  # Set of assignees\n",
    "K = I\n",
    "\n",
    "J = m.set(m.card(w[0]))  # Set of assignments\n",
    "L = J\n",
    "\n",
    "a = {(i, j, k, l): w[i, k]*d[j, l] for i, j, k, l in sets(I, J, K, L)}  # Relative cost matrix\n",
    "\n",
    "#Variables\n",
    "x = m.bvar('x', [I, J])\n",
    "\n",
    "#Objective\n",
    "m.obj(sum(a[i, j, k, l]*x[i, j]*x[k, l] for i, j, k, l in sets(I, J, K, L)))\n",
    "\n",
    "#Constraints\n",
    "for j in J:\n",
    "    m.con(sum(x[i, j] for i in I if i !=j) == 1)\n",
    "\n",
    "for i in I:\n",
    "    m.con(sum(x[i, j] for j in J if j!=i) == 1)\n",
    "\n",
    "#Solve\n",
    "m.sol(['min'], solver)"
   ]
  },
  {
   "attachments": {},
   "cell_type": "markdown",
   "metadata": {},
   "source": [
    "### Result"
   ]
  },
  {
   "cell_type": "code",
   "execution_count": 7,
   "metadata": {},
   "outputs": [
    {
     "name": "stdout",
     "output_type": "stream",
     "text": [
      "\n",
      "+--------------------------------------------------------------------------------+\n",
      "|                                 FelooPy v0.2.5                                 |\n",
      "+--------------------------------------------------------------------------------+\n",
      "| Date: 2023-06-07                                                Time: 19:14:39 |\n",
      "| Interface: pyomo                                                Solver: gurobi |\n",
      "+--------------------------------------------------------------------------------+\n",
      "|                               Model Information                                |\n",
      "+--------------------------------------------------------------------------------+\n",
      "|                              The 'qap' model has:                              |\n",
      "|                     16 binary variable(s) in 1 class(es).                      |\n",
      "|                                1 objective(s).                                 |\n",
      "|                        8 constraint(s) in 1 class(es).                         |\n",
      "|                Total number of variables is 16 in 1 class(es).                 |\n",
      "+--------------------------------------------------------------------------------+\n",
      "|                               Solve Information                                |\n",
      "+--------------------------------------------------------------------------------+\n",
      "| Method: exact                                               Objective Value(s) |\n",
      "| Status:                                                                    min |\n",
      "| optimal                                                                 790.00 |\n",
      "+--------------------------------------------------------------------------------+\n",
      "|                               Metric Information                               |\n",
      "+--------------------------------------------------------------------------------+\n",
      "| CPT   (microseconds):  2.09e+05                                                |\n",
      "| CPT   (hour:min:sec):  00:00:00                                                |\n",
      "+--------------------------------------------------------------------------------+\n",
      "|                              Decision Information                              |\n",
      "+--------------------------------------------------------------------------------+\n",
      "| x[0, 2] = 1.0                                                                  |\n",
      "| x[1, 3] = 1.0                                                                  |\n",
      "| x[2, 0] = 1.0                                                                  |\n",
      "| x[3, 1] = 1.0                                                                  |\n",
      "+--------------------------------------------------------------------------------+\n"
     ]
    }
   ],
   "source": [
    "#Report\n",
    "m.report()"
   ]
  }
 ],
 "metadata": {
  "kernelspec": {
   "display_name": "Python 3",
   "language": "python",
   "name": "python3"
  },
  "language_info": {
   "codemirror_mode": {
    "name": "ipython",
    "version": 3
   },
   "file_extension": ".py",
   "mimetype": "text/x-python",
   "name": "python",
   "nbconvert_exporter": "python",
   "pygments_lexer": "ipython3",
   "version": "3.10.9"
  },
  "orig_nbformat": 4
 },
 "nbformat": 4,
 "nbformat_minor": 2
}
