{
 "cells": [
  {
   "attachments": {},
   "cell_type": "markdown",
   "metadata": {},
   "source": [
    "![dpp](./img/examples.png)"
   ]
  },
  {
   "attachments": {},
   "cell_type": "markdown",
   "metadata": {},
   "source": [
    "# Single Facility Location Problem"
   ]
  },
  {
   "attachments": {},
   "cell_type": "markdown",
   "metadata": {},
   "source": [
    "--------------------\n",
    "* Developed by _Keivan Tafakkori_\n",
    "* Date: 17-4-2023\n",
    "* Contact: https://www.linkedin.com/in/keivan-tafakkori/\n",
    "* GitHub: https://github.com/ktafakkori\n",
    "--------------------"
   ]
  },
  {
   "attachments": {},
   "cell_type": "markdown",
   "metadata": {},
   "source": [
    "### Packages"
   ]
  },
  {
   "cell_type": "code",
   "execution_count": 1,
   "metadata": {},
   "outputs": [],
   "source": [
    "from feloopy import *"
   ]
  },
  {
   "attachments": {},
   "cell_type": "markdown",
   "metadata": {},
   "source": [
    "### 1 | Rectangular distance "
   ]
  },
  {
   "attachments": {},
   "cell_type": "markdown",
   "metadata": {},
   "source": [
    "### Setting"
   ]
  },
  {
   "cell_type": "code",
   "execution_count": 2,
   "metadata": {},
   "outputs": [],
   "source": [
    "problem_name = 'sflp'\n",
    "solution_method = 'heuristic'\n",
    "interface = 'feloopy'\n",
    "solver = 'ga'"
   ]
  },
  {
   "attachments": {},
   "cell_type": "markdown",
   "metadata": {},
   "source": [
    "### Model"
   ]
  },
  {
   "cell_type": "code",
   "execution_count": 3,
   "metadata": {},
   "outputs": [],
   "source": [
    "def instance(X):\n",
    "\n",
    "    # Environment\n",
    "    m = representor_model(solution_method, problem_name, interface, X)\n",
    "\n",
    "    # Dataset\n",
    "    coords = np.array([[0, 0], [3, 16], [18, 2], [8, 18], [20, 2]])\n",
    "    w = np.array([5, 22, 41, 60, 34])\n",
    "\n",
    "    # Sets\n",
    "    I = m.set(len(coords)) \n",
    "    J = m.set(2)  \n",
    "\n",
    "    # Variables\n",
    "    x = m.pvar('x', [J], [0, 100])\n",
    "\n",
    "    # Objective\n",
    "    m.obj(sum(w[i] * ((x[:, 0] - coords[i][0])**2)**0.5 for i in I) +\n",
    "          sum(w[i] * ((x[:, 1] - coords[i][1])**2)**0.5 for i in I))\n",
    "\n",
    "    # Solve\n",
    "    m.sol(['min'], solver)\n",
    "\n",
    "    return m[X]\n",
    "\n",
    "m = implement(instance)\n",
    "m.sol()"
   ]
  },
  {
   "attachments": {},
   "cell_type": "markdown",
   "metadata": {},
   "source": [
    "### Result"
   ]
  },
  {
   "cell_type": "code",
   "execution_count": 4,
   "metadata": {},
   "outputs": [
    {
     "name": "stdout",
     "output_type": "stream",
     "text": [
      "\n",
      "+--------------------------------------------------------------------------------+\n",
      "|                                 FelooPy v0.2.5                                 |\n",
      "+--------------------------------------------------------------------------------+\n",
      "| Date: 2023-06-05                                                Time: 18:22:31 |\n",
      "| Interface: feloopy                                                  Solver: ga |\n",
      "+--------------------------------------------------------------------------------+\n",
      "|                               Model Information                                |\n",
      "+--------------------------------------------------------------------------------+\n",
      "|                             The 'sflp' model has:                              |\n",
      "|                     2 positive variable(s) in 1 class(es).                     |\n",
      "|                                1 objective(s).                                 |\n",
      "|                 Total number of variables is 2 in 1 class(es).                 |\n",
      "+--------------------------------------------------------------------------------+\n",
      "|                               Solve Information                                |\n",
      "+--------------------------------------------------------------------------------+\n",
      "| Method: heuristic                                           Objective Value(s) |\n",
      "| Status:                                                                    min |\n",
      "| feasible (unconstrained)                                               2218.00 |\n",
      "+--------------------------------------------------------------------------------+\n",
      "|                               Metric Information                               |\n",
      "+--------------------------------------------------------------------------------+\n",
      "| CPT   (microseconds):  3.04e+05                                                |\n",
      "| CPT   (hour:min:sec):  00:00:00                                                |\n",
      "+--------------------------------------------------------------------------------+\n",
      "|                              Decision Information                              |\n",
      "+--------------------------------------------------------------------------------+\n",
      "| x[0] = 8.000025015403612                                                       |\n",
      "| x[1] = 15.999944842968073                                                      |\n",
      "+--------------------------------------------------------------------------------+\n"
     ]
    }
   ],
   "source": [
    "#Report\n",
    "m.report()"
   ]
  },
  {
   "attachments": {},
   "cell_type": "markdown",
   "metadata": {},
   "source": [
    "### 2 | Euclidean distance "
   ]
  },
  {
   "attachments": {},
   "cell_type": "markdown",
   "metadata": {},
   "source": [
    "### Setting"
   ]
  },
  {
   "cell_type": "code",
   "execution_count": 5,
   "metadata": {},
   "outputs": [],
   "source": [
    "problem_name = 'sflp'\n",
    "solution_method = 'heuristic'\n",
    "interface = 'feloopy'\n",
    "solver = 'ga'"
   ]
  },
  {
   "attachments": {},
   "cell_type": "markdown",
   "metadata": {},
   "source": [
    "### Model"
   ]
  },
  {
   "cell_type": "code",
   "execution_count": 6,
   "metadata": {},
   "outputs": [],
   "source": [
    "def instance(X):\n",
    "\n",
    "    # Environment\n",
    "    m = representor_model(solution_method, problem_name, interface, X)\n",
    "\n",
    "    # Dataset\n",
    "    coords = np.array([[0, 0], [3, 16], [18, 2], [8, 18], [20, 2]])\n",
    "    w = np.array([5, 22, 41, 60, 34])\n",
    "\n",
    "    # Sets\n",
    "    I = m.set(len(coords))\n",
    "    J = m.set(2)\n",
    "\n",
    "    # Variables\n",
    "    x = m.pvar('x', [J], [0, 100])\n",
    "\n",
    "    # Objective\n",
    "    m.obj(sum(w[i] * ((x[:, 0] - coords[i][0])**2 +\n",
    "          (x[:, 1] - coords[i][1])**2)**0.5 for i in I))\n",
    "\n",
    "    # Solve\n",
    "    m.sol(['min'], solver)\n",
    "\n",
    "    return m[X]\n",
    "\n",
    "\n",
    "m = implement(instance)\n",
    "m.sol()\n"
   ]
  },
  {
   "attachments": {},
   "cell_type": "markdown",
   "metadata": {},
   "source": [
    "### Result"
   ]
  },
  {
   "cell_type": "code",
   "execution_count": 7,
   "metadata": {},
   "outputs": [
    {
     "name": "stdout",
     "output_type": "stream",
     "text": [
      "\n",
      "+--------------------------------------------------------------------------------+\n",
      "|                                 FelooPy v0.2.5                                 |\n",
      "+--------------------------------------------------------------------------------+\n",
      "| Date: 2023-06-05                                                Time: 18:22:32 |\n",
      "| Interface: feloopy                                                  Solver: ga |\n",
      "+--------------------------------------------------------------------------------+\n",
      "|                               Model Information                                |\n",
      "+--------------------------------------------------------------------------------+\n",
      "|                             The 'sflp' model has:                              |\n",
      "|                     2 positive variable(s) in 1 class(es).                     |\n",
      "|                                1 objective(s).                                 |\n",
      "|                 Total number of variables is 2 in 1 class(es).                 |\n",
      "+--------------------------------------------------------------------------------+\n",
      "|                               Solve Information                                |\n",
      "+--------------------------------------------------------------------------------+\n",
      "| Method: heuristic                                           Objective Value(s) |\n",
      "| Status:                                                                    min |\n",
      "| feasible (unconstrained)                                               1635.33 |\n",
      "+--------------------------------------------------------------------------------+\n",
      "|                               Metric Information                               |\n",
      "+--------------------------------------------------------------------------------+\n",
      "| CPT   (microseconds):  1.82e+05                                                |\n",
      "| CPT   (hour:min:sec):  00:00:00                                                |\n",
      "+--------------------------------------------------------------------------------+\n",
      "|                              Decision Information                              |\n",
      "+--------------------------------------------------------------------------------+\n",
      "| x[0] = 9.869294631268929                                                       |\n",
      "| x[1] = 13.454564195638147                                                      |\n",
      "+--------------------------------------------------------------------------------+\n"
     ]
    }
   ],
   "source": [
    "#Report\n",
    "m.report()"
   ]
  },
  {
   "attachments": {},
   "cell_type": "markdown",
   "metadata": {},
   "source": [
    "### 3 | Squared Euclidean distance"
   ]
  },
  {
   "attachments": {},
   "cell_type": "markdown",
   "metadata": {},
   "source": [
    "### Setting"
   ]
  },
  {
   "cell_type": "code",
   "execution_count": 8,
   "metadata": {},
   "outputs": [],
   "source": [
    "problem_name = 'sflp'\n",
    "solution_method = 'heuristic'\n",
    "interface = 'feloopy'\n",
    "solver = 'ga'"
   ]
  },
  {
   "attachments": {},
   "cell_type": "markdown",
   "metadata": {},
   "source": [
    "### Model"
   ]
  },
  {
   "cell_type": "code",
   "execution_count": 9,
   "metadata": {},
   "outputs": [],
   "source": [
    "def instance(X):\n",
    "\n",
    "    # Environment\n",
    "    m = representor_model(solution_method, problem_name, interface, X)\n",
    "\n",
    "    # Dataset\n",
    "    coords = np.array([[0, 0], [3, 16], [18, 2], [8, 18], [20, 2]])\n",
    "    w = np.array([5, 22, 41, 60, 34])\n",
    "\n",
    "    # Sets\n",
    "    I = m.set(len(coords))\n",
    "    J = m.set(2)\n",
    "\n",
    "    # Variables\n",
    "    x = m.pvar('x', [J], [0, 100])\n",
    "\n",
    "    # Objective\n",
    "    m.obj(sum(w[i] * ((x[:, 0] - coords[i][0])**2) for i in I) +\n",
    "          sum(w[i] * ((x[:, 1] - coords[i][1])**2) for i in I))\n",
    "\n",
    "    # Solve\n",
    "    m.sol(['min'], solver)\n",
    "\n",
    "    return m[X]\n",
    "\n",
    "\n",
    "m = implement(instance)\n",
    "m.sol()\n"
   ]
  },
  {
   "attachments": {},
   "cell_type": "markdown",
   "metadata": {},
   "source": [
    "### Result"
   ]
  },
  {
   "cell_type": "code",
   "execution_count": 10,
   "metadata": {},
   "outputs": [
    {
     "name": "stdout",
     "output_type": "stream",
     "text": [
      "\n",
      "+--------------------------------------------------------------------------------+\n",
      "|                                 FelooPy v0.2.5                                 |\n",
      "+--------------------------------------------------------------------------------+\n",
      "| Date: 2023-06-05                                                Time: 18:22:33 |\n",
      "| Interface: feloopy                                                  Solver: ga |\n",
      "+--------------------------------------------------------------------------------+\n",
      "|                               Model Information                                |\n",
      "+--------------------------------------------------------------------------------+\n",
      "|                             The 'sflp' model has:                              |\n",
      "|                     2 positive variable(s) in 1 class(es).                     |\n",
      "|                                1 objective(s).                                 |\n",
      "|                 Total number of variables is 2 in 1 class(es).                 |\n",
      "+--------------------------------------------------------------------------------+\n",
      "|                               Solve Information                                |\n",
      "+--------------------------------------------------------------------------------+\n",
      "| Method: heuristic                                           Objective Value(s) |\n",
      "| Status:                                                                    min |\n",
      "| feasible (unconstrained)                                              1.70e+04 |\n",
      "+--------------------------------------------------------------------------------+\n",
      "|                               Metric Information                               |\n",
      "+--------------------------------------------------------------------------------+\n",
      "| CPT   (microseconds):  2.09e+05                                                |\n",
      "| CPT   (hour:min:sec):  00:00:00                                                |\n",
      "+--------------------------------------------------------------------------------+\n",
      "|                              Decision Information                              |\n",
      "+--------------------------------------------------------------------------------+\n",
      "| x[0] = 12.123456834835755                                                      |\n",
      "| x[1] = 9.765432316985095                                                       |\n",
      "+--------------------------------------------------------------------------------+\n"
     ]
    }
   ],
   "source": [
    "#Report\n",
    "m.report()"
   ]
  },
  {
   "attachments": {},
   "cell_type": "markdown",
   "metadata": {},
   "source": [
    "### 4 | Minkowski distance"
   ]
  },
  {
   "attachments": {},
   "cell_type": "markdown",
   "metadata": {},
   "source": [
    "### Setting"
   ]
  },
  {
   "cell_type": "code",
   "execution_count": 11,
   "metadata": {},
   "outputs": [],
   "source": [
    "problem_name = 'sflp'\n",
    "solution_method = 'heuristic'\n",
    "interface = 'feloopy'\n",
    "solver = 'ga'"
   ]
  },
  {
   "attachments": {},
   "cell_type": "markdown",
   "metadata": {},
   "source": [
    "### Model"
   ]
  },
  {
   "cell_type": "code",
   "execution_count": 12,
   "metadata": {},
   "outputs": [],
   "source": [
    "def instance(X):\n",
    "\n",
    "    # Environment\n",
    "    m = representor_model(solution_method, problem_name, interface, X)\n",
    "\n",
    "    # Dataset\n",
    "    coords = np.array([[0, 0], [3, 16], [18, 2], [8, 18], [20, 2]])\n",
    "    w = np.array([5, 22, 41, 60, 34])\n",
    "    p = 50\n",
    "\n",
    "    # Sets\n",
    "    I = m.set(len(coords)) \n",
    "    J = m.set(2)  \n",
    "\n",
    "    # Variables\n",
    "    x = m.pvar('x', [J], [0, 100])\n",
    "\n",
    "    # Objective\n",
    "    m.obj(sum( w[i] * ((x[:,0] - coords[i][0])**p + (x[:,1] - coords[i][1])**p )**(1/p) for i in I))\n",
    "\n",
    "    # Solve\n",
    "    m.sol(['min'], solver)\n",
    "\n",
    "    return m[X]\n",
    "\n",
    "m = implement(instance)\n",
    "m.sol()"
   ]
  },
  {
   "attachments": {},
   "cell_type": "markdown",
   "metadata": {},
   "source": [
    "### Result"
   ]
  },
  {
   "cell_type": "code",
   "execution_count": 13,
   "metadata": {},
   "outputs": [
    {
     "name": "stdout",
     "output_type": "stream",
     "text": [
      "\n",
      "+--------------------------------------------------------------------------------+\n",
      "|                                 FelooPy v0.2.5                                 |\n",
      "+--------------------------------------------------------------------------------+\n",
      "| Date: 2023-06-05                                                Time: 18:22:34 |\n",
      "| Interface: feloopy                                                  Solver: ga |\n",
      "+--------------------------------------------------------------------------------+\n",
      "|                               Model Information                                |\n",
      "+--------------------------------------------------------------------------------+\n",
      "|                             The 'sflp' model has:                              |\n",
      "|                     2 positive variable(s) in 1 class(es).                     |\n",
      "|                                1 objective(s).                                 |\n",
      "|                 Total number of variables is 2 in 1 class(es).                 |\n",
      "+--------------------------------------------------------------------------------+\n",
      "|                               Solve Information                                |\n",
      "+--------------------------------------------------------------------------------+\n",
      "| Method: heuristic                                           Objective Value(s) |\n",
      "| Status:                                                                    min |\n",
      "| feasible (unconstrained)                                               1323.68 |\n",
      "+--------------------------------------------------------------------------------+\n",
      "|                               Metric Information                               |\n",
      "+--------------------------------------------------------------------------------+\n",
      "| CPT   (microseconds):  1.98e+05                                                |\n",
      "| CPT   (hour:min:sec):  00:00:00                                                |\n",
      "+--------------------------------------------------------------------------------+\n",
      "|                              Decision Information                              |\n",
      "+--------------------------------------------------------------------------------+\n",
      "| x[0] = 6.476445059692517                                                       |\n",
      "| x[1] = 15.59388758461622                                                       |\n",
      "+--------------------------------------------------------------------------------+\n"
     ]
    }
   ],
   "source": [
    "#Report\n",
    "m.report()"
   ]
  }
 ],
 "metadata": {
  "kernelspec": {
   "display_name": "Python 3",
   "language": "python",
   "name": "python3"
  },
  "language_info": {
   "codemirror_mode": {
    "name": "ipython",
    "version": 3
   },
   "file_extension": ".py",
   "mimetype": "text/x-python",
   "name": "python",
   "nbconvert_exporter": "python",
   "pygments_lexer": "ipython3",
   "version": "3.10.9"
  },
  "orig_nbformat": 4
 },
 "nbformat": 4,
 "nbformat_minor": 2
}
