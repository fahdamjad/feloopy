{
 "cells": [
  {
   "attachments": {},
   "cell_type": "markdown",
   "metadata": {},
   "source": [
    "![dpp](./../../../miscellaneous/logo/examples.png/)"
   ]
  },
  {
   "attachments": {},
   "cell_type": "markdown",
   "metadata": {},
   "source": [
    "# Single Facility Location Problem"
   ]
  },
  {
   "attachments": {},
   "cell_type": "markdown",
   "metadata": {},
   "source": [
    "--------------------\n",
    "* Developed by _Keivan Tafakkori_\n",
    "* Date: 17-4-2023\n",
    "* Contact: https://www.linkedin.com/in/keivan-tafakkori/\n",
    "* GitHub: https://github.com/ktafakkori\n",
    "--------------------"
   ]
  },
  {
   "attachments": {},
   "cell_type": "markdown",
   "metadata": {},
   "source": [
    "### Packages"
   ]
  },
  {
   "cell_type": "code",
   "execution_count": 1,
   "metadata": {},
   "outputs": [],
   "source": [
    "from feloopy import *"
   ]
  },
  {
   "attachments": {},
   "cell_type": "markdown",
   "metadata": {},
   "source": [
    "### 1 | Rectangular distance "
   ]
  },
  {
   "attachments": {},
   "cell_type": "markdown",
   "metadata": {},
   "source": [
    "### Setting"
   ]
  },
  {
   "cell_type": "code",
   "execution_count": 2,
   "metadata": {},
   "outputs": [],
   "source": [
    "problem_name = 'sflp'\n",
    "solution_method = 'heuristic'\n",
    "interface = 'feloopy'\n",
    "solver = 'GA'"
   ]
  },
  {
   "attachments": {},
   "cell_type": "markdown",
   "metadata": {},
   "source": [
    "### Model"
   ]
  },
  {
   "cell_type": "code",
   "execution_count": 3,
   "metadata": {},
   "outputs": [],
   "source": [
    "def instance(X):\n",
    "\n",
    "    # Environment\n",
    "    m = representor_model(solution_method, problem_name, interface, X)\n",
    "\n",
    "    # Dataset\n",
    "    coords = np.array([[0, 0], [3, 16], [18, 2], [8, 18], [20, 2]])\n",
    "    w = np.array([5, 22, 41, 60, 34])\n",
    "\n",
    "    # Sets\n",
    "    I = m.set(len(coords)) \n",
    "    J = m.set(2)  \n",
    "\n",
    "    # Variables\n",
    "    x = m.pvar('x', [J], [0, 100])\n",
    "\n",
    "    # Objective\n",
    "    m.obj(sum(w[i] * ((x[:, 0] - coords[i][0])**2)**0.5 for i in I) +\n",
    "          sum(w[i] * ((x[:, 1] - coords[i][1])**2)**0.5 for i in I))\n",
    "\n",
    "    # Solve\n",
    "    m.sol(['min'], 'GA')\n",
    "\n",
    "    return m[X]\n",
    "\n",
    "m = implement(instance)\n",
    "m.sol()"
   ]
  },
  {
   "attachments": {},
   "cell_type": "markdown",
   "metadata": {},
   "source": [
    "### Result"
   ]
  },
  {
   "cell_type": "code",
   "execution_count": 4,
   "metadata": {},
   "outputs": [
    {
     "name": "stdout",
     "output_type": "stream",
     "text": [
      "\n",
      "~~~~~~~~~~~~~~\n",
      "FELOOPY v0.2.4\n",
      "~~~~~~~~~~~~~~\n",
      "\n",
      "~~~~~~~~~~~\n",
      "DATE & TIME\n",
      "~~~~~~~~~~~\n",
      "2023-04-19 01:13:07\n",
      "Wed, Apr 19, 2023\n",
      "\n",
      "\n",
      "~~~~~~~~~~~~\n",
      "PROBLEM INFO\n",
      "~~~~~~~~~~~~\n",
      "| info      | detail    | variable   | count [cat,tot]   | other      | count [cat,tot]    |\n",
      "|-----------|-----------|------------|-------------------|------------|--------------------|\n",
      "| model     | sflp      | positive   | [1, 2]            | objective  | [1, 1]             |\n",
      "| interface | feloopy   | binary     | [0, 0]            | constraint | [0, 0]             |\n",
      "| solver    | GA        | integer    | [0, 0]            |            |                    |\n",
      "| direction | ['min']   | free       | [0, 0]            |            |                    |\n",
      "| method    | heuristic | tot        | [1, 2]            |            |                    |\n",
      "~~~~~~~~~~~~\n",
      "\n",
      "~~~~~~~~~~\n",
      "SOLVE INFO\n",
      "~~~~~~~~~~\n",
      "objective:  2218.0012617107823\n",
      "cpu time [feloopy]:  99362.10000000756 (microseconds) 00:00:00 (h, m, s)\n",
      "~~~~~~~~~\n",
      "\n",
      "x:  [ 8.00004577 15.99964377]\n"
     ]
    }
   ],
   "source": [
    "#Report\n",
    "m.report()\n",
    "\n",
    "#Display\n",
    "m.dis(['x'])"
   ]
  },
  {
   "attachments": {},
   "cell_type": "markdown",
   "metadata": {},
   "source": [
    "### 2 | Euclidean distance "
   ]
  },
  {
   "attachments": {},
   "cell_type": "markdown",
   "metadata": {},
   "source": [
    "### Setting"
   ]
  },
  {
   "cell_type": "code",
   "execution_count": 5,
   "metadata": {},
   "outputs": [],
   "source": [
    "problem_name = 'sflp'\n",
    "solution_method = 'heuristic'\n",
    "interface = 'feloopy'\n",
    "solver = 'GA'"
   ]
  },
  {
   "attachments": {},
   "cell_type": "markdown",
   "metadata": {},
   "source": [
    "### Model"
   ]
  },
  {
   "cell_type": "code",
   "execution_count": 6,
   "metadata": {},
   "outputs": [],
   "source": [
    "def instance(X):\n",
    "\n",
    "    # Environment\n",
    "    m = representor_model(solution_method, problem_name, interface, X)\n",
    "\n",
    "    # Dataset\n",
    "    coords = np.array([[0, 0], [3, 16], [18, 2], [8, 18], [20, 2]])\n",
    "    w = np.array([5, 22, 41, 60, 34])\n",
    "\n",
    "    # Sets\n",
    "    I = m.set(len(coords))\n",
    "    J = m.set(2)\n",
    "\n",
    "    # Variables\n",
    "    x = m.pvar('x', [J], [0, 100])\n",
    "\n",
    "    # Objective\n",
    "    m.obj(sum(w[i] * ((x[:, 0] - coords[i][0])**2 +\n",
    "          (x[:, 1] - coords[i][1])**2)**0.5 for i in I))\n",
    "\n",
    "    # Solve\n",
    "    m.sol(['min'], solver)\n",
    "\n",
    "    return m[X]\n",
    "\n",
    "\n",
    "m = implement(instance)\n",
    "m.sol()\n"
   ]
  },
  {
   "attachments": {},
   "cell_type": "markdown",
   "metadata": {},
   "source": [
    "### Result"
   ]
  },
  {
   "cell_type": "code",
   "execution_count": 7,
   "metadata": {},
   "outputs": [
    {
     "name": "stdout",
     "output_type": "stream",
     "text": [
      "\n",
      "~~~~~~~~~~~~~~\n",
      "FELOOPY v0.2.4\n",
      "~~~~~~~~~~~~~~\n",
      "\n",
      "~~~~~~~~~~~\n",
      "DATE & TIME\n",
      "~~~~~~~~~~~\n",
      "2023-04-19 01:13:07\n",
      "Wed, Apr 19, 2023\n",
      "\n",
      "\n",
      "~~~~~~~~~~~~\n",
      "PROBLEM INFO\n",
      "~~~~~~~~~~~~\n",
      "| info      | detail    | variable   | count [cat,tot]   | other      | count [cat,tot]    |\n",
      "|-----------|-----------|------------|-------------------|------------|--------------------|\n",
      "| model     | sflp      | positive   | [1, 2]            | objective  | [1, 1]             |\n",
      "| interface | feloopy   | binary     | [0, 0]            | constraint | [0, 0]             |\n",
      "| solver    | GA        | integer    | [0, 0]            |            |                    |\n",
      "| direction | ['min']   | free       | [0, 0]            |            |                    |\n",
      "| method    | heuristic | tot        | [1, 2]            |            |                    |\n",
      "~~~~~~~~~~~~\n",
      "\n",
      "~~~~~~~~~~\n",
      "SOLVE INFO\n",
      "~~~~~~~~~~\n",
      "objective:  1635.3230412239366\n",
      "cpu time [feloopy]:  157742.9999999822 (microseconds) 00:00:00 (h, m, s)\n",
      "~~~~~~~~~\n",
      "\n",
      "x:  [ 9.74077924 13.6690899 ]\n"
     ]
    }
   ],
   "source": [
    "#Report\n",
    "m.report()\n",
    "\n",
    "#Display\n",
    "m.dis(['x'])"
   ]
  },
  {
   "attachments": {},
   "cell_type": "markdown",
   "metadata": {},
   "source": [
    "### 3 | Squared Euclidean distance"
   ]
  },
  {
   "attachments": {},
   "cell_type": "markdown",
   "metadata": {},
   "source": [
    "### Setting"
   ]
  },
  {
   "cell_type": "code",
   "execution_count": 8,
   "metadata": {},
   "outputs": [],
   "source": [
    "problem_name = 'sflp'\n",
    "solution_method = 'heuristic'\n",
    "interface = 'feloopy'\n",
    "solver = 'GA'"
   ]
  },
  {
   "attachments": {},
   "cell_type": "markdown",
   "metadata": {},
   "source": [
    "### Model"
   ]
  },
  {
   "cell_type": "code",
   "execution_count": 9,
   "metadata": {},
   "outputs": [],
   "source": [
    "def instance(X):\n",
    "\n",
    "    # Environment\n",
    "    m = representor_model(solution_method, problem_name, interface, X)\n",
    "\n",
    "    # Dataset\n",
    "    coords = np.array([[0, 0], [3, 16], [18, 2], [8, 18], [20, 2]])\n",
    "    w = np.array([5, 22, 41, 60, 34])\n",
    "\n",
    "    # Sets\n",
    "    I = m.set(len(coords))\n",
    "    J = m.set(2)\n",
    "\n",
    "    # Variables\n",
    "    x = m.pvar('x', [J], [0, 100])\n",
    "\n",
    "    # Objective\n",
    "    m.obj(sum(w[i] * ((x[:, 0] - coords[i][0])**2) for i in I) +\n",
    "          sum(w[i] * ((x[:, 1] - coords[i][1])**2) for i in I))\n",
    "\n",
    "    # Solve\n",
    "    m.sol(['min'], solver)\n",
    "\n",
    "    return m[X]\n",
    "\n",
    "\n",
    "m = implement(instance)\n",
    "m.sol()\n"
   ]
  },
  {
   "attachments": {},
   "cell_type": "markdown",
   "metadata": {},
   "source": [
    "### Result"
   ]
  },
  {
   "cell_type": "code",
   "execution_count": 10,
   "metadata": {},
   "outputs": [
    {
     "name": "stdout",
     "output_type": "stream",
     "text": [
      "\n",
      "~~~~~~~~~~~~~~\n",
      "FELOOPY v0.2.4\n",
      "~~~~~~~~~~~~~~\n",
      "\n",
      "~~~~~~~~~~~\n",
      "DATE & TIME\n",
      "~~~~~~~~~~~\n",
      "2023-04-19 01:13:08\n",
      "Wed, Apr 19, 2023\n",
      "\n",
      "\n",
      "~~~~~~~~~~~~\n",
      "PROBLEM INFO\n",
      "~~~~~~~~~~~~\n",
      "| info      | detail    | variable   | count [cat,tot]   | other      | count [cat,tot]    |\n",
      "|-----------|-----------|------------|-------------------|------------|--------------------|\n",
      "| model     | sflp      | positive   | [1, 2]            | objective  | [1, 1]             |\n",
      "| interface | feloopy   | binary     | [0, 0]            | constraint | [0, 0]             |\n",
      "| solver    | GA        | integer    | [0, 0]            |            |                    |\n",
      "| direction | ['min']   | free       | [0, 0]            |            |                    |\n",
      "| method    | heuristic | tot        | [1, 2]            |            |                    |\n",
      "~~~~~~~~~~~~\n",
      "\n",
      "~~~~~~~~~~\n",
      "SOLVE INFO\n",
      "~~~~~~~~~~\n",
      "objective:  17034.617283950654\n",
      "cpu time [feloopy]:  114804.39999991177 (microseconds) 00:00:00 (h, m, s)\n",
      "~~~~~~~~~\n",
      "\n",
      "x:  [12.12345633  9.76543214]\n"
     ]
    }
   ],
   "source": [
    "#Report\n",
    "m.report()\n",
    "\n",
    "#Display\n",
    "m.dis(['x'])"
   ]
  },
  {
   "attachments": {},
   "cell_type": "markdown",
   "metadata": {},
   "source": [
    "### 4 | Minkowski distance"
   ]
  },
  {
   "attachments": {},
   "cell_type": "markdown",
   "metadata": {},
   "source": [
    "### Setting"
   ]
  },
  {
   "cell_type": "code",
   "execution_count": 11,
   "metadata": {},
   "outputs": [],
   "source": [
    "problem_name = 'sflp'\n",
    "solution_method = 'heuristic'\n",
    "interface = 'feloopy'\n",
    "solver = 'GA'"
   ]
  },
  {
   "attachments": {},
   "cell_type": "markdown",
   "metadata": {},
   "source": [
    "### Model"
   ]
  },
  {
   "cell_type": "code",
   "execution_count": 12,
   "metadata": {},
   "outputs": [],
   "source": [
    "def instance(X):\n",
    "\n",
    "    # Environment\n",
    "    m = representor_model(solution_method, problem_name, interface, X)\n",
    "\n",
    "    # Dataset\n",
    "    coords = np.array([[0, 0], [3, 16], [18, 2], [8, 18], [20, 2]])\n",
    "    w = np.array([5, 22, 41, 60, 34])\n",
    "    p = 50\n",
    "\n",
    "    # Sets\n",
    "    I = m.set(len(coords)) \n",
    "    J = m.set(2)  \n",
    "\n",
    "    # Variables\n",
    "    x = m.pvar('x', [J], [0, 100])\n",
    "\n",
    "    # Objective\n",
    "    m.obj(sum( w[i] * ((x[:,0] - coords[i][0])**p + (x[:,1] - coords[i][1])**p )**(1/p) for i in I))\n",
    "\n",
    "    # Solve\n",
    "    m.sol(['min'], 'GA')\n",
    "\n",
    "    return m[X]\n",
    "\n",
    "m = implement(instance)\n",
    "m.sol()"
   ]
  },
  {
   "attachments": {},
   "cell_type": "markdown",
   "metadata": {},
   "source": [
    "### Result"
   ]
  },
  {
   "cell_type": "code",
   "execution_count": 13,
   "metadata": {},
   "outputs": [
    {
     "name": "stdout",
     "output_type": "stream",
     "text": [
      "\n",
      "~~~~~~~~~~~~~~\n",
      "FELOOPY v0.2.4\n",
      "~~~~~~~~~~~~~~\n",
      "\n",
      "~~~~~~~~~~~\n",
      "DATE & TIME\n",
      "~~~~~~~~~~~\n",
      "2023-04-19 01:13:08\n",
      "Wed, Apr 19, 2023\n",
      "\n",
      "\n",
      "~~~~~~~~~~~~\n",
      "PROBLEM INFO\n",
      "~~~~~~~~~~~~\n",
      "| info      | detail    | variable   | count [cat,tot]   | other      | count [cat,tot]    |\n",
      "|-----------|-----------|------------|-------------------|------------|--------------------|\n",
      "| model     | sflp      | positive   | [1, 2]            | objective  | [1, 1]             |\n",
      "| interface | feloopy   | binary     | [0, 0]            | constraint | [0, 0]             |\n",
      "| solver    | GA        | integer    | [0, 0]            |            |                    |\n",
      "| direction | ['min']   | free       | [0, 0]            |            |                    |\n",
      "| method    | heuristic | tot        | [1, 2]            |            |                    |\n",
      "~~~~~~~~~~~~\n",
      "\n",
      "~~~~~~~~~~\n",
      "SOLVE INFO\n",
      "~~~~~~~~~~\n",
      "objective:  1326.3460837689572\n",
      "cpu time [feloopy]:  108754.69999996312 (microseconds) 00:00:00 (h, m, s)\n",
      "~~~~~~~~~\n",
      "\n",
      "x:  [ 8.51044821 13.37307306]\n"
     ]
    }
   ],
   "source": [
    "#Report\n",
    "m.report()\n",
    "\n",
    "#Display\n",
    "m.dis(['x'])"
   ]
  },
  {
   "attachments": {},
   "cell_type": "markdown",
   "metadata": {},
   "source": [
    "### 5 | Chebyshev distance"
   ]
  },
  {
   "attachments": {},
   "cell_type": "markdown",
   "metadata": {},
   "source": [
    "### Setting"
   ]
  },
  {
   "cell_type": "code",
   "execution_count": 14,
   "metadata": {},
   "outputs": [],
   "source": [
    "problem_name = 'sflp'\n",
    "solution_method = 'heuristic'\n",
    "interface = 'feloopy'\n",
    "solver = 'GA'"
   ]
  },
  {
   "attachments": {},
   "cell_type": "markdown",
   "metadata": {},
   "source": [
    "### Model"
   ]
  },
  {
   "cell_type": "code",
   "execution_count": 15,
   "metadata": {},
   "outputs": [],
   "source": [
    "def instance(X):\n",
    "\n",
    "    # Environment\n",
    "    m = representor_model(solution_method, problem_name, interface, X)\n",
    "\n",
    "    # Dataset\n",
    "    coords = np.array([[0, 0], [3, 16], [18, 2], [8, 18], [20, 2]])\n",
    "    w = np.array([5, 22, 41, 60, 34])\n",
    "    p = 10**9\n",
    "\n",
    "    # Sets\n",
    "    I = m.set(len(coords)) \n",
    "    J = m.set(2)  \n",
    "\n",
    "    # Variables\n",
    "    x = m.pvar('x', [J], [0, 100])\n",
    "\n",
    "    # Objective\n",
    "    m.obj(sum( w[i] * ((x[:,0] - coords[i][0])**p + (x[:,1] - coords[i][1])**p )**(1/p) for i in I))\n",
    "\n",
    "    # Solve\n",
    "    m.sol(['min'], 'GA')\n",
    "\n",
    "    return m[X]\n",
    "\n",
    "m = implement(instance)\n",
    "m.sol()"
   ]
  },
  {
   "attachments": {},
   "cell_type": "markdown",
   "metadata": {},
   "source": [
    "### Result"
   ]
  },
  {
   "cell_type": "code",
   "execution_count": 16,
   "metadata": {},
   "outputs": [
    {
     "name": "stdout",
     "output_type": "stream",
     "text": [
      "\n",
      "~~~~~~~~~~~~~~\n",
      "FELOOPY v0.2.4\n",
      "~~~~~~~~~~~~~~\n",
      "\n",
      "~~~~~~~~~~~\n",
      "DATE & TIME\n",
      "~~~~~~~~~~~\n",
      "2023-04-19 01:13:09\n",
      "Wed, Apr 19, 2023\n",
      "\n",
      "\n",
      "~~~~~~~~~~~~\n",
      "PROBLEM INFO\n",
      "~~~~~~~~~~~~\n",
      "| info      | detail    | variable   | count [cat,tot]   | other      | count [cat,tot]    |\n",
      "|-----------|-----------|------------|-------------------|------------|--------------------|\n",
      "| model     | sflp      | positive   | [1, 2]            | objective  | [1, 1]             |\n",
      "| interface | feloopy   | binary     | [0, 0]            | constraint | [0, 0]             |\n",
      "| solver    | GA        | integer    | [0, 0]            |            |                    |\n",
      "| direction | ['min']   | free       | [0, 0]            |            |                    |\n",
      "| method    | heuristic | tot        | [1, 2]            |            |                    |\n",
      "~~~~~~~~~~~~\n",
      "\n",
      "~~~~~~~~~~\n",
      "SOLVE INFO\n",
      "~~~~~~~~~~\n",
      "objective:  inf\n",
      "cpu time [feloopy]:  129548.80000006597 (microseconds) 00:00:00 (h, m, s)\n",
      "~~~~~~~~~\n",
      "\n",
      "x:  [97.67881175 91.52251792]\n"
     ]
    }
   ],
   "source": [
    "#Report\n",
    "m.report()\n",
    "\n",
    "#Display\n",
    "m.dis(['x'])"
   ]
  }
 ],
 "metadata": {
  "kernelspec": {
   "display_name": "Python 3",
   "language": "python",
   "name": "python3"
  },
  "language_info": {
   "codemirror_mode": {
    "name": "ipython",
    "version": 3
   },
   "file_extension": ".py",
   "mimetype": "text/x-python",
   "name": "python",
   "nbconvert_exporter": "python",
   "pygments_lexer": "ipython3",
   "version": "3.10.0"
  },
  "orig_nbformat": 4
 },
 "nbformat": 4,
 "nbformat_minor": 2
}
