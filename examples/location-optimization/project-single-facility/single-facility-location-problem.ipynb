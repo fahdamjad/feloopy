{
 "cells": [
  {
   "attachments": {},
   "cell_type": "markdown",
   "metadata": {},
   "source": [
    "![dpp](./img/examples.png)"
   ]
  },
  {
   "attachments": {},
   "cell_type": "markdown",
   "metadata": {},
   "source": [
    "# Single Facility Location Problem"
   ]
  },
  {
   "attachments": {},
   "cell_type": "markdown",
   "metadata": {},
   "source": [
    "--------------------\n",
    "* Developed by _Keivan Tafakkori_\n",
    "* Date: 17-4-2023\n",
    "* Contact: https://www.linkedin.com/in/keivan-tafakkori/\n",
    "* GitHub: https://github.com/ktafakkori\n",
    "--------------------"
   ]
  },
  {
   "attachments": {},
   "cell_type": "markdown",
   "metadata": {},
   "source": [
    "### Packages"
   ]
  },
  {
   "cell_type": "code",
   "execution_count": 17,
   "metadata": {},
   "outputs": [],
   "source": [
    "from feloopy import *"
   ]
  },
  {
   "attachments": {},
   "cell_type": "markdown",
   "metadata": {},
   "source": [
    "### 1 | Rectangular distance "
   ]
  },
  {
   "attachments": {},
   "cell_type": "markdown",
   "metadata": {},
   "source": [
    "### Setting"
   ]
  },
  {
   "cell_type": "code",
   "execution_count": 18,
   "metadata": {},
   "outputs": [],
   "source": [
    "problem_name = 'sflp'\n",
    "solution_method = 'heuristic'\n",
    "interface = 'feloopy'\n",
    "solver = 'GA'"
   ]
  },
  {
   "attachments": {},
   "cell_type": "markdown",
   "metadata": {},
   "source": [
    "### Model"
   ]
  },
  {
   "cell_type": "code",
   "execution_count": 19,
   "metadata": {},
   "outputs": [],
   "source": [
    "def instance(X):\n",
    "\n",
    "    # Environment\n",
    "    m = representor_model(solution_method, problem_name, interface, X)\n",
    "\n",
    "    # Dataset\n",
    "    coords = np.array([[0, 0], [3, 16], [18, 2], [8, 18], [20, 2]])\n",
    "    w = np.array([5, 22, 41, 60, 34])\n",
    "\n",
    "    # Sets\n",
    "    I = m.set(len(coords)) \n",
    "    J = m.set(2)  \n",
    "\n",
    "    # Variables\n",
    "    x = m.pvar('x', [J], [0, 100])\n",
    "\n",
    "    # Objective\n",
    "    m.obj(sum(w[i] * ((x[:, 0] - coords[i][0])**2)**0.5 for i in I) +\n",
    "          sum(w[i] * ((x[:, 1] - coords[i][1])**2)**0.5 for i in I))\n",
    "\n",
    "    # Solve\n",
    "    m.sol(['min'], 'GA')\n",
    "\n",
    "    return m[X]\n",
    "\n",
    "m = implement(instance)\n",
    "m.sol()"
   ]
  },
  {
   "attachments": {},
   "cell_type": "markdown",
   "metadata": {},
   "source": [
    "### Result"
   ]
  },
  {
   "cell_type": "code",
   "execution_count": 20,
   "metadata": {},
   "outputs": [
    {
     "name": "stdout",
     "output_type": "stream",
     "text": [
      "\n",
      "+--------------------------------------------------------------------------------+\n",
      "|                                 FelooPy v0.2.5                                 |\n",
      "+--------------------------------------------------------------------------------+\n",
      "| Date: 2023-05-27                                                Time: 18:59:14 |\n",
      "| Interface: feloopy                                                  Solver: GA |\n",
      "+--------------------------------------------------------------------------------+\n",
      "|                               Model Information                                |\n",
      "+--------------------------------------------------------------------------------+\n",
      "|                             The 'sflp' model has:                              |\n",
      "|                     2 positive variable(s) in 1 class(es).                     |\n",
      "|                                1 objective(s).                                 |\n",
      "|                 Total number of variables is 2 in 2 class(es).                 |\n",
      "+--------------------------------------------------------------------------------+\n",
      "|                               Solve Information                                |\n",
      "+--------------------------------------------------------------------------------+\n",
      "| Method: heuristic                                           Objective Value(s) |\n",
      "| Status:                                                                    min |\n",
      "| feasible (unconstrained)                                               2218.00 |\n",
      "+--------------------------------------------------------------------------------+\n",
      "|                               Metric Information                               |\n",
      "+--------------------------------------------------------------------------------+\n",
      "| CPT   (microseconds):  1.16e+05                                                |\n",
      "| CPT   (hour:min:sec):  00:00:00                                                |\n",
      "+--------------------------------------------------------------------------------+\n",
      "|                              Decision Information                              |\n",
      "+--------------------------------------------------------------------------------+\n",
      "| x[0] = 8.000002544627545                                                       |\n",
      "| x[1] = 15.998056003923722                                                      |\n",
      "+--------------------------------------------------------------------------------+\n"
     ]
    }
   ],
   "source": [
    "#Report\n",
    "m.report()"
   ]
  },
  {
   "attachments": {},
   "cell_type": "markdown",
   "metadata": {},
   "source": [
    "### 2 | Euclidean distance "
   ]
  },
  {
   "attachments": {},
   "cell_type": "markdown",
   "metadata": {},
   "source": [
    "### Setting"
   ]
  },
  {
   "cell_type": "code",
   "execution_count": 21,
   "metadata": {},
   "outputs": [],
   "source": [
    "problem_name = 'sflp'\n",
    "solution_method = 'heuristic'\n",
    "interface = 'feloopy'\n",
    "solver = 'GA'"
   ]
  },
  {
   "attachments": {},
   "cell_type": "markdown",
   "metadata": {},
   "source": [
    "### Model"
   ]
  },
  {
   "cell_type": "code",
   "execution_count": 22,
   "metadata": {},
   "outputs": [],
   "source": [
    "def instance(X):\n",
    "\n",
    "    # Environment\n",
    "    m = representor_model(solution_method, problem_name, interface, X)\n",
    "\n",
    "    # Dataset\n",
    "    coords = np.array([[0, 0], [3, 16], [18, 2], [8, 18], [20, 2]])\n",
    "    w = np.array([5, 22, 41, 60, 34])\n",
    "\n",
    "    # Sets\n",
    "    I = m.set(len(coords))\n",
    "    J = m.set(2)\n",
    "\n",
    "    # Variables\n",
    "    x = m.pvar('x', [J], [0, 100])\n",
    "\n",
    "    # Objective\n",
    "    m.obj(sum(w[i] * ((x[:, 0] - coords[i][0])**2 +\n",
    "          (x[:, 1] - coords[i][1])**2)**0.5 for i in I))\n",
    "\n",
    "    # Solve\n",
    "    m.sol(['min'], solver)\n",
    "\n",
    "    return m[X]\n",
    "\n",
    "\n",
    "m = implement(instance)\n",
    "m.sol()\n"
   ]
  },
  {
   "attachments": {},
   "cell_type": "markdown",
   "metadata": {},
   "source": [
    "### Result"
   ]
  },
  {
   "cell_type": "code",
   "execution_count": 23,
   "metadata": {},
   "outputs": [
    {
     "name": "stdout",
     "output_type": "stream",
     "text": [
      "\n",
      "+--------------------------------------------------------------------------------+\n",
      "|                                 FelooPy v0.2.5                                 |\n",
      "+--------------------------------------------------------------------------------+\n",
      "| Date: 2023-05-27                                                Time: 18:59:14 |\n",
      "| Interface: feloopy                                                  Solver: GA |\n",
      "+--------------------------------------------------------------------------------+\n",
      "|                               Model Information                                |\n",
      "+--------------------------------------------------------------------------------+\n",
      "|                             The 'sflp' model has:                              |\n",
      "|                     2 positive variable(s) in 1 class(es).                     |\n",
      "|                                1 objective(s).                                 |\n",
      "|                 Total number of variables is 2 in 2 class(es).                 |\n",
      "+--------------------------------------------------------------------------------+\n",
      "|                               Solve Information                                |\n",
      "+--------------------------------------------------------------------------------+\n",
      "| Method: heuristic                                           Objective Value(s) |\n",
      "| Status:                                                                    min |\n",
      "| feasible (unconstrained)                                               1635.31 |\n",
      "+--------------------------------------------------------------------------------+\n",
      "|                               Metric Information                               |\n",
      "+--------------------------------------------------------------------------------+\n",
      "| CPT   (microseconds):  1.05e+05                                                |\n",
      "| CPT   (hour:min:sec):  00:00:00                                                |\n",
      "+--------------------------------------------------------------------------------+\n",
      "|                              Decision Information                              |\n",
      "+--------------------------------------------------------------------------------+\n",
      "| x[0] = 9.799827828247668                                                       |\n",
      "| x[1] = 13.566634488705482                                                      |\n",
      "+--------------------------------------------------------------------------------+\n"
     ]
    }
   ],
   "source": [
    "#Report\n",
    "m.report()"
   ]
  },
  {
   "attachments": {},
   "cell_type": "markdown",
   "metadata": {},
   "source": [
    "### 3 | Squared Euclidean distance"
   ]
  },
  {
   "attachments": {},
   "cell_type": "markdown",
   "metadata": {},
   "source": [
    "### Setting"
   ]
  },
  {
   "cell_type": "code",
   "execution_count": 24,
   "metadata": {},
   "outputs": [],
   "source": [
    "problem_name = 'sflp'\n",
    "solution_method = 'heuristic'\n",
    "interface = 'feloopy'\n",
    "solver = 'GA'"
   ]
  },
  {
   "attachments": {},
   "cell_type": "markdown",
   "metadata": {},
   "source": [
    "### Model"
   ]
  },
  {
   "cell_type": "code",
   "execution_count": 25,
   "metadata": {},
   "outputs": [],
   "source": [
    "def instance(X):\n",
    "\n",
    "    # Environment\n",
    "    m = representor_model(solution_method, problem_name, interface, X)\n",
    "\n",
    "    # Dataset\n",
    "    coords = np.array([[0, 0], [3, 16], [18, 2], [8, 18], [20, 2]])\n",
    "    w = np.array([5, 22, 41, 60, 34])\n",
    "\n",
    "    # Sets\n",
    "    I = m.set(len(coords))\n",
    "    J = m.set(2)\n",
    "\n",
    "    # Variables\n",
    "    x = m.pvar('x', [J], [0, 100])\n",
    "\n",
    "    # Objective\n",
    "    m.obj(sum(w[i] * ((x[:, 0] - coords[i][0])**2) for i in I) +\n",
    "          sum(w[i] * ((x[:, 1] - coords[i][1])**2) for i in I))\n",
    "\n",
    "    # Solve\n",
    "    m.sol(['min'], solver)\n",
    "\n",
    "    return m[X]\n",
    "\n",
    "\n",
    "m = implement(instance)\n",
    "m.sol()\n"
   ]
  },
  {
   "attachments": {},
   "cell_type": "markdown",
   "metadata": {},
   "source": [
    "### Result"
   ]
  },
  {
   "cell_type": "code",
   "execution_count": 26,
   "metadata": {},
   "outputs": [
    {
     "name": "stdout",
     "output_type": "stream",
     "text": [
      "\n",
      "+--------------------------------------------------------------------------------+\n",
      "|                                 FelooPy v0.2.5                                 |\n",
      "+--------------------------------------------------------------------------------+\n",
      "| Date: 2023-05-27                                                Time: 18:59:15 |\n",
      "| Interface: feloopy                                                  Solver: GA |\n",
      "+--------------------------------------------------------------------------------+\n",
      "|                               Model Information                                |\n",
      "+--------------------------------------------------------------------------------+\n",
      "|                             The 'sflp' model has:                              |\n",
      "|                     2 positive variable(s) in 1 class(es).                     |\n",
      "|                                1 objective(s).                                 |\n",
      "|                 Total number of variables is 2 in 2 class(es).                 |\n",
      "+--------------------------------------------------------------------------------+\n",
      "|                               Solve Information                                |\n",
      "+--------------------------------------------------------------------------------+\n",
      "| Method: heuristic                                           Objective Value(s) |\n",
      "| Status:                                                                    min |\n",
      "| feasible (unconstrained)                                              1.70e+04 |\n",
      "+--------------------------------------------------------------------------------+\n",
      "|                               Metric Information                               |\n",
      "+--------------------------------------------------------------------------------+\n",
      "| CPT   (microseconds):  2.64e+05                                                |\n",
      "| CPT   (hour:min:sec):  00:00:00                                                |\n",
      "+--------------------------------------------------------------------------------+\n",
      "|                              Decision Information                              |\n",
      "+--------------------------------------------------------------------------------+\n",
      "| x[0] = 12.12345570448182                                                       |\n",
      "| x[1] = 9.765433350204457                                                       |\n",
      "+--------------------------------------------------------------------------------+\n"
     ]
    }
   ],
   "source": [
    "#Report\n",
    "m.report()"
   ]
  },
  {
   "attachments": {},
   "cell_type": "markdown",
   "metadata": {},
   "source": [
    "### 4 | Minkowski distance"
   ]
  },
  {
   "attachments": {},
   "cell_type": "markdown",
   "metadata": {},
   "source": [
    "### Setting"
   ]
  },
  {
   "cell_type": "code",
   "execution_count": 27,
   "metadata": {},
   "outputs": [],
   "source": [
    "problem_name = 'sflp'\n",
    "solution_method = 'heuristic'\n",
    "interface = 'feloopy'\n",
    "solver = 'GA'"
   ]
  },
  {
   "attachments": {},
   "cell_type": "markdown",
   "metadata": {},
   "source": [
    "### Model"
   ]
  },
  {
   "cell_type": "code",
   "execution_count": 28,
   "metadata": {},
   "outputs": [],
   "source": [
    "def instance(X):\n",
    "\n",
    "    # Environment\n",
    "    m = representor_model(solution_method, problem_name, interface, X)\n",
    "\n",
    "    # Dataset\n",
    "    coords = np.array([[0, 0], [3, 16], [18, 2], [8, 18], [20, 2]])\n",
    "    w = np.array([5, 22, 41, 60, 34])\n",
    "    p = 50\n",
    "\n",
    "    # Sets\n",
    "    I = m.set(len(coords)) \n",
    "    J = m.set(2)  \n",
    "\n",
    "    # Variables\n",
    "    x = m.pvar('x', [J], [0, 100])\n",
    "\n",
    "    # Objective\n",
    "    m.obj(sum( w[i] * ((x[:,0] - coords[i][0])**p + (x[:,1] - coords[i][1])**p )**(1/p) for i in I))\n",
    "\n",
    "    # Solve\n",
    "    m.sol(['min'], 'GA')\n",
    "\n",
    "    return m[X]\n",
    "\n",
    "m = implement(instance)\n",
    "m.sol()"
   ]
  },
  {
   "attachments": {},
   "cell_type": "markdown",
   "metadata": {},
   "source": [
    "### Result"
   ]
  },
  {
   "cell_type": "code",
   "execution_count": 29,
   "metadata": {},
   "outputs": [
    {
     "name": "stdout",
     "output_type": "stream",
     "text": [
      "\n",
      "+--------------------------------------------------------------------------------+\n",
      "|                                 FelooPy v0.2.5                                 |\n",
      "+--------------------------------------------------------------------------------+\n",
      "| Date: 2023-05-27                                                Time: 18:59:15 |\n",
      "| Interface: feloopy                                                  Solver: GA |\n",
      "+--------------------------------------------------------------------------------+\n",
      "|                               Model Information                                |\n",
      "+--------------------------------------------------------------------------------+\n",
      "|                             The 'sflp' model has:                              |\n",
      "|                     2 positive variable(s) in 1 class(es).                     |\n",
      "|                                1 objective(s).                                 |\n",
      "|                 Total number of variables is 2 in 2 class(es).                 |\n",
      "+--------------------------------------------------------------------------------+\n",
      "|                               Solve Information                                |\n",
      "+--------------------------------------------------------------------------------+\n",
      "| Method: heuristic                                           Objective Value(s) |\n",
      "| Status:                                                                    min |\n",
      "| feasible (unconstrained)                                               1324.52 |\n",
      "+--------------------------------------------------------------------------------+\n",
      "|                               Metric Information                               |\n",
      "+--------------------------------------------------------------------------------+\n",
      "| CPT   (microseconds):  1.47e+05                                                |\n",
      "| CPT   (hour:min:sec):  00:00:00                                                |\n",
      "+--------------------------------------------------------------------------------+\n",
      "|                              Decision Information                              |\n",
      "+--------------------------------------------------------------------------------+\n",
      "| x[0] = 7.327768923497263                                                       |\n",
      "| x[1] = 14.589391559260644                                                      |\n",
      "+--------------------------------------------------------------------------------+\n"
     ]
    }
   ],
   "source": [
    "#Report\n",
    "m.report()"
   ]
  }
 ],
 "metadata": {
  "kernelspec": {
   "display_name": "Python 3",
   "language": "python",
   "name": "python3"
  },
  "language_info": {
   "codemirror_mode": {
    "name": "ipython",
    "version": 3
   },
   "file_extension": ".py",
   "mimetype": "text/x-python",
   "name": "python",
   "nbconvert_exporter": "python",
   "pygments_lexer": "ipython3",
   "version": "3.10.9"
  },
  "orig_nbformat": 4
 },
 "nbformat": 4,
 "nbformat_minor": 2
}
