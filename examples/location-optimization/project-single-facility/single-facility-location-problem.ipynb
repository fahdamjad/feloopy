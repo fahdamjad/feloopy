{
 "cells": [
  {
   "attachments": {},
   "cell_type": "markdown",
   "metadata": {},
   "source": [
    "# Single Facility Location Problem"
   ]
  },
  {
   "attachments": {},
   "cell_type": "markdown",
   "metadata": {},
   "source": [
    "--------------------\n",
    "* Developed by _Keivan Tafakkori_\n",
    "* Date: 17-4-2023\n",
    "* Contact: https://www.linkedin.com/in/keivan-tafakkori/\n",
    "* Github: https://github.com/ktafakkori\n",
    "--------------------"
   ]
  },
  {
   "attachments": {},
   "cell_type": "markdown",
   "metadata": {},
   "source": [
    "### Packages"
   ]
  },
  {
   "cell_type": "code",
   "execution_count": 286,
   "metadata": {},
   "outputs": [],
   "source": [
    "from feloopy import *"
   ]
  },
  {
   "attachments": {},
   "cell_type": "markdown",
   "metadata": {},
   "source": [
    "### 1 | Rectangular distance "
   ]
  },
  {
   "attachments": {},
   "cell_type": "markdown",
   "metadata": {},
   "source": [
    "### Setting"
   ]
  },
  {
   "cell_type": "code",
   "execution_count": 287,
   "metadata": {},
   "outputs": [],
   "source": [
    "problem_name = 'sflp'\n",
    "solution_method = 'heuristic'\n",
    "interface = 'feloopy'\n",
    "solver = 'GA'"
   ]
  },
  {
   "attachments": {},
   "cell_type": "markdown",
   "metadata": {},
   "source": [
    "### Model"
   ]
  },
  {
   "cell_type": "code",
   "execution_count": 288,
   "metadata": {},
   "outputs": [],
   "source": [
    "def instance(X):\n",
    "\n",
    "    # Environment\n",
    "    m = model(solution_method, problem_name, interface, X)\n",
    "\n",
    "    # Dataset\n",
    "    coords = np.array([[0, 0], [3, 16], [18, 2], [8, 18], [20, 2]])\n",
    "    w = np.array([5, 22, 41, 60, 34])\n",
    "\n",
    "    # Sets\n",
    "    I = m.set(len(coords)) \n",
    "    J = m.set(2)  \n",
    "\n",
    "    # Variables\n",
    "    x = m.pvar('x', [J], [0, 100])\n",
    "\n",
    "    # Objective\n",
    "    m.obj(sum(w[i] * ((x[:, 0] - coords[i][0])**2)**0.5 for i in I) +\n",
    "          sum(w[i] * ((x[:, 1] - coords[i][1])**2)**0.5 for i in I))\n",
    "\n",
    "    # Solve\n",
    "    m.sol(['min'], 'GA')\n",
    "\n",
    "    return m[X]\n",
    "\n",
    "m = implement(instance)\n",
    "m.sol()"
   ]
  },
  {
   "attachments": {},
   "cell_type": "markdown",
   "metadata": {},
   "source": [
    "### Result"
   ]
  },
  {
   "cell_type": "code",
   "execution_count": 289,
   "metadata": {},
   "outputs": [
    {
     "name": "stdout",
     "output_type": "stream",
     "text": [
      "\n",
      "~~~~~~~~~~~~~~\n",
      "FELOOPY v0.2.4\n",
      "~~~~~~~~~~~~~~\n",
      "\n",
      "~~~~~~~~~~~\n",
      "DATE & TIME\n",
      "~~~~~~~~~~~\n",
      "2023-04-18 00:31:19\n",
      "Tue, Apr 18, 2023\n",
      "\n",
      "\n",
      "~~~~~~~~~~~~\n",
      "PROBLEM INFO\n",
      "~~~~~~~~~~~~\n",
      "| info      | detail    | variable   | count [cat,tot]   | other      | count [cat,tot]    |\n",
      "|-----------|-----------|------------|-------------------|------------|--------------------|\n",
      "| model     | sflp      | positive   | [1, 2]            | objective  | [1, 1]             |\n",
      "| interface | feloopy   | binary     | [0, 0]            | constraint | [0, 0]             |\n",
      "| solver    | GA        | integer    | [0, 0]            |            |                    |\n",
      "| direction | ['min']   | free       | [0, 0]            |            |                    |\n",
      "| method    | heuristic | tot        | [1, 2]            |            |                    |\n",
      "~~~~~~~~~~~~\n",
      "\n",
      "~~~~~~~~~~\n",
      "SOLVE INFO\n",
      "~~~~~~~~~~\n",
      "objective:  2218.00004881135\n",
      "cpu time [feloopy]:  128712.80000035767 (microseconds) 00:00:00 (h, m, s)\n",
      "~~~~~~~~~\n",
      "\n",
      "x:  [ 8.00000149 16.00000074]\n"
     ]
    }
   ],
   "source": [
    "#Report\n",
    "m.report()\n",
    "\n",
    "#Display\n",
    "m.dis(['x'])"
   ]
  },
  {
   "attachments": {},
   "cell_type": "markdown",
   "metadata": {},
   "source": [
    "### 2 | Euclidean distance "
   ]
  },
  {
   "attachments": {},
   "cell_type": "markdown",
   "metadata": {},
   "source": [
    "### Setting"
   ]
  },
  {
   "cell_type": "code",
   "execution_count": 290,
   "metadata": {},
   "outputs": [],
   "source": [
    "problem_name = 'sflp'\n",
    "solution_method = 'heuristic'\n",
    "interface = 'feloopy'\n",
    "solver = 'GA'"
   ]
  },
  {
   "attachments": {},
   "cell_type": "markdown",
   "metadata": {},
   "source": [
    "### Model"
   ]
  },
  {
   "cell_type": "code",
   "execution_count": 291,
   "metadata": {},
   "outputs": [],
   "source": [
    "def instance(X):\n",
    "\n",
    "    # Environment\n",
    "    m = model(solution_method, problem_name, interface, X)\n",
    "\n",
    "    # Dataset\n",
    "    coords = np.array([[0, 0], [3, 16], [18, 2], [8, 18], [20, 2]])\n",
    "    w = np.array([5, 22, 41, 60, 34])\n",
    "\n",
    "    # Sets\n",
    "    I = m.set(len(coords))\n",
    "    J = m.set(2)\n",
    "\n",
    "    # Variables\n",
    "    x = m.pvar('x', [J], [0, 100])\n",
    "\n",
    "    # Objective\n",
    "    m.obj(sum(w[i] * ((x[:, 0] - coords[i][0])**2 +\n",
    "          (x[:, 1] - coords[i][1])**2)**0.5 for i in I))\n",
    "\n",
    "    # Solve\n",
    "    m.sol(['min'], solver)\n",
    "\n",
    "    return m[X]\n",
    "\n",
    "\n",
    "m = implement(instance)\n",
    "m.sol()\n"
   ]
  },
  {
   "attachments": {},
   "cell_type": "markdown",
   "metadata": {},
   "source": [
    "### Result"
   ]
  },
  {
   "cell_type": "code",
   "execution_count": 292,
   "metadata": {},
   "outputs": [
    {
     "name": "stdout",
     "output_type": "stream",
     "text": [
      "\n",
      "~~~~~~~~~~~~~~\n",
      "FELOOPY v0.2.4\n",
      "~~~~~~~~~~~~~~\n",
      "\n",
      "~~~~~~~~~~~\n",
      "DATE & TIME\n",
      "~~~~~~~~~~~\n",
      "2023-04-18 00:31:19\n",
      "Tue, Apr 18, 2023\n",
      "\n",
      "\n",
      "~~~~~~~~~~~~\n",
      "PROBLEM INFO\n",
      "~~~~~~~~~~~~\n",
      "| info      | detail    | variable   | count [cat,tot]   | other      | count [cat,tot]    |\n",
      "|-----------|-----------|------------|-------------------|------------|--------------------|\n",
      "| model     | sflp      | positive   | [1, 2]            | objective  | [1, 1]             |\n",
      "| interface | feloopy   | binary     | [0, 0]            | constraint | [0, 0]             |\n",
      "| solver    | GA        | integer    | [0, 0]            |            |                    |\n",
      "| direction | ['min']   | free       | [0, 0]            |            |                    |\n",
      "| method    | heuristic | tot        | [1, 2]            |            |                    |\n",
      "~~~~~~~~~~~~\n",
      "\n",
      "~~~~~~~~~~\n",
      "SOLVE INFO\n",
      "~~~~~~~~~~\n",
      "objective:  1635.315292823609\n",
      "cpu time [feloopy]:  95279.6000019589 (microseconds) 00:00:00 (h, m, s)\n",
      "~~~~~~~~~\n",
      "\n",
      "x:  [ 9.83078693 13.51098015]\n"
     ]
    }
   ],
   "source": [
    "#Report\n",
    "m.report()\n",
    "\n",
    "#Display\n",
    "m.dis(['x'])"
   ]
  },
  {
   "attachments": {},
   "cell_type": "markdown",
   "metadata": {},
   "source": [
    "### 3 | Squared Euclidean distance"
   ]
  },
  {
   "attachments": {},
   "cell_type": "markdown",
   "metadata": {},
   "source": [
    "### Setting"
   ]
  },
  {
   "cell_type": "code",
   "execution_count": 293,
   "metadata": {},
   "outputs": [],
   "source": [
    "problem_name = 'sflp'\n",
    "solution_method = 'heuristic'\n",
    "interface = 'feloopy'\n",
    "solver = 'GA'"
   ]
  },
  {
   "attachments": {},
   "cell_type": "markdown",
   "metadata": {},
   "source": [
    "### Model"
   ]
  },
  {
   "cell_type": "code",
   "execution_count": 294,
   "metadata": {},
   "outputs": [],
   "source": [
    "def instance(X):\n",
    "\n",
    "    # Environment\n",
    "    m = model(solution_method, problem_name, interface, X)\n",
    "\n",
    "    # Dataset\n",
    "    coords = np.array([[0, 0], [3, 16], [18, 2], [8, 18], [20, 2]])\n",
    "    w = np.array([5, 22, 41, 60, 34])\n",
    "\n",
    "    # Sets\n",
    "    I = m.set(len(coords))\n",
    "    J = m.set(2)\n",
    "\n",
    "    # Variables\n",
    "    x = m.pvar('x', [J], [0, 100])\n",
    "\n",
    "    # Objective\n",
    "    m.obj(sum(w[i] * ((x[:, 0] - coords[i][0])**2) for i in I) +\n",
    "          sum(w[i] * ((x[:, 1] - coords[i][1])**2) for i in I))\n",
    "\n",
    "    # Solve\n",
    "    m.sol(['min'], solver)\n",
    "\n",
    "    return m[X]\n",
    "\n",
    "\n",
    "m = implement(instance)\n",
    "m.sol()\n"
   ]
  },
  {
   "attachments": {},
   "cell_type": "markdown",
   "metadata": {},
   "source": [
    "### Result"
   ]
  },
  {
   "cell_type": "code",
   "execution_count": 295,
   "metadata": {},
   "outputs": [
    {
     "name": "stdout",
     "output_type": "stream",
     "text": [
      "\n",
      "~~~~~~~~~~~~~~\n",
      "FELOOPY v0.2.4\n",
      "~~~~~~~~~~~~~~\n",
      "\n",
      "~~~~~~~~~~~\n",
      "DATE & TIME\n",
      "~~~~~~~~~~~\n",
      "2023-04-18 00:31:20\n",
      "Tue, Apr 18, 2023\n",
      "\n",
      "\n",
      "~~~~~~~~~~~~\n",
      "PROBLEM INFO\n",
      "~~~~~~~~~~~~\n",
      "| info      | detail    | variable   | count [cat,tot]   | other      | count [cat,tot]    |\n",
      "|-----------|-----------|------------|-------------------|------------|--------------------|\n",
      "| model     | sflp      | positive   | [1, 2]            | objective  | [1, 1]             |\n",
      "| interface | feloopy   | binary     | [0, 0]            | constraint | [0, 0]             |\n",
      "| solver    | GA        | integer    | [0, 0]            |            |                    |\n",
      "| direction | ['min']   | free       | [0, 0]            |            |                    |\n",
      "| method    | heuristic | tot        | [1, 2]            |            |                    |\n",
      "~~~~~~~~~~~~\n",
      "\n",
      "~~~~~~~~~~\n",
      "SOLVE INFO\n",
      "~~~~~~~~~~\n",
      "objective:  17034.617283950654\n",
      "cpu time [feloopy]:  248870.9999997809 (microseconds) 00:00:00 (h, m, s)\n",
      "~~~~~~~~~\n",
      "\n",
      "x:  [12.1234566   9.76543167]\n"
     ]
    }
   ],
   "source": [
    "#Report\n",
    "m.report()\n",
    "\n",
    "#Display\n",
    "m.dis(['x'])"
   ]
  },
  {
   "attachments": {},
   "cell_type": "markdown",
   "metadata": {},
   "source": [
    "### 4 | Minkowski distance"
   ]
  },
  {
   "attachments": {},
   "cell_type": "markdown",
   "metadata": {},
   "source": [
    "### Setting"
   ]
  },
  {
   "cell_type": "code",
   "execution_count": 296,
   "metadata": {},
   "outputs": [],
   "source": [
    "problem_name = 'sflp'\n",
    "solution_method = 'heuristic'\n",
    "interface = 'feloopy'\n",
    "solver = 'GA'"
   ]
  },
  {
   "attachments": {},
   "cell_type": "markdown",
   "metadata": {},
   "source": [
    "### Model"
   ]
  },
  {
   "cell_type": "code",
   "execution_count": 297,
   "metadata": {},
   "outputs": [],
   "source": [
    "def instance(X):\n",
    "\n",
    "    # Environment\n",
    "    m = model(solution_method, problem_name, interface, X)\n",
    "\n",
    "    # Dataset\n",
    "    coords = np.array([[0, 0], [3, 16], [18, 2], [8, 18], [20, 2]])\n",
    "    w = np.array([5, 22, 41, 60, 34])\n",
    "    p = 50\n",
    "\n",
    "    # Sets\n",
    "    I = m.set(len(coords)) \n",
    "    J = m.set(2)  \n",
    "\n",
    "    # Variables\n",
    "    x = m.pvar('x', [J], [0, 100])\n",
    "\n",
    "    # Objective\n",
    "    m.obj(sum( w[i] * ((x[:,0] - coords[i][0])**p + (x[:,1] - coords[i][1])**p )**(1/p) for i in I))\n",
    "\n",
    "    # Solve\n",
    "    m.sol(['min'], 'GA')\n",
    "\n",
    "    return m[X]\n",
    "\n",
    "m = implement(instance)\n",
    "m.sol()"
   ]
  },
  {
   "attachments": {},
   "cell_type": "markdown",
   "metadata": {},
   "source": [
    "### Result"
   ]
  },
  {
   "cell_type": "code",
   "execution_count": 298,
   "metadata": {},
   "outputs": [
    {
     "name": "stdout",
     "output_type": "stream",
     "text": [
      "\n",
      "~~~~~~~~~~~~~~\n",
      "FELOOPY v0.2.4\n",
      "~~~~~~~~~~~~~~\n",
      "\n",
      "~~~~~~~~~~~\n",
      "DATE & TIME\n",
      "~~~~~~~~~~~\n",
      "2023-04-18 00:31:20\n",
      "Tue, Apr 18, 2023\n",
      "\n",
      "\n",
      "~~~~~~~~~~~~\n",
      "PROBLEM INFO\n",
      "~~~~~~~~~~~~\n",
      "| info      | detail    | variable   | count [cat,tot]   | other      | count [cat,tot]    |\n",
      "|-----------|-----------|------------|-------------------|------------|--------------------|\n",
      "| model     | sflp      | positive   | [1, 2]            | objective  | [1, 1]             |\n",
      "| interface | feloopy   | binary     | [0, 0]            | constraint | [0, 0]             |\n",
      "| solver    | GA        | integer    | [0, 0]            |            |                    |\n",
      "| direction | ['min']   | free       | [0, 0]            |            |                    |\n",
      "| method    | heuristic | tot        | [1, 2]            |            |                    |\n",
      "~~~~~~~~~~~~\n",
      "\n",
      "~~~~~~~~~~\n",
      "SOLVE INFO\n",
      "~~~~~~~~~~\n",
      "objective:  1324.2064498225925\n",
      "cpu time [feloopy]:  116719.60000239778 (microseconds) 00:00:00 (h, m, s)\n",
      "~~~~~~~~~\n",
      "\n",
      "x:  [ 7.02246238 14.77621679]\n"
     ]
    }
   ],
   "source": [
    "#Report\n",
    "m.report()\n",
    "\n",
    "#Display\n",
    "m.dis(['x'])"
   ]
  },
  {
   "attachments": {},
   "cell_type": "markdown",
   "metadata": {},
   "source": [
    "### 5 | Chebyshev distance"
   ]
  },
  {
   "attachments": {},
   "cell_type": "markdown",
   "metadata": {},
   "source": [
    "### Setting"
   ]
  },
  {
   "cell_type": "code",
   "execution_count": 299,
   "metadata": {},
   "outputs": [],
   "source": [
    "problem_name = 'sflp'\n",
    "solution_method = 'heuristic'\n",
    "interface = 'feloopy'\n",
    "solver = 'GA'"
   ]
  },
  {
   "attachments": {},
   "cell_type": "markdown",
   "metadata": {},
   "source": [
    "### Model"
   ]
  },
  {
   "cell_type": "code",
   "execution_count": 300,
   "metadata": {},
   "outputs": [],
   "source": [
    "def instance(X):\n",
    "\n",
    "    # Environment\n",
    "    m = model(solution_method, problem_name, interface, X)\n",
    "\n",
    "    # Dataset\n",
    "    coords = np.array([[0, 0], [3, 16], [18, 2], [8, 18], [20, 2]])\n",
    "    w = np.array([5, 22, 41, 60, 34])\n",
    "    p = 10**9\n",
    "\n",
    "    # Sets\n",
    "    I = m.set(len(coords)) \n",
    "    J = m.set(2)  \n",
    "\n",
    "    # Variables\n",
    "    x = m.pvar('x', [J], [0, 100])\n",
    "\n",
    "    # Objective\n",
    "    m.obj(sum( w[i] * ((x[:,0] - coords[i][0])**p + (x[:,1] - coords[i][1])**p )**(1/p) for i in I))\n",
    "\n",
    "    # Solve\n",
    "    m.sol(['min'], 'GA')\n",
    "\n",
    "    return m[X]\n",
    "\n",
    "m = implement(instance)\n",
    "m.sol()"
   ]
  },
  {
   "attachments": {},
   "cell_type": "markdown",
   "metadata": {},
   "source": [
    "### Result"
   ]
  },
  {
   "cell_type": "code",
   "execution_count": 301,
   "metadata": {},
   "outputs": [
    {
     "name": "stdout",
     "output_type": "stream",
     "text": [
      "\n",
      "~~~~~~~~~~~~~~\n",
      "FELOOPY v0.2.4\n",
      "~~~~~~~~~~~~~~\n",
      "\n",
      "~~~~~~~~~~~\n",
      "DATE & TIME\n",
      "~~~~~~~~~~~\n",
      "2023-04-18 00:31:21\n",
      "Tue, Apr 18, 2023\n",
      "\n",
      "\n",
      "~~~~~~~~~~~~\n",
      "PROBLEM INFO\n",
      "~~~~~~~~~~~~\n",
      "| info      | detail    | variable   | count [cat,tot]   | other      | count [cat,tot]    |\n",
      "|-----------|-----------|------------|-------------------|------------|--------------------|\n",
      "| model     | sflp      | positive   | [1, 2]            | objective  | [1, 1]             |\n",
      "| interface | feloopy   | binary     | [0, 0]            | constraint | [0, 0]             |\n",
      "| solver    | GA        | integer    | [0, 0]            |            |                    |\n",
      "| direction | ['min']   | free       | [0, 0]            |            |                    |\n",
      "| method    | heuristic | tot        | [1, 2]            |            |                    |\n",
      "~~~~~~~~~~~~\n",
      "\n",
      "~~~~~~~~~~\n",
      "SOLVE INFO\n",
      "~~~~~~~~~~\n",
      "objective:  inf\n",
      "cpu time [feloopy]:  132583.59999963432 (microseconds) 00:00:00 (h, m, s)\n",
      "~~~~~~~~~\n",
      "\n",
      "x:  [22.79893237  4.84046819]\n"
     ]
    }
   ],
   "source": [
    "#Report\n",
    "m.report()\n",
    "\n",
    "#Display\n",
    "m.dis(['x'])"
   ]
  },
  {
   "attachments": {},
   "cell_type": "markdown",
   "metadata": {},
   "source": []
  }
 ],
 "metadata": {
  "kernelspec": {
   "display_name": "Python 3",
   "language": "python",
   "name": "python3"
  },
  "language_info": {
   "codemirror_mode": {
    "name": "ipython",
    "version": 3
   },
   "file_extension": ".py",
   "mimetype": "text/x-python",
   "name": "python",
   "nbconvert_exporter": "python",
   "pygments_lexer": "ipython3",
   "version": "3.10.0"
  },
  "orig_nbformat": 4
 },
 "nbformat": 4,
 "nbformat_minor": 2
}
